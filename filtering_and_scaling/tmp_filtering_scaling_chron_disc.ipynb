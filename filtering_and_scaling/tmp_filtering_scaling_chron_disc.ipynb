{
 "cells": [
  {
   "cell_type": "code",
   "execution_count": null,
   "metadata": {
    "collapsed": true
   },
   "outputs": [],
   "source": [
    "# Reading a table with sd for each type of pain\n",
    "\n",
    "sd.table <- read.csv(\n",
    "  file = '/mnt/polyomica/projects/mv_gwas/data/chronic_discovery/cases_controls_chronic.csv',\n",
    "  header = TRUE,\n",
    "  sep = ';',\n",
    "  skip = 0,\n",
    "  stringsAsFactors=FALSE,\n",
    "  dec=','\n",
    ")\n",
    "\n",
    "ptpse=c('Back', 'Neck', 'Hip', 'Face', 'Stom','Knee', 'Head')\n",
    "for (col.number in 2:ncol(sd.table)) {\n",
    "\n",
    "    pain.type=ptpse[col.number-1]\n",
    "    sd.trait <- sd.table[5, col.number]\n",
    "\n",
    "    # Reading raw GWAS-file\n",
    "\n",
    "    gwas.name <- paste('MV', pain.type, 'Disc_gwas.BGEN.stats.txt', sep = \"_\")\n",
    "    raw.gwas <- data.table::fread(\n",
    "      input = paste0('/mnt/polyomica/projects/mv_gwas/data/chronic_discovery/raw/',gwas.name),\n",
    "        data.table=F,\n",
    "          header=T,\n",
    "          stringsAsFactors=F)\n",
    "    \n",
    "    #\n",
    "    gwas.info.filtered <- filter(raw.gwas,INFO >= 0.7) # Filtering by info\n",
    "    gwas.info.filtered=mutate(gwas.info.filtered,MAF=pmin(A1FREQ,1-A1FREQ))\n",
    "    gwas.info.filtered <- filter(gwas.info.filtered,MAF >= 1e-5) # Filtering by info\n",
    "\n",
    "    gwas.standart <- gwas.MAF.filtered\n",
    "    gwas.standart$BETA <- gwas.standart$BETA / sd.trait\n",
    "    gwas.standart$SE <- gwas.standart$SE / sd.trait\n",
    "    \n",
    "    # Writing an output file\n",
    "\n",
    "    data.table::fwrite(gwas.standart, \n",
    "        file = paste0('/mnt/polyomica/projects/mv_gwas/data/chronic_discovery/scaled_filtered/', gwas.name))\n",
    "\n",
    "}"
   ]
  },
  {
   "cell_type": "code",
   "execution_count": null,
   "metadata": {
    "collapsed": true
   },
   "outputs": [],
   "source": [
    "# Reading a table with sd for each type of pain\n",
    "\n",
    "sd.table <- read.csv(\n",
    "  file = '/mnt/polyomica/projects/mv_gwas/data/chronic_discovery/cases_controls_chronic.csv',\n",
    "  header = TRUE,\n",
    "  sep = ';',\n",
    "  skip = 0,\n",
    "  stringsAsFactors=FALSE,\n",
    "  dec=','\n",
    ")\n",
    "\n",
    "for (col.number in 2:ncol(sd.table)) {\n",
    "\n",
    "  for (pain.type in c('Back', 'Neck', 'Hip', 'Face', 'Stom','Knee', 'Head')) {\n",
    "\n",
    "    sd.trait <- sd.table[5, col.number]\n",
    "\n",
    "    # Reading raw GWAS-file\n",
    "\n",
    "    gwas.name <- paste('MV', pain.type, 'Disc_gwas.BGEN.stats.txt', sep = \"_\")\n",
    "\n",
    "    raw.gwas <- data.table::fread(\n",
    "      input = paste0(\n",
    "        '/mnt/polyomica/projects/mv_gwas/data/chronic_discovery/raw/',\n",
    "         gwas.name\n",
    "      )\n",
    "    )\n",
    "\n",
    "    # MAF computation & Filtering\n",
    "\n",
    "    gwas.info.filtered <- filter(raw.gwas,INFO >= 0.7) # Filtering by info\n",
    "gwas.info.filtered=mutate(gwas.info.filtered,MAF=pmin(A1FREQ,1-A1FREQ))\n",
    "gwas.info.filtered <- filter(gwas.info.filtered,MAF >= 1e-5) # Filtering by info\n",
    "    \n",
    "\n",
    "    gwas.standart <- gwas.MAF.filtered\n",
    "\n",
    "    gwas.standart$BETA <- gwas.standart$BETA / sd.trait\n",
    "\n",
    "    gwas.standart$SE <- gwas.standart$SE / sd.trait\n",
    "\n",
    "    # Writing an output file\n",
    "\n",
    "    data.table::fwrite(gwas.standart, file = paste0('/mnt/polyomica/projects/mv_gwas/data/chronic_discovery/scaled_filtered/', gwas.name))\n",
    "\n",
    "}\n"
   ]
  },
  {
   "cell_type": "code",
   "execution_count": 2,
   "metadata": {
    "collapsed": false
   },
   "outputs": [],
   "source": [
    "sd.table <- read.csv(\n",
    "  file = '/mnt/polyomica/projects/mv_gwas/data/chronic_discovery/cases_controls_chronic.csv',\n",
    "  header = TRUE,\n",
    "  sep = ';',\n",
    "  skip = 0,\n",
    "  stringsAsFactors=FALSE,\n",
    "  dec=','\n",
    ")\n"
   ]
  },
  {
   "cell_type": "code",
   "execution_count": 3,
   "metadata": {
    "collapsed": false
   },
   "outputs": [
    {
     "data": {
      "text/html": [
       "<table>\n",
       "<thead><tr><th scope=col>X</th><th scope=col>back</th><th scope=col>neck</th><th scope=col>hip</th><th scope=col>face</th><th scope=col>stom</th><th scope=col>knee</th><th scope=col>head</th></tr></thead>\n",
       "<tbody>\n",
       "\t<tr><td>controls    </td><td>2.174930e+05</td><td>2.217130e+05</td><td>2.407000e+05</td><td>2.626180e+05</td><td>2.522610e+05</td><td>2.187080e+05</td><td>2.405790e+05</td></tr>\n",
       "\t<tr><td>cases       </td><td>4.750700e+04</td><td>4.328700e+04</td><td>2.430000e+04</td><td>2.382000e+03</td><td>1.273900e+04</td><td>4.629200e+04</td><td>2.442100e+04</td></tr>\n",
       "\t<tr><td>prev        </td><td>1.792717e-01</td><td>1.633472e-01</td><td>9.169811e-02</td><td>8.988679e-03</td><td>4.807170e-02</td><td>1.746868e-01</td><td>9.215472e-02</td></tr>\n",
       "\t<tr><td>var         </td><td>1.471334e-01</td><td>1.366649e-01</td><td>8.328957e-02</td><td>8.907883e-03</td><td>4.576081e-02</td><td>1.441713e-01</td><td>8.366223e-02</td></tr>\n",
       "\t<tr><td>sd          </td><td>3.835797e-01</td><td>3.696821e-01</td><td>2.885993e-01</td><td>9.438158e-02</td><td>2.139178e-01</td><td>3.796990e-01</td><td>2.892442e-01</td></tr>\n",
       "</tbody>\n",
       "</table>\n"
      ],
      "text/latex": [
       "\\begin{tabular}{r|llllllll}\n",
       " X & back & neck & hip & face & stom & knee & head\\\\\n",
       "\\hline\n",
       "\t controls     & 2.174930e+05 & 2.217130e+05 & 2.407000e+05 & 2.626180e+05 & 2.522610e+05 & 2.187080e+05 & 2.405790e+05\\\\\n",
       "\t cases        & 4.750700e+04 & 4.328700e+04 & 2.430000e+04 & 2.382000e+03 & 1.273900e+04 & 4.629200e+04 & 2.442100e+04\\\\\n",
       "\t prev         & 1.792717e-01 & 1.633472e-01 & 9.169811e-02 & 8.988679e-03 & 4.807170e-02 & 1.746868e-01 & 9.215472e-02\\\\\n",
       "\t var          & 1.471334e-01 & 1.366649e-01 & 8.328957e-02 & 8.907883e-03 & 4.576081e-02 & 1.441713e-01 & 8.366223e-02\\\\\n",
       "\t sd           & 3.835797e-01 & 3.696821e-01 & 2.885993e-01 & 9.438158e-02 & 2.139178e-01 & 3.796990e-01 & 2.892442e-01\\\\\n",
       "\\end{tabular}\n"
      ],
      "text/markdown": [
       "\n",
       "X | back | neck | hip | face | stom | knee | head | \n",
       "|---|---|---|---|---|\n",
       "| controls     | 2.174930e+05 | 2.217130e+05 | 2.407000e+05 | 2.626180e+05 | 2.522610e+05 | 2.187080e+05 | 2.405790e+05 | \n",
       "| cases        | 4.750700e+04 | 4.328700e+04 | 2.430000e+04 | 2.382000e+03 | 1.273900e+04 | 4.629200e+04 | 2.442100e+04 | \n",
       "| prev         | 1.792717e-01 | 1.633472e-01 | 9.169811e-02 | 8.988679e-03 | 4.807170e-02 | 1.746868e-01 | 9.215472e-02 | \n",
       "| var          | 1.471334e-01 | 1.366649e-01 | 8.328957e-02 | 8.907883e-03 | 4.576081e-02 | 1.441713e-01 | 8.366223e-02 | \n",
       "| sd           | 3.835797e-01 | 3.696821e-01 | 2.885993e-01 | 9.438158e-02 | 2.139178e-01 | 3.796990e-01 | 2.892442e-01 | \n",
       "\n",
       "\n"
      ],
      "text/plain": [
       "  X        back         neck         hip          face         stom        \n",
       "1 controls 2.174930e+05 2.217130e+05 2.407000e+05 2.626180e+05 2.522610e+05\n",
       "2 cases    4.750700e+04 4.328700e+04 2.430000e+04 2.382000e+03 1.273900e+04\n",
       "3 prev     1.792717e-01 1.633472e-01 9.169811e-02 8.988679e-03 4.807170e-02\n",
       "4 var      1.471334e-01 1.366649e-01 8.328957e-02 8.907883e-03 4.576081e-02\n",
       "5 sd       3.835797e-01 3.696821e-01 2.885993e-01 9.438158e-02 2.139178e-01\n",
       "  knee         head        \n",
       "1 2.187080e+05 2.405790e+05\n",
       "2 4.629200e+04 2.442100e+04\n",
       "3 1.746868e-01 9.215472e-02\n",
       "4 1.441713e-01 8.366223e-02\n",
       "5 3.796990e-01 2.892442e-01"
      ]
     },
     "metadata": {},
     "output_type": "display_data"
    }
   ],
   "source": [
    "sd.table"
   ]
  },
  {
   "cell_type": "code",
   "execution_count": 8,
   "metadata": {
    "collapsed": false
   },
   "outputs": [
    {
     "data": {
      "text/html": [
       "<table>\n",
       "<thead><tr><th></th><th scope=col>back</th><th scope=col>neck</th><th scope=col>hip</th><th scope=col>face</th></tr></thead>\n",
       "<tbody>\n",
       "\t<tr><th scope=row>2</th><td>0.1471334  </td><td>0.1366649  </td><td>0.08328957 </td><td>0.008907883</td></tr>\n",
       "</tbody>\n",
       "</table>\n"
      ],
      "text/latex": [
       "\\begin{tabular}{r|llll}\n",
       "  & back & neck & hip & face\\\\\n",
       "\\hline\n",
       "\t2 & 0.1471334   & 0.1366649   & 0.08328957  & 0.008907883\\\\\n",
       "\\end{tabular}\n"
      ],
      "text/markdown": [
       "\n",
       "| <!--/--> | back | neck | hip | face | \n",
       "|---|\n",
       "| 2 | 0.1471334   | 0.1366649   | 0.08328957  | 0.008907883 | \n",
       "\n",
       "\n"
      ],
      "text/plain": [
       "  back      neck      hip        face       \n",
       "2 0.1471334 0.1366649 0.08328957 0.008907883"
      ]
     },
     "metadata": {},
     "output_type": "display_data"
    }
   ],
   "source": [
    "l=sd.table[2,2:5]/(sd.table[1,2:5]+sd.table[2,2:5])\n",
    "l*(1-l)"
   ]
  },
  {
   "cell_type": "code",
   "execution_count": null,
   "metadata": {
    "collapsed": true
   },
   "outputs": [],
   "source": [
    "ptpse=c('Back', 'Neck', 'Hip', 'Face', 'Stom','Knee', 'Head')\n",
    "for (col.number in 2:ncol(sd.table)) {\n",
    "\n",
    "    pain.type=ptpse[col.number-1]\n",
    "    sd.trait <- sd.table[5, col.number]\n",
    "\n",
    "    # Reading raw GWAS-file\n",
    "\n",
    "    gwas.name <- paste('MV', pain.type, 'Disc_gwas.BGEN.stats.txt', sep = \"_\")\n",
    "    raw.gwas <- data.table::fread(\n",
    "      input = paste0('/mnt/polyomica/projects/mv_gwas/data/chronic_discovery/raw/',gwas.name),\n",
    "        data.table=F,\n",
    "          header=T,\n",
    "          stringsAsFactors=F)\n",
    "    \n",
    "    #\n",
    "    gwas.info.filtered <- filter(raw.gwas,INFO >= 0.7) # Filtering by info\n",
    "    gwas.info.filtered=mutate(gwas.info.filtered,MAF=pmin(A1FREQ,1-A1FREQ))\n",
    "    gwas.info.filtered <- filter(gwas.info.filtered,MAF >= 1e-5) # Filtering by info\n",
    "\n",
    "    gwas.standart <- gwas.MAF.filtered\n",
    "    gwas.standart$BETA <- gwas.standart$BETA / sd.trait\n",
    "    gwas.standart$SE <- gwas.standart$SE / sd.trait\n",
    "    \n",
    "    # Writing an output file\n",
    "\n",
    "    data.table::fwrite(gwas.standart, \n",
    "        file = paste0('/mnt/polyomica/projects/mv_gwas/data/chronic_discovery/scaled_filtered/', gwas.name))\n",
    "\n",
    "}"
   ]
  },
  {
   "cell_type": "code",
   "execution_count": 34,
   "metadata": {
    "collapsed": true
   },
   "outputs": [],
   "source": [
    "col.number=2"
   ]
  },
  {
   "cell_type": "code",
   "execution_count": 35,
   "metadata": {
    "collapsed": false
   },
   "outputs": [],
   "source": [
    "ptpse=c('Back', 'Neck', 'Hip', 'Face', 'Stom','Knee', 'Head')"
   ]
  },
  {
   "cell_type": "code",
   "execution_count": 36,
   "metadata": {
    "collapsed": true
   },
   "outputs": [],
   "source": [
    " pain.type=ptpse[col.number-1]\n",
    "    sd.trait <- sd.table[5, col.number]"
   ]
  },
  {
   "cell_type": "code",
   "execution_count": 37,
   "metadata": {
    "collapsed": false
   },
   "outputs": [
    {
     "data": {
      "text/html": [
       "'Back'"
      ],
      "text/latex": [
       "'Back'"
      ],
      "text/markdown": [
       "'Back'"
      ],
      "text/plain": [
       "[1] \"Back\""
      ]
     },
     "metadata": {},
     "output_type": "display_data"
    }
   ],
   "source": [
    "pain.type"
   ]
  },
  {
   "cell_type": "code",
   "execution_count": 38,
   "metadata": {
    "collapsed": false
   },
   "outputs": [
    {
     "data": {
      "text/html": [
       "0.383579661"
      ],
      "text/latex": [
       "0.383579661"
      ],
      "text/markdown": [
       "0.383579661"
      ],
      "text/plain": [
       "[1] 0.3835797"
      ]
     },
     "metadata": {},
     "output_type": "display_data"
    }
   ],
   "source": [
    "sd.trait"
   ]
  },
  {
   "cell_type": "code",
   "execution_count": 45,
   "metadata": {
    "collapsed": false
   },
   "outputs": [],
   "source": [
    "gwas.name <- paste('MV', pain.type, 'Disc_gwas.BGEN.stats.txt', sep = \"_\")\n",
    "\n",
    "    raw.gwas <- data.table::fread(\n",
    "      input = paste0('/mnt/polyomica/projects/mv_gwas/data/chronic_discovery/raw/',gwas.name),\n",
    "        data.table=F,\n",
    "          header=T,\n",
    "          stringsAsFactors=F\n",
    "    )"
   ]
  },
  {
   "cell_type": "code",
   "execution_count": 46,
   "metadata": {
    "collapsed": false
   },
   "outputs": [
    {
     "data": {
      "text/html": [
       "'MV_Back_Disc_gwas.BGEN.stats.txt'"
      ],
      "text/latex": [
       "'MV\\_Back\\_Disc\\_gwas.BGEN.stats.txt'"
      ],
      "text/markdown": [
       "'MV_Back_Disc_gwas.BGEN.stats.txt'"
      ],
      "text/plain": [
       "[1] \"MV_Back_Disc_gwas.BGEN.stats.txt\""
      ]
     },
     "metadata": {},
     "output_type": "display_data"
    }
   ],
   "source": [
    "gwas.name"
   ]
  },
  {
   "cell_type": "code",
   "execution_count": 47,
   "metadata": {
    "collapsed": false
   },
   "outputs": [
    {
     "data": {
      "text/html": [
       "<table>\n",
       "<thead><tr><th scope=col>SNP</th><th scope=col>CHR</th><th scope=col>BP</th><th scope=col>GENPOS</th><th scope=col>ALLELE1</th><th scope=col>ALLELE0</th><th scope=col>A1FREQ</th><th scope=col>INFO</th><th scope=col>CHISQ_LINREG</th><th scope=col>P_LINREG</th><th scope=col>BETA</th><th scope=col>SE</th><th scope=col>CHISQ_BOLT_LMM_INF</th><th scope=col>P_BOLT_LMM_INF</th></tr></thead>\n",
       "<tbody>\n",
       "\t<tr><td>rs561109771</td><td>1          </td><td>11063      </td><td>0          </td><td>T          </td><td>G          </td><td>0.999954   </td><td>0.815568   </td><td>0.964743   </td><td>0.330      </td><td> 0.3515530 </td><td>0.3646810  </td><td>0.929296   </td><td>0.340      </td></tr>\n",
       "\t<tr><td>rs562993331</td><td>1          </td><td>13259      </td><td>0          </td><td>G          </td><td>A          </td><td>0.999727   </td><td>0.809836   </td><td>0.618911   </td><td>0.430      </td><td>-0.0297162 </td><td>0.0345345  </td><td>0.740422   </td><td>0.390      </td></tr>\n",
       "\t<tr><td>rs578081284</td><td>1          </td><td>17641      </td><td>0          </td><td>G          </td><td>A          </td><td>0.999197   </td><td>0.851463   </td><td>0.551274   </td><td>0.460      </td><td>-0.0167082 </td><td>0.0201837  </td><td>0.685265   </td><td>0.410      </td></tr>\n",
       "\t<tr><td>rs565824523</td><td>1          </td><td>48327      </td><td>0          </td><td>C          </td><td>A          </td><td>0.999642   </td><td>0.751423   </td><td>0.728784   </td><td>0.390      </td><td>-0.0338472 </td><td>0.0336096  </td><td>1.014190   </td><td>0.310      </td></tr>\n",
       "\t<tr><td>rs528394432</td><td>1          </td><td>48328      </td><td>0          </td><td>A          </td><td>T          </td><td>0.999642   </td><td>0.751423   </td><td>0.728784   </td><td>0.390      </td><td>-0.0338472 </td><td>0.0336096  </td><td>1.014190   </td><td>0.310      </td></tr>\n",
       "\t<tr><td>rs543052237</td><td>1          </td><td>49988      </td><td>0          </td><td>T          </td><td>A          </td><td>0.999882   </td><td>0.751238   </td><td>3.384830   </td><td>0.066      </td><td>-0.1903050 </td><td>0.1036010  </td><td>3.374240   </td><td>0.066      </td></tr>\n",
       "</tbody>\n",
       "</table>\n"
      ],
      "text/latex": [
       "\\begin{tabular}{r|llllllllllllll}\n",
       " SNP & CHR & BP & GENPOS & ALLELE1 & ALLELE0 & A1FREQ & INFO & CHISQ\\_LINREG & P\\_LINREG & BETA & SE & CHISQ\\_BOLT\\_LMM\\_INF & P\\_BOLT\\_LMM\\_INF\\\\\n",
       "\\hline\n",
       "\t rs561109771 & 1           & 11063       & 0           & T           & G           & 0.999954    & 0.815568    & 0.964743    & 0.330       &  0.3515530  & 0.3646810   & 0.929296    & 0.340      \\\\\n",
       "\t rs562993331 & 1           & 13259       & 0           & G           & A           & 0.999727    & 0.809836    & 0.618911    & 0.430       & -0.0297162  & 0.0345345   & 0.740422    & 0.390      \\\\\n",
       "\t rs578081284 & 1           & 17641       & 0           & G           & A           & 0.999197    & 0.851463    & 0.551274    & 0.460       & -0.0167082  & 0.0201837   & 0.685265    & 0.410      \\\\\n",
       "\t rs565824523 & 1           & 48327       & 0           & C           & A           & 0.999642    & 0.751423    & 0.728784    & 0.390       & -0.0338472  & 0.0336096   & 1.014190    & 0.310      \\\\\n",
       "\t rs528394432 & 1           & 48328       & 0           & A           & T           & 0.999642    & 0.751423    & 0.728784    & 0.390       & -0.0338472  & 0.0336096   & 1.014190    & 0.310      \\\\\n",
       "\t rs543052237 & 1           & 49988       & 0           & T           & A           & 0.999882    & 0.751238    & 3.384830    & 0.066       & -0.1903050  & 0.1036010   & 3.374240    & 0.066      \\\\\n",
       "\\end{tabular}\n"
      ],
      "text/markdown": [
       "\n",
       "SNP | CHR | BP | GENPOS | ALLELE1 | ALLELE0 | A1FREQ | INFO | CHISQ_LINREG | P_LINREG | BETA | SE | CHISQ_BOLT_LMM_INF | P_BOLT_LMM_INF | \n",
       "|---|---|---|---|---|---|\n",
       "| rs561109771 | 1           | 11063       | 0           | T           | G           | 0.999954    | 0.815568    | 0.964743    | 0.330       |  0.3515530  | 0.3646810   | 0.929296    | 0.340       | \n",
       "| rs562993331 | 1           | 13259       | 0           | G           | A           | 0.999727    | 0.809836    | 0.618911    | 0.430       | -0.0297162  | 0.0345345   | 0.740422    | 0.390       | \n",
       "| rs578081284 | 1           | 17641       | 0           | G           | A           | 0.999197    | 0.851463    | 0.551274    | 0.460       | -0.0167082  | 0.0201837   | 0.685265    | 0.410       | \n",
       "| rs565824523 | 1           | 48327       | 0           | C           | A           | 0.999642    | 0.751423    | 0.728784    | 0.390       | -0.0338472  | 0.0336096   | 1.014190    | 0.310       | \n",
       "| rs528394432 | 1           | 48328       | 0           | A           | T           | 0.999642    | 0.751423    | 0.728784    | 0.390       | -0.0338472  | 0.0336096   | 1.014190    | 0.310       | \n",
       "| rs543052237 | 1           | 49988       | 0           | T           | A           | 0.999882    | 0.751238    | 3.384830    | 0.066       | -0.1903050  | 0.1036010   | 3.374240    | 0.066       | \n",
       "\n",
       "\n"
      ],
      "text/plain": [
       "  SNP         CHR BP    GENPOS ALLELE1 ALLELE0 A1FREQ   INFO     CHISQ_LINREG\n",
       "1 rs561109771 1   11063 0      T       G       0.999954 0.815568 0.964743    \n",
       "2 rs562993331 1   13259 0      G       A       0.999727 0.809836 0.618911    \n",
       "3 rs578081284 1   17641 0      G       A       0.999197 0.851463 0.551274    \n",
       "4 rs565824523 1   48327 0      C       A       0.999642 0.751423 0.728784    \n",
       "5 rs528394432 1   48328 0      A       T       0.999642 0.751423 0.728784    \n",
       "6 rs543052237 1   49988 0      T       A       0.999882 0.751238 3.384830    \n",
       "  P_LINREG BETA       SE        CHISQ_BOLT_LMM_INF P_BOLT_LMM_INF\n",
       "1 0.330     0.3515530 0.3646810 0.929296           0.340         \n",
       "2 0.430    -0.0297162 0.0345345 0.740422           0.390         \n",
       "3 0.460    -0.0167082 0.0201837 0.685265           0.410         \n",
       "4 0.390    -0.0338472 0.0336096 1.014190           0.310         \n",
       "5 0.390    -0.0338472 0.0336096 1.014190           0.310         \n",
       "6 0.066    -0.1903050 0.1036010 3.374240           0.066         "
      ]
     },
     "metadata": {},
     "output_type": "display_data"
    }
   ],
   "source": [
    "head(raw.gwas)"
   ]
  },
  {
   "cell_type": "code",
   "execution_count": 48,
   "metadata": {
    "collapsed": false
   },
   "outputs": [
    {
     "name": "stderr",
     "output_type": "stream",
     "text": [
      "\n",
      "Attaching package: ‘dplyr’\n",
      "\n",
      "The following objects are masked from ‘package:stats’:\n",
      "\n",
      "    filter, lag\n",
      "\n",
      "The following objects are masked from ‘package:base’:\n",
      "\n",
      "    intersect, setdiff, setequal, union\n",
      "\n"
     ]
    }
   ],
   "source": [
    "library(dplyr)"
   ]
  },
  {
   "cell_type": "code",
   "execution_count": 49,
   "metadata": {
    "collapsed": true
   },
   "outputs": [],
   "source": [
    "gwas.info.filtered <- filter(raw.gwas,INFO >= 0.7) # Filtering by info\n",
    "gwas.info.filtered=mutate(gwas.info.filtered,MAF=pmin(A1FREQ,1-A1FREQ))\n",
    "gwas.info.filtered <- filter(gwas.info.filtered,MAF >= 1e-5) # Filtering by info\n",
    "    \n",
    "\n",
    "    gwas.standart <- gwas.MAF.filtered\n",
    "\n",
    "    gwas.standart$BETA <- gwas.standart$BETA / sd.trait\n",
    "\n",
    "    gwas.standart$SE <- gwas.standart$SE / sd.trait\n"
   ]
  },
  {
   "cell_type": "code",
   "execution_count": 50,
   "metadata": {
    "collapsed": false
   },
   "outputs": [
    {
     "data": {
      "text/html": [
       "<ol class=list-inline>\n",
       "\t<li>27775880</li>\n",
       "\t<li>14</li>\n",
       "</ol>\n"
      ],
      "text/latex": [
       "\\begin{enumerate*}\n",
       "\\item 27775880\n",
       "\\item 14\n",
       "\\end{enumerate*}\n"
      ],
      "text/markdown": [
       "1. 27775880\n",
       "2. 14\n",
       "\n",
       "\n"
      ],
      "text/plain": [
       "[1] 27775880       14"
      ]
     },
     "metadata": {},
     "output_type": "display_data"
    },
    {
     "data": {
      "text/html": [
       "<ol class=list-inline>\n",
       "\t<li>26517153</li>\n",
       "\t<li>15</li>\n",
       "</ol>\n"
      ],
      "text/latex": [
       "\\begin{enumerate*}\n",
       "\\item 26517153\n",
       "\\item 15\n",
       "\\end{enumerate*}\n"
      ],
      "text/markdown": [
       "1. 26517153\n",
       "2. 15\n",
       "\n",
       "\n"
      ],
      "text/plain": [
       "[1] 26517153       15"
      ]
     },
     "metadata": {},
     "output_type": "display_data"
    }
   ],
   "source": [
    "dim(raw.gwas)\n",
    "dim(gwas.standart)"
   ]
  },
  {
   "cell_type": "code",
   "execution_count": 43,
   "metadata": {
    "collapsed": false
   },
   "outputs": [
    {
     "data": {
      "text/html": [
       "<ol class=list-inline>\n",
       "\t<li>27775880</li>\n",
       "\t<li>14</li>\n",
       "</ol>\n"
      ],
      "text/latex": [
       "\\begin{enumerate*}\n",
       "\\item 27775880\n",
       "\\item 14\n",
       "\\end{enumerate*}\n"
      ],
      "text/markdown": [
       "1. 27775880\n",
       "2. 14\n",
       "\n",
       "\n"
      ],
      "text/plain": [
       "[1] 27775880       14"
      ]
     },
     "metadata": {},
     "output_type": "display_data"
    },
    {
     "data": {
      "text/html": [
       "<ol class=list-inline>\n",
       "\t<li>26517153</li>\n",
       "\t<li>15</li>\n",
       "</ol>\n"
      ],
      "text/latex": [
       "\\begin{enumerate*}\n",
       "\\item 26517153\n",
       "\\item 15\n",
       "\\end{enumerate*}\n"
      ],
      "text/markdown": [
       "1. 26517153\n",
       "2. 15\n",
       "\n",
       "\n"
      ],
      "text/plain": [
       "[1] 26517153       15"
      ]
     },
     "metadata": {},
     "output_type": "display_data"
    }
   ],
   "source": [
    "dim(raw.gwas)\n",
    "dim(gwas.standart)"
   ]
  },
  {
   "cell_type": "code",
   "execution_count": 51,
   "metadata": {
    "collapsed": true
   },
   "outputs": [],
   "source": [
    "data.table::fwrite(gwas.standart, \n",
    "        file = paste0('/mnt/polyomica/projects/mv_gwas/data/chronic_discovery/scaled_filtered/', gwas.name))"
   ]
  },
  {
   "cell_type": "code",
   "execution_count": 52,
   "metadata": {
    "collapsed": false
   },
   "outputs": [
    {
     "data": {
      "text/html": [
       "'/mnt/polyomica/projects/mv_gwas/data/chronic_discovery/scaled_filtered/MV_Back_Disc_gwas.BGEN.stats.txt'"
      ],
      "text/latex": [
       "'/mnt/polyomica/projects/mv\\_gwas/data/chronic\\_discovery/scaled\\_filtered/MV\\_Back\\_Disc\\_gwas.BGEN.stats.txt'"
      ],
      "text/markdown": [
       "'/mnt/polyomica/projects/mv_gwas/data/chronic_discovery/scaled_filtered/MV_Back_Disc_gwas.BGEN.stats.txt'"
      ],
      "text/plain": [
       "[1] \"/mnt/polyomica/projects/mv_gwas/data/chronic_discovery/scaled_filtered/MV_Back_Disc_gwas.BGEN.stats.txt\""
      ]
     },
     "metadata": {},
     "output_type": "display_data"
    }
   ],
   "source": [
    "paste0('/mnt/polyomica/projects/mv_gwas/data/chronic_discovery/scaled_filtered/', gwas.name)"
   ]
  },
  {
   "cell_type": "code",
   "execution_count": 53,
   "metadata": {
    "collapsed": true
   },
   "outputs": [],
   "source": [
    "gwas.name <- paste('MV', pain.type, 'Disc_gwas.BGEN.stats.txt', sep = \"_\")"
   ]
  },
  {
   "cell_type": "code",
   "execution_count": 54,
   "metadata": {
    "collapsed": false
   },
   "outputs": [
    {
     "data": {
      "text/html": [
       "'MV_Back_Disc_gwas.BGEN.stats.txt'"
      ],
      "text/latex": [
       "'MV\\_Back\\_Disc\\_gwas.BGEN.stats.txt'"
      ],
      "text/markdown": [
       "'MV_Back_Disc_gwas.BGEN.stats.txt'"
      ],
      "text/plain": [
       "[1] \"MV_Back_Disc_gwas.BGEN.stats.txt\""
      ]
     },
     "metadata": {},
     "output_type": "display_data"
    }
   ],
   "source": [
    "gwas.name\n"
   ]
  },
  {
   "cell_type": "code",
   "execution_count": null,
   "metadata": {
    "collapsed": true
   },
   "outputs": [],
   "source": []
  }
 ],
 "metadata": {
  "anaconda-cloud": {},
  "kernelspec": {
   "display_name": "R",
   "language": "R",
   "name": "ir"
  },
  "language_info": {
   "codemirror_mode": "r",
   "file_extension": ".r",
   "mimetype": "text/x-r-source",
   "name": "R",
   "pygments_lexer": "r",
   "version": "3.5.1"
  }
 },
 "nbformat": 4,
 "nbformat_minor": 2
}
