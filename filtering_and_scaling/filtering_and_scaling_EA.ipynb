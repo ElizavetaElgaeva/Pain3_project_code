{
 "cells": [
  {
   "cell_type": "code",
   "execution_count": null,
   "metadata": {
    "collapsed": true
   },
   "outputs": [],
   "source": [
    "library(dplyr)\n",
    "\n",
    "sdtable <- read.table(\"/mnt/polyomica/projects/mv_gwas/data/chronic_replication/EA_09102018/raw/cases.controls_repl.EA.txt\",\n",
    "                     header=T,row.names=1)\n",
    "prev=sdtable[2,]/(sdtable[1,]+sdtable[2,])\n",
    "SDs=sqrt(prev*(1-prev))\n",
    "#SDs\n",
    "traits=names(SDs)\n",
    "#traits\n",
    "traits=unlist(lapply(traits,FUN = function(name){paste(toupper(substr(name, 1, 1)), substr(name, 2, nchar(name)), sep=\"\")}))\n",
    "#traits\n",
    "\n",
    "for (col.number in 1:length(traits)) {\n",
    "\n",
    "    pain.type=traits[col.number]\n",
    "    sd.trait <- as.numeric(SDs[col.number])\n",
    "\n",
    "    cat(paste0(pain.type,\";\"),\"SD:\",sd.trait,\"\\n\")\n",
    "    # Reading raw GWAS-file\n",
    "\n",
    "    gwas.name <- paste('MV', pain.type, 'Repl.EA_gwas.BGEN.stats.txt', sep = \"_\")\n",
    "    raw.gwas <- data.table::fread(\n",
    "        input = paste0('/mnt/polyomica/projects/mv_gwas/data/chronic_replication/EA_09102018/raw/',gwas.name),\n",
    "        data.table=F,header=T,stringsAsFactors=F)\n",
    "\n",
    "    #\n",
    "    gwas.info.filtered <- filter(raw.gwas,INFO >= 0.7) # Filtering by info\n",
    "    gwas.info.filtered=mutate(gwas.info.filtered,MAF=pmin(A1FREQ,1-A1FREQ))\n",
    "    gwas.MAF.filtered <- filter(gwas.info.filtered,MAF >= 1e-5) # Filtering by info\n",
    "\n",
    "    cat(\"Nsnps after filtering:\", nrow(gwas.MAF.filtered),\"\\n\")\n",
    "    gwas.standart <- gwas.MAF.filtered\n",
    "    gwas.standart$BETA <- gwas.standart$BETA / sd.trait\n",
    "    gwas.standart$SE <- gwas.standart$SE / sd.trait\n",
    "\n",
    "    # Writing an output file\n",
    "\n",
    "    data.table::fwrite(gwas.standart, \n",
    "        file = paste0('/mnt/polyomica/projects/mv_gwas/data/chronic_replication/EA_09102018/scaled_filterted/', gwas.name))\n",
    "\n",
    "}\n"
   ]
  },
  {
   "cell_type": "code",
   "execution_count": 15,
   "metadata": {
    "collapsed": false
   },
   "outputs": [
    {
     "data": {
      "text/html": [
       "<table>\n",
       "<thead><tr><th></th><th scope=col>back</th><th scope=col>neck</th><th scope=col>hip</th><th scope=col>face</th><th scope=col>stom</th><th scope=col>knee</th><th scope=col>head</th></tr></thead>\n",
       "<tbody>\n",
       "\t<tr><th scope=row>cases</th><td>0.3839892 </td><td>0.369285  </td><td>0.288521  </td><td>0.09622275</td><td>0.2146482 </td><td>0.3778871 </td><td>0.2891595 </td></tr>\n",
       "</tbody>\n",
       "</table>\n"
      ],
      "text/latex": [
       "\\begin{tabular}{r|lllllll}\n",
       "  & back & neck & hip & face & stom & knee & head\\\\\n",
       "\\hline\n",
       "\tcases & 0.3839892  & 0.369285   & 0.288521   & 0.09622275 & 0.2146482  & 0.3778871  & 0.2891595 \\\\\n",
       "\\end{tabular}\n"
      ],
      "text/markdown": [
       "\n",
       "| <!--/--> | back | neck | hip | face | stom | knee | head | \n",
       "|---|\n",
       "| cases | 0.3839892  | 0.369285   | 0.288521   | 0.09622275 | 0.2146482  | 0.3778871  | 0.2891595  | \n",
       "\n",
       "\n"
      ],
      "text/plain": [
       "      back      neck     hip      face       stom      knee      head     \n",
       "cases 0.3839892 0.369285 0.288521 0.09622275 0.2146482 0.3778871 0.2891595"
      ]
     },
     "metadata": {},
     "output_type": "display_data"
    },
    {
     "data": {
      "text/html": [
       "<ol class=list-inline>\n",
       "\t<li>'back'</li>\n",
       "\t<li>'neck'</li>\n",
       "\t<li>'hip'</li>\n",
       "\t<li>'face'</li>\n",
       "\t<li>'stom'</li>\n",
       "\t<li>'knee'</li>\n",
       "\t<li>'head'</li>\n",
       "</ol>\n"
      ],
      "text/latex": [
       "\\begin{enumerate*}\n",
       "\\item 'back'\n",
       "\\item 'neck'\n",
       "\\item 'hip'\n",
       "\\item 'face'\n",
       "\\item 'stom'\n",
       "\\item 'knee'\n",
       "\\item 'head'\n",
       "\\end{enumerate*}\n"
      ],
      "text/markdown": [
       "1. 'back'\n",
       "2. 'neck'\n",
       "3. 'hip'\n",
       "4. 'face'\n",
       "5. 'stom'\n",
       "6. 'knee'\n",
       "7. 'head'\n",
       "\n",
       "\n"
      ],
      "text/plain": [
       "[1] \"back\" \"neck\" \"hip\"  \"face\" \"stom\" \"knee\" \"head\""
      ]
     },
     "metadata": {},
     "output_type": "display_data"
    },
    {
     "data": {
      "text/html": [
       "<ol class=list-inline>\n",
       "\t<li>'Back'</li>\n",
       "\t<li>'Neck'</li>\n",
       "\t<li>'Hip'</li>\n",
       "\t<li>'Face'</li>\n",
       "\t<li>'Stom'</li>\n",
       "\t<li>'Knee'</li>\n",
       "\t<li>'Head'</li>\n",
       "</ol>\n"
      ],
      "text/latex": [
       "\\begin{enumerate*}\n",
       "\\item 'Back'\n",
       "\\item 'Neck'\n",
       "\\item 'Hip'\n",
       "\\item 'Face'\n",
       "\\item 'Stom'\n",
       "\\item 'Knee'\n",
       "\\item 'Head'\n",
       "\\end{enumerate*}\n"
      ],
      "text/markdown": [
       "1. 'Back'\n",
       "2. 'Neck'\n",
       "3. 'Hip'\n",
       "4. 'Face'\n",
       "5. 'Stom'\n",
       "6. 'Knee'\n",
       "7. 'Head'\n",
       "\n",
       "\n"
      ],
      "text/plain": [
       "[1] \"Back\" \"Neck\" \"Hip\"  \"Face\" \"Stom\" \"Knee\" \"Head\""
      ]
     },
     "metadata": {},
     "output_type": "display_data"
    }
   ],
   "source": [
    "library(dplyr)\n",
    "\n",
    "sdtable <- read.table(\"/mnt/polyomica/projects/mv_gwas/data/chronic_replication/EA_09102018/raw/cases.controls_repl.EA.txt\",\n",
    "                     header=T,row.names=1)\n",
    "prev=sdtable[2,]/(sdtable[1,]+sdtable[2,])\n",
    "SDs=sqrt(prev*(1-prev))\n",
    "SDs\n",
    "traits=names(SDs)\n",
    "traits\n",
    "traits=unlist(lapply(traits,FUN = function(name){paste(toupper(substr(name, 1, 1)), substr(name, 2, nchar(name)), sep=\"\")}))\n",
    "traits"
   ]
  },
  {
   "cell_type": "code",
   "execution_count": 16,
   "metadata": {
    "collapsed": true
   },
   "outputs": [],
   "source": [
    "pain.type=traits[1]\n",
    "gwas.name <- paste('MV', pain.type, 'Repl.EA_gwas.BGEN.stats.txt', sep = \"_\")\n",
    "raw.gwas <- data.table::fread(\n",
    "    input = paste0('/mnt/polyomica/projects/mv_gwas/data/chronic_replication/EA_09102018/raw/',gwas.name),\n",
    "    data.table=F,header=T,stringsAsFactors=F)"
   ]
  },
  {
   "cell_type": "code",
   "execution_count": 21,
   "metadata": {
    "collapsed": false
   },
   "outputs": [
    {
     "data": {
      "text/html": [
       "<ol class=list-inline>\n",
       "\t<li>27775880</li>\n",
       "\t<li>14</li>\n",
       "</ol>\n"
      ],
      "text/latex": [
       "\\begin{enumerate*}\n",
       "\\item 27775880\n",
       "\\item 14\n",
       "\\end{enumerate*}\n"
      ],
      "text/markdown": [
       "1. 27775880\n",
       "2. 14\n",
       "\n",
       "\n"
      ],
      "text/plain": [
       "[1] 27775880       14"
      ]
     },
     "metadata": {},
     "output_type": "display_data"
    }
   ],
   "source": [
    "dim(raw.gwas)"
   ]
  },
  {
   "cell_type": "code",
   "execution_count": 20,
   "metadata": {
    "collapsed": false
   },
   "outputs": [],
   "source": [
    "  pain.type=traits[col.number]\n",
    "    sd.trait <- SDs[col.number]"
   ]
  },
  {
   "cell_type": "code",
   "execution_count": 30,
   "metadata": {
    "collapsed": false
   },
   "outputs": [
    {
     "name": "stdout",
     "output_type": "stream",
     "text": [
      "Back; SD: 0.3839892 \n"
     ]
    }
   ],
   "source": [
    " cat(paste0(pain.type,\";\"),\"SD:\",as.numeric(sd.trait),\"\\n\")"
   ]
  },
  {
   "cell_type": "code",
   "execution_count": 28,
   "metadata": {
    "collapsed": false
   },
   "outputs": [
    {
     "data": {
      "text/html": [
       "0.383989234803159"
      ],
      "text/latex": [
       "0.383989234803159"
      ],
      "text/markdown": [
       "0.383989234803159"
      ],
      "text/plain": [
       "[1] 0.3839892"
      ]
     },
     "metadata": {},
     "output_type": "display_data"
    }
   ],
   "source": [
    "as.numeric(sd.trait)"
   ]
  },
  {
   "cell_type": "code",
   "execution_count": 19,
   "metadata": {
    "collapsed": true
   },
   "outputs": [],
   "source": [
    "col.number=1"
   ]
  },
  {
   "cell_type": "code",
   "execution_count": 36,
   "metadata": {
    "collapsed": false
   },
   "outputs": [
    {
     "name": "stdout",
     "output_type": "stream",
     "text": [
      "Nsnps after filtering: 26472456 \n"
     ]
    }
   ],
   "source": [
    " gwas.info.filtered <- filter(raw.gwas,INFO >= 0.7) # Filtering by info\n",
    "    gwas.info.filtered=mutate(gwas.info.filtered,MAF=pmin(A1FREQ,1-A1FREQ))\n",
    "    gwas.MAF.filtered <- filter(gwas.info.filtered,MAF >= 1e-5) # Filtering by info\n",
    "\n",
    "    cat(\"Nsnps after filtering:\", nrow(gwas.MAF.filtered),\"\\n\")\n",
    "    gwas.standart <- gwas.MAF.filtered\n",
    "    gwas.standart$BETA <- gwas.standart$BETA / sd.trait\n",
    "    gwas.standart$SE <- gwas.standart$SE / sd.trait"
   ]
  },
  {
   "cell_type": "code",
   "execution_count": 35,
   "metadata": {
    "collapsed": false
   },
   "outputs": [],
   "source": [
    " sd.trait <- as.numeric(SDs[col.number])"
   ]
  },
  {
   "cell_type": "code",
   "execution_count": 37,
   "metadata": {
    "collapsed": false
   },
   "outputs": [
    {
     "data": {
      "text/html": [
       "<ol class=list-inline>\n",
       "\t<li>26472456</li>\n",
       "\t<li>15</li>\n",
       "</ol>\n"
      ],
      "text/latex": [
       "\\begin{enumerate*}\n",
       "\\item 26472456\n",
       "\\item 15\n",
       "\\end{enumerate*}\n"
      ],
      "text/markdown": [
       "1. 26472456\n",
       "2. 15\n",
       "\n",
       "\n"
      ],
      "text/plain": [
       "[1] 26472456       15"
      ]
     },
     "metadata": {},
     "output_type": "display_data"
    }
   ],
   "source": [
    "dim(gwas.standart)"
   ]
  },
  {
   "cell_type": "code",
   "execution_count": 38,
   "metadata": {
    "collapsed": true
   },
   "outputs": [],
   "source": [
    " data.table::fwrite(gwas.standart, \n",
    "        file = paste0('/mnt/polyomica/projects/mv_gwas/data/chronic_replication/EA_09102018/scaled_filterted/', gwas.name))\n"
   ]
  },
  {
   "cell_type": "code",
   "execution_count": 9,
   "metadata": {
    "collapsed": false
   },
   "outputs": [
    {
     "data": {
      "text/html": [
       "<ol class=list-inline>\n",
       "\t<li>'Back.o4278402'</li>\n",
       "\t<li>'cases.controls_repl.EA.txt'</li>\n",
       "\t<li>'chron_corrs_repl.EA.txt'</li>\n",
       "\t<li>'Face.o4278408'</li>\n",
       "\t<li>'Head.o4278405'</li>\n",
       "\t<li>'Hip.o4278404'</li>\n",
       "\t<li>'Knee.o4278407'</li>\n",
       "\t<li>'MV_Back_Repl.EA_gwas.BGEN.stats.txt'</li>\n",
       "\t<li>'MV_Face_Repl.EA_gwas.BGEN.stats.txt'</li>\n",
       "\t<li>'MV_Head_Repl.EA_gwas.BGEN.stats.txt'</li>\n",
       "\t<li>'MV_Hip_Repl.EA_gwas.BGEN.stats.txt'</li>\n",
       "\t<li>'MV_Knee_Repl.EA_gwas.BGEN.stats.txt'</li>\n",
       "\t<li>'MV_Neck_Repl.EA_gwas.BGEN.stats.txt'</li>\n",
       "\t<li>'MV_Stom_Repl.EA_gwas.BGEN.stats.txt'</li>\n",
       "\t<li>'Neck.o4278403'</li>\n",
       "\t<li>'Stom.o4278406'</li>\n",
       "</ol>\n"
      ],
      "text/latex": [
       "\\begin{enumerate*}\n",
       "\\item 'Back.o4278402'\n",
       "\\item 'cases.controls\\_repl.EA.txt'\n",
       "\\item 'chron\\_corrs\\_repl.EA.txt'\n",
       "\\item 'Face.o4278408'\n",
       "\\item 'Head.o4278405'\n",
       "\\item 'Hip.o4278404'\n",
       "\\item 'Knee.o4278407'\n",
       "\\item 'MV\\_Back\\_Repl.EA\\_gwas.BGEN.stats.txt'\n",
       "\\item 'MV\\_Face\\_Repl.EA\\_gwas.BGEN.stats.txt'\n",
       "\\item 'MV\\_Head\\_Repl.EA\\_gwas.BGEN.stats.txt'\n",
       "\\item 'MV\\_Hip\\_Repl.EA\\_gwas.BGEN.stats.txt'\n",
       "\\item 'MV\\_Knee\\_Repl.EA\\_gwas.BGEN.stats.txt'\n",
       "\\item 'MV\\_Neck\\_Repl.EA\\_gwas.BGEN.stats.txt'\n",
       "\\item 'MV\\_Stom\\_Repl.EA\\_gwas.BGEN.stats.txt'\n",
       "\\item 'Neck.o4278403'\n",
       "\\item 'Stom.o4278406'\n",
       "\\end{enumerate*}\n"
      ],
      "text/markdown": [
       "1. 'Back.o4278402'\n",
       "2. 'cases.controls_repl.EA.txt'\n",
       "3. 'chron_corrs_repl.EA.txt'\n",
       "4. 'Face.o4278408'\n",
       "5. 'Head.o4278405'\n",
       "6. 'Hip.o4278404'\n",
       "7. 'Knee.o4278407'\n",
       "8. 'MV_Back_Repl.EA_gwas.BGEN.stats.txt'\n",
       "9. 'MV_Face_Repl.EA_gwas.BGEN.stats.txt'\n",
       "10. 'MV_Head_Repl.EA_gwas.BGEN.stats.txt'\n",
       "11. 'MV_Hip_Repl.EA_gwas.BGEN.stats.txt'\n",
       "12. 'MV_Knee_Repl.EA_gwas.BGEN.stats.txt'\n",
       "13. 'MV_Neck_Repl.EA_gwas.BGEN.stats.txt'\n",
       "14. 'MV_Stom_Repl.EA_gwas.BGEN.stats.txt'\n",
       "15. 'Neck.o4278403'\n",
       "16. 'Stom.o4278406'\n",
       "\n",
       "\n"
      ],
      "text/plain": [
       " [1] \"Back.o4278402\"                       \"cases.controls_repl.EA.txt\"         \n",
       " [3] \"chron_corrs_repl.EA.txt\"             \"Face.o4278408\"                      \n",
       " [5] \"Head.o4278405\"                       \"Hip.o4278404\"                       \n",
       " [7] \"Knee.o4278407\"                       \"MV_Back_Repl.EA_gwas.BGEN.stats.txt\"\n",
       " [9] \"MV_Face_Repl.EA_gwas.BGEN.stats.txt\" \"MV_Head_Repl.EA_gwas.BGEN.stats.txt\"\n",
       "[11] \"MV_Hip_Repl.EA_gwas.BGEN.stats.txt\"  \"MV_Knee_Repl.EA_gwas.BGEN.stats.txt\"\n",
       "[13] \"MV_Neck_Repl.EA_gwas.BGEN.stats.txt\" \"MV_Stom_Repl.EA_gwas.BGEN.stats.txt\"\n",
       "[15] \"Neck.o4278403\"                       \"Stom.o4278406\"                      "
      ]
     },
     "metadata": {},
     "output_type": "display_data"
    }
   ],
   "source": [
    "list.files(\"/mnt/polyomica/projects/mv_gwas/data/chronic_replication/EA_09102018/raw/\")"
   ]
  },
  {
   "cell_type": "code",
   "execution_count": 39,
   "metadata": {
    "collapsed": false
   },
   "outputs": [
    {
     "data": {
      "text/html": [
       "<table>\n",
       "<thead><tr><th></th><th scope=col>back</th><th scope=col>neck</th><th scope=col>hip</th><th scope=col>face</th><th scope=col>stom</th><th scope=col>knee</th><th scope=col>head</th></tr></thead>\n",
       "<tbody>\n",
       "\t<tr><th scope=row>controls</th><td>174831</td><td>174831</td><td>174831</td><td>174831</td><td>174831</td><td>174831</td><td>174831</td></tr>\n",
       "</tbody>\n",
       "</table>\n"
      ],
      "text/latex": [
       "\\begin{tabular}{r|lllllll}\n",
       "  & back & neck & hip & face & stom & knee & head\\\\\n",
       "\\hline\n",
       "\tcontrols & 174831 & 174831 & 174831 & 174831 & 174831 & 174831 & 174831\\\\\n",
       "\\end{tabular}\n"
      ],
      "text/markdown": [
       "\n",
       "| <!--/--> | back | neck | hip | face | stom | knee | head | \n",
       "|---|\n",
       "| controls | 174831 | 174831 | 174831 | 174831 | 174831 | 174831 | 174831 | \n",
       "\n",
       "\n"
      ],
      "text/plain": [
       "         back   neck   hip    face   stom   knee   head  \n",
       "controls 174831 174831 174831 174831 174831 174831 174831"
      ]
     },
     "metadata": {},
     "output_type": "display_data"
    }
   ],
   "source": [
    "sdtable[1,]+sdtable[2,]\n"
   ]
  },
  {
   "cell_type": "code",
   "execution_count": 40,
   "metadata": {
    "collapsed": false
   },
   "outputs": [
    {
     "data": {
      "text/html": [
       "<table>\n",
       "<thead><tr><th></th><th scope=col>back</th><th scope=col>neck</th><th scope=col>hip</th><th scope=col>face</th><th scope=col>stom</th><th scope=col>knee</th><th scope=col>head</th></tr></thead>\n",
       "<tbody>\n",
       "\t<tr><th scope=row>cases</th><td>31428</td><td>28482</td><td>16022</td><td>1634 </td><td>8465 </td><td>30173</td><td>16101</td></tr>\n",
       "</tbody>\n",
       "</table>\n"
      ],
      "text/latex": [
       "\\begin{tabular}{r|lllllll}\n",
       "  & back & neck & hip & face & stom & knee & head\\\\\n",
       "\\hline\n",
       "\tcases & 31428 & 28482 & 16022 & 1634  & 8465  & 30173 & 16101\\\\\n",
       "\\end{tabular}\n"
      ],
      "text/markdown": [
       "\n",
       "| <!--/--> | back | neck | hip | face | stom | knee | head | \n",
       "|---|\n",
       "| cases | 31428 | 28482 | 16022 | 1634  | 8465  | 30173 | 16101 | \n",
       "\n",
       "\n"
      ],
      "text/plain": [
       "      back  neck  hip   face stom knee  head \n",
       "cases 31428 28482 16022 1634 8465 30173 16101"
      ]
     },
     "metadata": {},
     "output_type": "display_data"
    }
   ],
   "source": [
    "sdtable[2,]"
   ]
  },
  {
   "cell_type": "code",
   "execution_count": 41,
   "metadata": {
    "collapsed": false
   },
   "outputs": [
    {
     "data": {
      "text/html": [
       "<table>\n",
       "<thead><tr><th></th><th scope=col>back</th><th scope=col>neck</th><th scope=col>hip</th><th scope=col>face</th><th scope=col>stom</th><th scope=col>knee</th><th scope=col>head</th></tr></thead>\n",
       "<tbody>\n",
       "\t<tr><th scope=row>cases</th><td>0.1797622  </td><td>0.1629116  </td><td>0.09164279 </td><td>0.009346169</td><td>0.04841819 </td><td>0.1725838  </td><td>0.09209465 </td></tr>\n",
       "</tbody>\n",
       "</table>\n"
      ],
      "text/latex": [
       "\\begin{tabular}{r|lllllll}\n",
       "  & back & neck & hip & face & stom & knee & head\\\\\n",
       "\\hline\n",
       "\tcases & 0.1797622   & 0.1629116   & 0.09164279  & 0.009346169 & 0.04841819  & 0.1725838   & 0.09209465 \\\\\n",
       "\\end{tabular}\n"
      ],
      "text/markdown": [
       "\n",
       "| <!--/--> | back | neck | hip | face | stom | knee | head | \n",
       "|---|\n",
       "| cases | 0.1797622   | 0.1629116   | 0.09164279  | 0.009346169 | 0.04841819  | 0.1725838   | 0.09209465  | \n",
       "\n",
       "\n"
      ],
      "text/plain": [
       "      back      neck      hip        face        stom       knee     \n",
       "cases 0.1797622 0.1629116 0.09164279 0.009346169 0.04841819 0.1725838\n",
       "      head      \n",
       "cases 0.09209465"
      ]
     },
     "metadata": {},
     "output_type": "display_data"
    }
   ],
   "source": [
    "prev"
   ]
  },
  {
   "cell_type": "code",
   "execution_count": null,
   "metadata": {
    "collapsed": true
   },
   "outputs": [],
   "source": []
  }
 ],
 "metadata": {
  "anaconda-cloud": {},
  "kernelspec": {
   "display_name": "R",
   "language": "R",
   "name": "ir"
  },
  "language_info": {
   "codemirror_mode": "r",
   "file_extension": ".r",
   "mimetype": "text/x-r-source",
   "name": "R",
   "pygments_lexer": "r",
   "version": "3.5.1"
  }
 },
 "nbformat": 4,
 "nbformat_minor": 2
}
