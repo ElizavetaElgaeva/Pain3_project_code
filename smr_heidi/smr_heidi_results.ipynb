{
 "cells": [
  {
   "cell_type": "code",
   "execution_count": 132,
   "metadata": {
    "collapsed": false
   },
   "outputs": [
    {
     "data": {
      "text/html": [
       "<ol class=list-inline>\n",
       "\t<li>'20181802_draft_figure4.png'</li>\n",
       "\t<li>'20190217_gwasid_for_smrheidi.txt'</li>\n",
       "\t<li>'20190217_smrh_4529.csv'</li>\n",
       "\t<li>'20190217_smrh_4530.csv'</li>\n",
       "\t<li>'20190218_anthro_to_remove.txt'</li>\n",
       "\t<li>'20190218_smrh_4529.csv'</li>\n",
       "\t<li>'20190226_anthro_to_remove.txt'</li>\n",
       "\t<li>'20190226_gpc1_v3.csv'</li>\n",
       "\t<li>'20190226_gpc2_v3.csv'</li>\n",
       "\t<li>'20190226_sig_desc.txt'</li>\n",
       "\t<li>'20190226_smr_heidi_all_sign.txt'</li>\n",
       "\t<li>'20190226_smr_heidi.pdf'</li>\n",
       "\t<li>'20190227_smr_heidi_all_sign.txt'</li>\n",
       "\t<li>'20190227_smr_heidi.pdf'</li>\n",
       "\t<li>'20190228_smr_heidi.pdf'</li>\n",
       "\t<li>'gpc1_OA.sh'</li>\n",
       "\t<li>'gpc1_out_v2.csv'</li>\n",
       "\t<li>'gpc1_out_v2.html'</li>\n",
       "\t<li>'gpc1_out_v2.log'</li>\n",
       "\t<li>'gpc1_out_v4.csv'</li>\n",
       "\t<li>'gpc1_out_v4.html'</li>\n",
       "\t<li>'gpc1_out_v4.log'</li>\n",
       "\t<li>'gpc1_out.txt.csv'</li>\n",
       "\t<li>'gpc1_out.txt.html'</li>\n",
       "\t<li>'gpc1_out.txt.log'</li>\n",
       "\t<li>'gpc1_sox5.csv'</li>\n",
       "\t<li>'gpc1_sox5.html'</li>\n",
       "\t<li>'gpc1_sox5.log'</li>\n",
       "\t<li>'gpc1_sox5.sh'</li>\n",
       "\t<li>'gpc1.sh'</li>\n",
       "\t<li>'gpc2_OA.sh'</li>\n",
       "\t<li>'gpc2_out_v2.csv'</li>\n",
       "\t<li>'gpc2_out_v2.html'</li>\n",
       "\t<li>'gpc2_out_v2.log'</li>\n",
       "\t<li>'gpc2_out_v4.csv'</li>\n",
       "\t<li>'gpc2_out_v4.html'</li>\n",
       "\t<li>'gpc2_out_v4.log'</li>\n",
       "\t<li>'gpc2_out.log'</li>\n",
       "\t<li>'gpc2_out.txt.csv'</li>\n",
       "\t<li>'gpc2_out.txt.html'</li>\n",
       "\t<li>'gpc2_out.txt.log'</li>\n",
       "\t<li>'gpc2.sh'</li>\n",
       "\t<li>'gpc4.sh'</li>\n",
       "\t<li>'report_smrheidi_OA.sh'</li>\n",
       "\t<li>'report_smrheidi.sh'</li>\n",
       "\t<li>'smr_heidi_results.ipynb'</li>\n",
       "\t<li>'snp_list_gpc1_1snp.txt'</li>\n",
       "\t<li>'snp_list_gpc1.txt'</li>\n",
       "\t<li>'snp_list_gpc2.txt'</li>\n",
       "\t<li>'snp_list_gpc4.txt'</li>\n",
       "\t<li>'snp_list.txt'</li>\n",
       "\t<li>'tmp.sh'</li>\n",
       "\t<li>'tmp.txt'</li>\n",
       "</ol>\n"
      ],
      "text/latex": [
       "\\begin{enumerate*}\n",
       "\\item '20181802\\_draft\\_figure4.png'\n",
       "\\item '20190217\\_gwasid\\_for\\_smrheidi.txt'\n",
       "\\item '20190217\\_smrh\\_4529.csv'\n",
       "\\item '20190217\\_smrh\\_4530.csv'\n",
       "\\item '20190218\\_anthro\\_to\\_remove.txt'\n",
       "\\item '20190218\\_smrh\\_4529.csv'\n",
       "\\item '20190226\\_anthro\\_to\\_remove.txt'\n",
       "\\item '20190226\\_gpc1\\_v3.csv'\n",
       "\\item '20190226\\_gpc2\\_v3.csv'\n",
       "\\item '20190226\\_sig\\_desc.txt'\n",
       "\\item '20190226\\_smr\\_heidi\\_all\\_sign.txt'\n",
       "\\item '20190226\\_smr\\_heidi.pdf'\n",
       "\\item '20190227\\_smr\\_heidi\\_all\\_sign.txt'\n",
       "\\item '20190227\\_smr\\_heidi.pdf'\n",
       "\\item '20190228\\_smr\\_heidi.pdf'\n",
       "\\item 'gpc1\\_OA.sh'\n",
       "\\item 'gpc1\\_out\\_v2.csv'\n",
       "\\item 'gpc1\\_out\\_v2.html'\n",
       "\\item 'gpc1\\_out\\_v2.log'\n",
       "\\item 'gpc1\\_out\\_v4.csv'\n",
       "\\item 'gpc1\\_out\\_v4.html'\n",
       "\\item 'gpc1\\_out\\_v4.log'\n",
       "\\item 'gpc1\\_out.txt.csv'\n",
       "\\item 'gpc1\\_out.txt.html'\n",
       "\\item 'gpc1\\_out.txt.log'\n",
       "\\item 'gpc1\\_sox5.csv'\n",
       "\\item 'gpc1\\_sox5.html'\n",
       "\\item 'gpc1\\_sox5.log'\n",
       "\\item 'gpc1\\_sox5.sh'\n",
       "\\item 'gpc1.sh'\n",
       "\\item 'gpc2\\_OA.sh'\n",
       "\\item 'gpc2\\_out\\_v2.csv'\n",
       "\\item 'gpc2\\_out\\_v2.html'\n",
       "\\item 'gpc2\\_out\\_v2.log'\n",
       "\\item 'gpc2\\_out\\_v4.csv'\n",
       "\\item 'gpc2\\_out\\_v4.html'\n",
       "\\item 'gpc2\\_out\\_v4.log'\n",
       "\\item 'gpc2\\_out.log'\n",
       "\\item 'gpc2\\_out.txt.csv'\n",
       "\\item 'gpc2\\_out.txt.html'\n",
       "\\item 'gpc2\\_out.txt.log'\n",
       "\\item 'gpc2.sh'\n",
       "\\item 'gpc4.sh'\n",
       "\\item 'report\\_smrheidi\\_OA.sh'\n",
       "\\item 'report\\_smrheidi.sh'\n",
       "\\item 'smr\\_heidi\\_results.ipynb'\n",
       "\\item 'snp\\_list\\_gpc1\\_1snp.txt'\n",
       "\\item 'snp\\_list\\_gpc1.txt'\n",
       "\\item 'snp\\_list\\_gpc2.txt'\n",
       "\\item 'snp\\_list\\_gpc4.txt'\n",
       "\\item 'snp\\_list.txt'\n",
       "\\item 'tmp.sh'\n",
       "\\item 'tmp.txt'\n",
       "\\end{enumerate*}\n"
      ],
      "text/markdown": [
       "1. '20181802_draft_figure4.png'\n",
       "2. '20190217_gwasid_for_smrheidi.txt'\n",
       "3. '20190217_smrh_4529.csv'\n",
       "4. '20190217_smrh_4530.csv'\n",
       "5. '20190218_anthro_to_remove.txt'\n",
       "6. '20190218_smrh_4529.csv'\n",
       "7. '20190226_anthro_to_remove.txt'\n",
       "8. '20190226_gpc1_v3.csv'\n",
       "9. '20190226_gpc2_v3.csv'\n",
       "10. '20190226_sig_desc.txt'\n",
       "11. '20190226_smr_heidi_all_sign.txt'\n",
       "12. '20190226_smr_heidi.pdf'\n",
       "13. '20190227_smr_heidi_all_sign.txt'\n",
       "14. '20190227_smr_heidi.pdf'\n",
       "15. '20190228_smr_heidi.pdf'\n",
       "16. 'gpc1_OA.sh'\n",
       "17. 'gpc1_out_v2.csv'\n",
       "18. 'gpc1_out_v2.html'\n",
       "19. 'gpc1_out_v2.log'\n",
       "20. 'gpc1_out_v4.csv'\n",
       "21. 'gpc1_out_v4.html'\n",
       "22. 'gpc1_out_v4.log'\n",
       "23. 'gpc1_out.txt.csv'\n",
       "24. 'gpc1_out.txt.html'\n",
       "25. 'gpc1_out.txt.log'\n",
       "26. 'gpc1_sox5.csv'\n",
       "27. 'gpc1_sox5.html'\n",
       "28. 'gpc1_sox5.log'\n",
       "29. 'gpc1_sox5.sh'\n",
       "30. 'gpc1.sh'\n",
       "31. 'gpc2_OA.sh'\n",
       "32. 'gpc2_out_v2.csv'\n",
       "33. 'gpc2_out_v2.html'\n",
       "34. 'gpc2_out_v2.log'\n",
       "35. 'gpc2_out_v4.csv'\n",
       "36. 'gpc2_out_v4.html'\n",
       "37. 'gpc2_out_v4.log'\n",
       "38. 'gpc2_out.log'\n",
       "39. 'gpc2_out.txt.csv'\n",
       "40. 'gpc2_out.txt.html'\n",
       "41. 'gpc2_out.txt.log'\n",
       "42. 'gpc2.sh'\n",
       "43. 'gpc4.sh'\n",
       "44. 'report_smrheidi_OA.sh'\n",
       "45. 'report_smrheidi.sh'\n",
       "46. 'smr_heidi_results.ipynb'\n",
       "47. 'snp_list_gpc1_1snp.txt'\n",
       "48. 'snp_list_gpc1.txt'\n",
       "49. 'snp_list_gpc2.txt'\n",
       "50. 'snp_list_gpc4.txt'\n",
       "51. 'snp_list.txt'\n",
       "52. 'tmp.sh'\n",
       "53. 'tmp.txt'\n",
       "\n",
       "\n"
      ],
      "text/plain": [
       " [1] \"20181802_draft_figure4.png\"       \"20190217_gwasid_for_smrheidi.txt\"\n",
       " [3] \"20190217_smrh_4529.csv\"           \"20190217_smrh_4530.csv\"          \n",
       " [5] \"20190218_anthro_to_remove.txt\"    \"20190218_smrh_4529.csv\"          \n",
       " [7] \"20190226_anthro_to_remove.txt\"    \"20190226_gpc1_v3.csv\"            \n",
       " [9] \"20190226_gpc2_v3.csv\"             \"20190226_sig_desc.txt\"           \n",
       "[11] \"20190226_smr_heidi_all_sign.txt\"  \"20190226_smr_heidi.pdf\"          \n",
       "[13] \"20190227_smr_heidi_all_sign.txt\"  \"20190227_smr_heidi.pdf\"          \n",
       "[15] \"20190228_smr_heidi.pdf\"           \"gpc1_OA.sh\"                      \n",
       "[17] \"gpc1_out_v2.csv\"                  \"gpc1_out_v2.html\"                \n",
       "[19] \"gpc1_out_v2.log\"                  \"gpc1_out_v4.csv\"                 \n",
       "[21] \"gpc1_out_v4.html\"                 \"gpc1_out_v4.log\"                 \n",
       "[23] \"gpc1_out.txt.csv\"                 \"gpc1_out.txt.html\"               \n",
       "[25] \"gpc1_out.txt.log\"                 \"gpc1_sox5.csv\"                   \n",
       "[27] \"gpc1_sox5.html\"                   \"gpc1_sox5.log\"                   \n",
       "[29] \"gpc1_sox5.sh\"                     \"gpc1.sh\"                         \n",
       "[31] \"gpc2_OA.sh\"                       \"gpc2_out_v2.csv\"                 \n",
       "[33] \"gpc2_out_v2.html\"                 \"gpc2_out_v2.log\"                 \n",
       "[35] \"gpc2_out_v4.csv\"                  \"gpc2_out_v4.html\"                \n",
       "[37] \"gpc2_out_v4.log\"                  \"gpc2_out.log\"                    \n",
       "[39] \"gpc2_out.txt.csv\"                 \"gpc2_out.txt.html\"               \n",
       "[41] \"gpc2_out.txt.log\"                 \"gpc2.sh\"                         \n",
       "[43] \"gpc4.sh\"                          \"report_smrheidi_OA.sh\"           \n",
       "[45] \"report_smrheidi.sh\"               \"smr_heidi_results.ipynb\"         \n",
       "[47] \"snp_list_gpc1_1snp.txt\"           \"snp_list_gpc1.txt\"               \n",
       "[49] \"snp_list_gpc2.txt\"                \"snp_list_gpc4.txt\"               \n",
       "[51] \"snp_list.txt\"                     \"tmp.sh\"                          \n",
       "[53] \"tmp.txt\"                         "
      ]
     },
     "metadata": {},
     "output_type": "display_data"
    }
   ],
   "source": [
    "list.files()"
   ]
  },
  {
   "cell_type": "code",
   "execution_count": 133,
   "metadata": {
    "collapsed": true
   },
   "outputs": [],
   "source": [
    "library(data.table)"
   ]
  },
  {
   "cell_type": "code",
   "execution_count": 134,
   "metadata": {
    "collapsed": false
   },
   "outputs": [
    {
     "data": {
      "text/html": [
       "<ol class=list-inline>\n",
       "\t<li>10564</li>\n",
       "\t<li>30</li>\n",
       "</ol>\n"
      ],
      "text/latex": [
       "\\begin{enumerate*}\n",
       "\\item 10564\n",
       "\\item 30\n",
       "\\end{enumerate*}\n"
      ],
      "text/markdown": [
       "1. 10564\n",
       "2. 30\n",
       "\n",
       "\n"
      ],
      "text/plain": [
       "[1] 10564    30"
      ]
     },
     "metadata": {},
     "output_type": "display_data"
    },
    {
     "data": {
      "text/html": [
       "<ol class=list-inline>\n",
       "\t<li>2357</li>\n",
       "\t<li>30</li>\n",
       "</ol>\n"
      ],
      "text/latex": [
       "\\begin{enumerate*}\n",
       "\\item 2357\n",
       "\\item 30\n",
       "\\end{enumerate*}\n"
      ],
      "text/markdown": [
       "1. 2357\n",
       "2. 30\n",
       "\n",
       "\n"
      ],
      "text/plain": [
       "[1] 2357   30"
      ]
     },
     "metadata": {},
     "output_type": "display_data"
    }
   ],
   "source": [
    "g1=fread(\"20190226_gpc1_v3.csv\",header=T,stringsAsFactors = F,sep=\",\",data.table=F)\n",
    "g1=g1[(g1$version==3),]\n",
    "dim(g1)\n",
    "g2=fread(\"20190226_gpc2_v3.csv\",header=T,stringsAsFactors = F,sep=\",\",data.table=F)\n",
    "g2=g2[(g2$version==3),]\n",
    "dim(g2)\n",
    "g1$marker_snp_id=paste0(\"rs\",g1$marker_snp_id)\n",
    "g2$marker_snp_id=paste0(\"rs\",g2$marker_snp_id)"
   ]
  },
  {
   "cell_type": "code",
   "execution_count": 135,
   "metadata": {
    "collapsed": true
   },
   "outputs": [],
   "source": [
    "#g1=fread(\"gpc1_out_v2.csv\",header=T,stringsAsFactors = F,sep=\",\",data.table=F)"
   ]
  },
  {
   "cell_type": "code",
   "execution_count": 136,
   "metadata": {
    "collapsed": true
   },
   "outputs": [],
   "source": [
    "#g2=fread(\"gpc2_out_v2.csv\",header=T,stringsAsFactors = F,sep=\",\",data.table=F)"
   ]
  },
  {
   "cell_type": "code",
   "execution_count": 137,
   "metadata": {
    "collapsed": false
   },
   "outputs": [
    {
     "data": {
      "text/html": [
       "2358"
      ],
      "text/latex": [
       "2358"
      ],
      "text/markdown": [
       "2358"
      ],
      "text/plain": [
       "[1] 2358"
      ]
     },
     "metadata": {},
     "output_type": "display_data"
    }
   ],
   "source": [
    "gids=read.table(\"20190217_gwasid_for_smrheidi.txt\",header=F)\n",
    "gids=gids[,1]\n",
    "length(gids)"
   ]
  },
  {
   "cell_type": "code",
   "execution_count": 138,
   "metadata": {
    "collapsed": false
   },
   "outputs": [
    {
     "data": {
      "text/html": [
       "<ol class=list-inline>\n",
       "\t<li>1282537</li>\n",
       "\t<li>4529</li>\n",
       "\t<li>4530</li>\n",
       "\t<li>4531</li>\n",
       "\t<li>4533</li>\n",
       "</ol>\n"
      ],
      "text/latex": [
       "\\begin{enumerate*}\n",
       "\\item 1282537\n",
       "\\item 4529\n",
       "\\item 4530\n",
       "\\item 4531\n",
       "\\item 4533\n",
       "\\end{enumerate*}\n"
      ],
      "text/markdown": [
       "1. 1282537\n",
       "2. 4529\n",
       "3. 4530\n",
       "4. 4531\n",
       "5. 4533\n",
       "\n",
       "\n"
      ],
      "text/plain": [
       "[1] 1282537    4529    4530    4531    4533"
      ]
     },
     "metadata": {},
     "output_type": "display_data"
    }
   ],
   "source": [
    "gids[1:5]"
   ]
  },
  {
   "cell_type": "code",
   "execution_count": 139,
   "metadata": {
    "collapsed": false
   },
   "outputs": [
    {
     "data": {
      "text/html": [
       "<ol class=list-inline>\n",
       "\t<li>4567</li>\n",
       "\t<li>44</li>\n",
       "</ol>\n"
      ],
      "text/latex": [
       "\\begin{enumerate*}\n",
       "\\item 4567\n",
       "\\item 44\n",
       "\\end{enumerate*}\n"
      ],
      "text/markdown": [
       "1. 4567\n",
       "2. 44\n",
       "\n",
       "\n"
      ],
      "text/plain": [
       "[1] 4567   44"
      ]
     },
     "metadata": {},
     "output_type": "display_data"
    }
   ],
   "source": [
    "desc=fread(\"../20190212_descriptors_v2.txt\",header=T,sep=\"\\t\",stringsAsFactors = F,data.table=F)\n",
    "dim(desc)\n",
    "desc[4568,\"gwas_id\"]=1282537\n",
    "desc[4568,\"trait_abbreviation\"]=\"Healthspan\""
   ]
  },
  {
   "cell_type": "code",
   "execution_count": 140,
   "metadata": {
    "collapsed": false
   },
   "outputs": [],
   "source": [
    "toRemove=fread(\"20190226_anthro_to_remove.txt\",header=T,sep=\"\\t\",stringsAsFactors = F,data.table=F)"
   ]
  },
  {
   "cell_type": "code",
   "execution_count": 141,
   "metadata": {
    "collapsed": false
   },
   "outputs": [
    {
     "data": {
      "text/plain": [
       "\n",
       "TRUE \n",
       "2358 "
      ]
     },
     "metadata": {},
     "output_type": "display_data"
    },
    {
     "data": {
      "text/html": [
       "2358"
      ],
      "text/latex": [
       "2358"
      ],
      "text/markdown": [
       "2358"
      ],
      "text/plain": [
       "[1] 2358"
      ]
     },
     "metadata": {},
     "output_type": "display_data"
    }
   ],
   "source": [
    "table(gids%in%desc$gwas_id)\n",
    "gids_tr=desc[which((desc$gwas_id)%in%gids),\"trait_abbreviation\"]\n",
    "length(gids_tr)"
   ]
  },
  {
   "cell_type": "code",
   "execution_count": 142,
   "metadata": {
    "collapsed": false
   },
   "outputs": [
    {
     "data": {
      "text/html": [
       "<ol class=list-inline>\n",
       "\t<li>10564</li>\n",
       "\t<li>30</li>\n",
       "</ol>\n"
      ],
      "text/latex": [
       "\\begin{enumerate*}\n",
       "\\item 10564\n",
       "\\item 30\n",
       "\\end{enumerate*}\n"
      ],
      "text/markdown": [
       "1. 10564\n",
       "2. 30\n",
       "\n",
       "\n"
      ],
      "text/plain": [
       "[1] 10564    30"
      ]
     },
     "metadata": {},
     "output_type": "display_data"
    },
    {
     "data": {
      "text/html": [
       "<ol class=list-inline>\n",
       "\t<li>2357</li>\n",
       "\t<li>30</li>\n",
       "</ol>\n"
      ],
      "text/latex": [
       "\\begin{enumerate*}\n",
       "\\item 2357\n",
       "\\item 30\n",
       "\\end{enumerate*}\n"
      ],
      "text/markdown": [
       "1. 2357\n",
       "2. 30\n",
       "\n",
       "\n"
      ],
      "text/plain": [
       "[1] 2357   30"
      ]
     },
     "metadata": {},
     "output_type": "display_data"
    }
   ],
   "source": [
    "g1=g1[g1$gwas_id_2%in%gids,]\n",
    "g2=g2[g2$gwas_id_2%in%gids,]\n",
    "\n",
    "dim(g1)\n",
    "dim(g2)"
   ]
  },
  {
   "cell_type": "code",
   "execution_count": 143,
   "metadata": {
    "collapsed": false
   },
   "outputs": [
    {
     "data": {
      "text/plain": [
       "\n",
       "rs12705966 rs13107325  rs3737240 rs73581580  rs7628207 \n",
       "      2353       2354       2354       1148       2355 "
      ]
     },
     "metadata": {},
     "output_type": "display_data"
    }
   ],
   "source": [
    "table(g1$marker_snp_id,exclude = F)"
   ]
  },
  {
   "cell_type": "code",
   "execution_count": 144,
   "metadata": {
    "collapsed": false
   },
   "outputs": [
    {
     "data": {
      "text/plain": [
       "\n",
       "rs143384 \n",
       "    2357 "
      ]
     },
     "metadata": {},
     "output_type": "display_data"
    }
   ],
   "source": [
    "table(g2$marker_snp_id,exclude = F)"
   ]
  },
  {
   "cell_type": "code",
   "execution_count": 145,
   "metadata": {
    "collapsed": true
   },
   "outputs": [],
   "source": [
    "#g2=g2[(g2$Index_SNP==\"rs143384\"),]"
   ]
  },
  {
   "cell_type": "code",
   "execution_count": 146,
   "metadata": {
    "collapsed": false
   },
   "outputs": [],
   "source": [
    "#table(table(g2$Secondary_Trait==1))"
   ]
  },
  {
   "cell_type": "code",
   "execution_count": 147,
   "metadata": {
    "collapsed": false
   },
   "outputs": [],
   "source": [
    "#summary(g2$p_HEIDI)"
   ]
  },
  {
   "cell_type": "code",
   "execution_count": 148,
   "metadata": {
    "collapsed": true
   },
   "outputs": [],
   "source": [
    "snps=c(\"rs3737240\",#,1,150483355\n",
    "\"rs7628207\",#\",3,49754970\n",
    "\"rs13107325\",#4,103188709\n",
    "\"rs12705966\",#\",7,114248851\n",
    "\"rs73581580\")#,9,140251458"
   ]
  },
  {
   "cell_type": "markdown",
   "metadata": {},
   "source": [
    "# opt1"
   ]
  },
  {
   "cell_type": "code",
   "execution_count": 149,
   "metadata": {
    "collapsed": false
   },
   "outputs": [
    {
     "data": {
      "text/html": [
       "<table>\n",
       "<caption>A data.frame: 1 × 30</caption>\n",
       "<thead>\n",
       "\t<tr><th></th><th scope=col>serial_id</th><th scope=col>marker_snp_id</th><th scope=col>top_snp_id</th><th scope=col>ea</th><th scope=col>ra</th><th scope=col>bp</th><th scope=col>chr</th><th scope=col>cm</th><th scope=col>gwas_id_1</th><th scope=col>eaf_1</th><th scope=col>⋯</th><th scope=col>r</th><th scope=col>beta_smr</th><th scope=col>se_smr</th><th scope=col>z_smr_sq</th><th scope=col>p_smr</th><th scope=col>n_heidi</th><th scope=col>snps_heidi</th><th scope=col>p_heidi</th><th scope=col>version</th><th scope=col>run_query</th></tr>\n",
       "\t<tr><th></th><th scope=col>&lt;int&gt;</th><th scope=col>&lt;chr&gt;</th><th scope=col>&lt;int&gt;</th><th scope=col>&lt;chr&gt;</th><th scope=col>&lt;chr&gt;</th><th scope=col>&lt;int&gt;</th><th scope=col>&lt;int&gt;</th><th scope=col>&lt;int&gt;</th><th scope=col>&lt;int&gt;</th><th scope=col>&lt;dbl&gt;</th><th scope=col>⋯</th><th scope=col>&lt;dbl&gt;</th><th scope=col>&lt;dbl&gt;</th><th scope=col>&lt;dbl&gt;</th><th scope=col>&lt;dbl&gt;</th><th scope=col>&lt;dbl&gt;</th><th scope=col>&lt;int&gt;</th><th scope=col>&lt;chr&gt;</th><th scope=col>&lt;dbl&gt;</th><th scope=col>&lt;int&gt;</th><th scope=col>&lt;chr&gt;</th></tr>\n",
       "</thead>\n",
       "<tbody>\n",
       "\t<tr><th scope=row>41479</th><td>594460</td><td>rs13107325</td><td>13107325</td><td>C</td><td>T</td><td>103188709</td><td>4</td><td>0</td><td>4529</td><td>0.9256</td><td>⋯</td><td>1</td><td>3.573986</td><td>2.541229</td><td>1.977962</td><td>0.1596053</td><td>11</td><td>rs13107325; rs13105581; rs151404; rs1585606; rs230489; rs233821; rs151503; rs233817; rs233825; rs2851245; rs6846971</td><td>0.8350913</td><td>3</td><td>{'gwas_id_1': 4529, 'gwas_id_2': 2219, 'snp_id': None, 'snp_list_file': 'snp_list_gpc1.txt', 'clumping': False, 'rewrite': True, 'version': '3', 'tag': None, 'maf_threshold': 0.03, 'z_threshold': 10, 'n_threshold': 0.9, 'pz_outliers': False, 'use_quality_snp_list': False, 'window': 500, 'ld_r2_threshold': 0.9, 'min_snps_for_heidi': 3, 'max_snps_for_heidi': 20, 'skip_existing_ld_data': False}</td></tr>\n",
       "</tbody>\n",
       "</table>\n"
      ],
      "text/latex": [
       "A data.frame: 1 × 30\n",
       "\\begin{tabular}{r|llllllllllllllllllllllllllllll}\n",
       "  & serial\\_id & marker\\_snp\\_id & top\\_snp\\_id & ea & ra & bp & chr & cm & gwas\\_id\\_1 & eaf\\_1 & beta\\_1 & se\\_1 & z\\_1 & p\\_1 & gwas\\_id\\_2 & eaf\\_2 & beta\\_2 & se\\_2 & z\\_2 & p\\_2 & r & beta\\_smr & se\\_smr & z\\_smr\\_sq & p\\_smr & n\\_heidi & snps\\_heidi & p\\_heidi & version & run\\_query\\\\\n",
       "  & <int> & <chr> & <int> & <chr> & <chr> & <int> & <int> & <int> & <int> & <dbl> & <dbl> & <dbl> & <dbl> & <dbl> & <int> & <dbl> & <dbl> & <chr> & <dbl> & <dbl> & <dbl> & <dbl> & <dbl> & <dbl> & <dbl> & <int> & <chr> & <dbl> & <int> & <chr>\\\\\n",
       "\\hline\n",
       "\t41479 & 594460 & rs13107325 & 13107325 & C & T & 103188709 & 4 & 0 & 4529 & 0.9256 & -0.03312828 & 0.004078857 & -8.121951 & 15.33843 & 2219 & 0.92048 & -0.1184 & 0.08291480760028086 & -1.427972 & 0.8144578 & 1 & 3.573986 & 2.541229 & 1.977962 & 0.1596053 & 11 & rs13107325; rs13105581; rs151404; rs1585606; rs230489; rs233821; rs151503; rs233817; rs233825; rs2851245; rs6846971 & 0.8350913 & 3 & \\{'gwas\\_id\\_1': 4529, 'gwas\\_id\\_2': 2219, 'snp\\_id': None, 'snp\\_list\\_file': 'snp\\_list\\_gpc1.txt', 'clumping': False, 'rewrite': True, 'version': '3', 'tag': None, 'maf\\_threshold': 0.03, 'z\\_threshold': 10, 'n\\_threshold': 0.9, 'pz\\_outliers': False, 'use\\_quality\\_snp\\_list': False, 'window': 500, 'ld\\_r2\\_threshold': 0.9, 'min\\_snps\\_for\\_heidi': 3, 'max\\_snps\\_for\\_heidi': 20, 'skip\\_existing\\_ld\\_data': False\\}\\\\\n",
       "\\end{tabular}\n"
      ],
      "text/markdown": [
       "\n",
       "A data.frame: 1 × 30\n",
       "\n",
       "| <!--/--> | serial_id &lt;int&gt; | marker_snp_id &lt;chr&gt; | top_snp_id &lt;int&gt; | ea &lt;chr&gt; | ra &lt;chr&gt; | bp &lt;int&gt; | chr &lt;int&gt; | cm &lt;int&gt; | gwas_id_1 &lt;int&gt; | eaf_1 &lt;dbl&gt; | ⋯ ⋯ | r &lt;dbl&gt; | beta_smr &lt;dbl&gt; | se_smr &lt;dbl&gt; | z_smr_sq &lt;dbl&gt; | p_smr &lt;dbl&gt; | n_heidi &lt;int&gt; | snps_heidi &lt;chr&gt; | p_heidi &lt;dbl&gt; | version &lt;int&gt; | run_query &lt;chr&gt; |\n",
       "|---|---|---|---|---|---|---|---|---|---|---|---|---|---|---|---|---|---|---|---|---|---|\n",
       "| 41479 | 594460 | rs13107325 | 13107325 | C | T | 103188709 | 4 | 0 | 4529 | 0.9256 | ⋯ | 1 | 3.573986 | 2.541229 | 1.977962 | 0.1596053 | 11 | rs13107325; rs13105581; rs151404; rs1585606; rs230489; rs233821; rs151503; rs233817; rs233825; rs2851245; rs6846971 | 0.8350913 | 3 | {'gwas_id_1': 4529, 'gwas_id_2': 2219, 'snp_id': None, 'snp_list_file': 'snp_list_gpc1.txt', 'clumping': False, 'rewrite': True, 'version': '3', 'tag': None, 'maf_threshold': 0.03, 'z_threshold': 10, 'n_threshold': 0.9, 'pz_outliers': False, 'use_quality_snp_list': False, 'window': 500, 'ld_r2_threshold': 0.9, 'min_snps_for_heidi': 3, 'max_snps_for_heidi': 20, 'skip_existing_ld_data': False} |\n",
       "\n"
      ],
      "text/plain": [
       "      serial_id marker_snp_id top_snp_id ea ra bp        chr cm gwas_id_1\n",
       "41479 594460    rs13107325    13107325   C  T  103188709 4   0  4529     \n",
       "      eaf_1  ⋯ r beta_smr se_smr   z_smr_sq p_smr     n_heidi\n",
       "41479 0.9256 ⋯ 1 3.573986 2.541229 1.977962 0.1596053 11     \n",
       "      snps_heidi                                                                                                         \n",
       "41479 rs13107325; rs13105581; rs151404; rs1585606; rs230489; rs233821; rs151503; rs233817; rs233825; rs2851245; rs6846971\n",
       "      p_heidi   version\n",
       "41479 0.8350913 3      \n",
       "      run_query                                                                                                                                                                                                                                                                                                                                                                                                 \n",
       "41479 {'gwas_id_1': 4529, 'gwas_id_2': 2219, 'snp_id': None, 'snp_list_file': 'snp_list_gpc1.txt', 'clumping': False, 'rewrite': True, 'version': '3', 'tag': None, 'maf_threshold': 0.03, 'z_threshold': 10, 'n_threshold': 0.9, 'pz_outliers': False, 'use_quality_snp_list': False, 'window': 500, 'ld_r2_threshold': 0.9, 'min_snps_for_heidi': 3, 'max_snps_for_heidi': 20, 'skip_existing_ld_data': False}"
      ]
     },
     "metadata": {},
     "output_type": "display_data"
    }
   ],
   "source": [
    "head(g1,n=1)"
   ]
  },
  {
   "cell_type": "code",
   "execution_count": 150,
   "metadata": {
    "collapsed": false
   },
   "outputs": [
    {
     "data": {
      "text/html": [
       "<ol class=list-inline>\n",
       "\t<li>5</li>\n",
       "\t<li>31</li>\n",
       "</ol>\n"
      ],
      "text/latex": [
       "\\begin{enumerate*}\n",
       "\\item 5\n",
       "\\item 31\n",
       "\\end{enumerate*}\n"
      ],
      "text/markdown": [
       "1. 5\n",
       "2. 31\n",
       "\n",
       "\n"
      ],
      "text/plain": [
       "[1]  5 31"
      ]
     },
     "metadata": {},
     "output_type": "display_data"
    },
    {
     "data": {
      "text/html": [
       "<ol class=list-inline>\n",
       "\t<li>1</li>\n",
       "\t<li>31</li>\n",
       "</ol>\n"
      ],
      "text/latex": [
       "\\begin{enumerate*}\n",
       "\\item 1\n",
       "\\item 31\n",
       "\\end{enumerate*}\n"
      ],
      "text/markdown": [
       "1. 1\n",
       "2. 31\n",
       "\n",
       "\n"
      ],
      "text/plain": [
       "[1]  1 31"
      ]
     },
     "metadata": {},
     "output_type": "display_data"
    }
   ],
   "source": [
    "x1=fread(\"gpc1_out_v4.csv\",data.table=F)\n",
    "dim(x1)\n",
    "x2=fread(\"gpc2_out_v4.csv\",data.table=F)\n",
    "dim(x2)"
   ]
  },
  {
   "cell_type": "code",
   "execution_count": 151,
   "metadata": {
    "collapsed": false
   },
   "outputs": [
    {
     "data": {
      "text/html": [
       "<ol class=list-inline>\n",
       "\t<li>'Primary_Trait'</li>\n",
       "\t<li>'Trait_Collection'</li>\n",
       "\t<li>'Source_PMID'</li>\n",
       "\t<li>'N'</li>\n",
       "\t<li>'Secondary_Trait(Trait2)'</li>\n",
       "\t<li>'Trait_collection_2'</li>\n",
       "\t<li>'Source_PMID_Trait2'</li>\n",
       "\t<li>'N_Trait2'</li>\n",
       "\t<li>'Index_SNP'</li>\n",
       "\t<li>'Chromosome'</li>\n",
       "\t<li>'Position'</li>\n",
       "\t<li>'Ref_Allele'</li>\n",
       "\t<li>'Eff_Allele'</li>\n",
       "\t<li>'beta_Trait'</li>\n",
       "\t<li>'p_Trait'</li>\n",
       "\t<li>'Proxy_SNP'</li>\n",
       "\t<li>'Proxy_Position'</li>\n",
       "\t<li>'Proxy_Ref_Allele'</li>\n",
       "\t<li>'Proxy_Eff_Allele'</li>\n",
       "\t<li>'r_with_index_SNP'</li>\n",
       "\t<li>'Proxy_beta_Trait'</li>\n",
       "\t<li>'Proxy_z_score_Trait'</li>\n",
       "\t<li>'Proxy_p_Trait'</li>\n",
       "\t<li>'Proxy_beta_Trait2'</li>\n",
       "\t<li>'Proxy_z_score_Trait2'</li>\n",
       "\t<li>'Proxy_p_Trait2'</li>\n",
       "\t<li>'beta_SMR'</li>\n",
       "\t<li>'p_SMR'</li>\n",
       "\t<li>'p_HEIDI'</li>\n",
       "\t<li>'n_HEIDI'</li>\n",
       "\t<li>'SNPs_HEIDI'</li>\n",
       "</ol>\n"
      ],
      "text/latex": [
       "\\begin{enumerate*}\n",
       "\\item 'Primary\\_Trait'\n",
       "\\item 'Trait\\_Collection'\n",
       "\\item 'Source\\_PMID'\n",
       "\\item 'N'\n",
       "\\item 'Secondary\\_Trait(Trait2)'\n",
       "\\item 'Trait\\_collection\\_2'\n",
       "\\item 'Source\\_PMID\\_Trait2'\n",
       "\\item 'N\\_Trait2'\n",
       "\\item 'Index\\_SNP'\n",
       "\\item 'Chromosome'\n",
       "\\item 'Position'\n",
       "\\item 'Ref\\_Allele'\n",
       "\\item 'Eff\\_Allele'\n",
       "\\item 'beta\\_Trait'\n",
       "\\item 'p\\_Trait'\n",
       "\\item 'Proxy\\_SNP'\n",
       "\\item 'Proxy\\_Position'\n",
       "\\item 'Proxy\\_Ref\\_Allele'\n",
       "\\item 'Proxy\\_Eff\\_Allele'\n",
       "\\item 'r\\_with\\_index\\_SNP'\n",
       "\\item 'Proxy\\_beta\\_Trait'\n",
       "\\item 'Proxy\\_z\\_score\\_Trait'\n",
       "\\item 'Proxy\\_p\\_Trait'\n",
       "\\item 'Proxy\\_beta\\_Trait2'\n",
       "\\item 'Proxy\\_z\\_score\\_Trait2'\n",
       "\\item 'Proxy\\_p\\_Trait2'\n",
       "\\item 'beta\\_SMR'\n",
       "\\item 'p\\_SMR'\n",
       "\\item 'p\\_HEIDI'\n",
       "\\item 'n\\_HEIDI'\n",
       "\\item 'SNPs\\_HEIDI'\n",
       "\\end{enumerate*}\n"
      ],
      "text/markdown": [
       "1. 'Primary_Trait'\n",
       "2. 'Trait_Collection'\n",
       "3. 'Source_PMID'\n",
       "4. 'N'\n",
       "5. 'Secondary_Trait(Trait2)'\n",
       "6. 'Trait_collection_2'\n",
       "7. 'Source_PMID_Trait2'\n",
       "8. 'N_Trait2'\n",
       "9. 'Index_SNP'\n",
       "10. 'Chromosome'\n",
       "11. 'Position'\n",
       "12. 'Ref_Allele'\n",
       "13. 'Eff_Allele'\n",
       "14. 'beta_Trait'\n",
       "15. 'p_Trait'\n",
       "16. 'Proxy_SNP'\n",
       "17. 'Proxy_Position'\n",
       "18. 'Proxy_Ref_Allele'\n",
       "19. 'Proxy_Eff_Allele'\n",
       "20. 'r_with_index_SNP'\n",
       "21. 'Proxy_beta_Trait'\n",
       "22. 'Proxy_z_score_Trait'\n",
       "23. 'Proxy_p_Trait'\n",
       "24. 'Proxy_beta_Trait2'\n",
       "25. 'Proxy_z_score_Trait2'\n",
       "26. 'Proxy_p_Trait2'\n",
       "27. 'beta_SMR'\n",
       "28. 'p_SMR'\n",
       "29. 'p_HEIDI'\n",
       "30. 'n_HEIDI'\n",
       "31. 'SNPs_HEIDI'\n",
       "\n",
       "\n"
      ],
      "text/plain": [
       " [1] \"Primary_Trait\"           \"Trait_Collection\"       \n",
       " [3] \"Source_PMID\"             \"N\"                      \n",
       " [5] \"Secondary_Trait(Trait2)\" \"Trait_collection_2\"     \n",
       " [7] \"Source_PMID_Trait2\"      \"N_Trait2\"               \n",
       " [9] \"Index_SNP\"               \"Chromosome\"             \n",
       "[11] \"Position\"                \"Ref_Allele\"             \n",
       "[13] \"Eff_Allele\"              \"beta_Trait\"             \n",
       "[15] \"p_Trait\"                 \"Proxy_SNP\"              \n",
       "[17] \"Proxy_Position\"          \"Proxy_Ref_Allele\"       \n",
       "[19] \"Proxy_Eff_Allele\"        \"r_with_index_SNP\"       \n",
       "[21] \"Proxy_beta_Trait\"        \"Proxy_z_score_Trait\"    \n",
       "[23] \"Proxy_p_Trait\"           \"Proxy_beta_Trait2\"      \n",
       "[25] \"Proxy_z_score_Trait2\"    \"Proxy_p_Trait2\"         \n",
       "[27] \"beta_SMR\"                \"p_SMR\"                  \n",
       "[29] \"p_HEIDI\"                 \"n_HEIDI\"                \n",
       "[31] \"SNPs_HEIDI\"             "
      ]
     },
     "metadata": {},
     "output_type": "display_data"
    },
    {
     "data": {
      "text/html": [
       "<ol class=list-inline>\n",
       "\t<li>'serial_id'</li>\n",
       "\t<li>'marker_snp_id'</li>\n",
       "\t<li>'top_snp_id'</li>\n",
       "\t<li>'ea'</li>\n",
       "\t<li>'ra'</li>\n",
       "\t<li>'bp'</li>\n",
       "\t<li>'chr'</li>\n",
       "\t<li>'cm'</li>\n",
       "\t<li>'gwas_id_1'</li>\n",
       "\t<li>'eaf_1'</li>\n",
       "\t<li>'beta_1'</li>\n",
       "\t<li>'se_1'</li>\n",
       "\t<li>'z_1'</li>\n",
       "\t<li>'p_1'</li>\n",
       "\t<li>'gwas_id_2'</li>\n",
       "\t<li>'eaf_2'</li>\n",
       "\t<li>'beta_2'</li>\n",
       "\t<li>'se_2'</li>\n",
       "\t<li>'z_2'</li>\n",
       "\t<li>'p_2'</li>\n",
       "\t<li>'r'</li>\n",
       "\t<li>'beta_smr'</li>\n",
       "\t<li>'se_smr'</li>\n",
       "\t<li>'z_smr_sq'</li>\n",
       "\t<li>'p_smr'</li>\n",
       "\t<li>'n_heidi'</li>\n",
       "\t<li>'snps_heidi'</li>\n",
       "\t<li>'p_heidi'</li>\n",
       "\t<li>'version'</li>\n",
       "\t<li>'run_query'</li>\n",
       "</ol>\n"
      ],
      "text/latex": [
       "\\begin{enumerate*}\n",
       "\\item 'serial\\_id'\n",
       "\\item 'marker\\_snp\\_id'\n",
       "\\item 'top\\_snp\\_id'\n",
       "\\item 'ea'\n",
       "\\item 'ra'\n",
       "\\item 'bp'\n",
       "\\item 'chr'\n",
       "\\item 'cm'\n",
       "\\item 'gwas\\_id\\_1'\n",
       "\\item 'eaf\\_1'\n",
       "\\item 'beta\\_1'\n",
       "\\item 'se\\_1'\n",
       "\\item 'z\\_1'\n",
       "\\item 'p\\_1'\n",
       "\\item 'gwas\\_id\\_2'\n",
       "\\item 'eaf\\_2'\n",
       "\\item 'beta\\_2'\n",
       "\\item 'se\\_2'\n",
       "\\item 'z\\_2'\n",
       "\\item 'p\\_2'\n",
       "\\item 'r'\n",
       "\\item 'beta\\_smr'\n",
       "\\item 'se\\_smr'\n",
       "\\item 'z\\_smr\\_sq'\n",
       "\\item 'p\\_smr'\n",
       "\\item 'n\\_heidi'\n",
       "\\item 'snps\\_heidi'\n",
       "\\item 'p\\_heidi'\n",
       "\\item 'version'\n",
       "\\item 'run\\_query'\n",
       "\\end{enumerate*}\n"
      ],
      "text/markdown": [
       "1. 'serial_id'\n",
       "2. 'marker_snp_id'\n",
       "3. 'top_snp_id'\n",
       "4. 'ea'\n",
       "5. 'ra'\n",
       "6. 'bp'\n",
       "7. 'chr'\n",
       "8. 'cm'\n",
       "9. 'gwas_id_1'\n",
       "10. 'eaf_1'\n",
       "11. 'beta_1'\n",
       "12. 'se_1'\n",
       "13. 'z_1'\n",
       "14. 'p_1'\n",
       "15. 'gwas_id_2'\n",
       "16. 'eaf_2'\n",
       "17. 'beta_2'\n",
       "18. 'se_2'\n",
       "19. 'z_2'\n",
       "20. 'p_2'\n",
       "21. 'r'\n",
       "22. 'beta_smr'\n",
       "23. 'se_smr'\n",
       "24. 'z_smr_sq'\n",
       "25. 'p_smr'\n",
       "26. 'n_heidi'\n",
       "27. 'snps_heidi'\n",
       "28. 'p_heidi'\n",
       "29. 'version'\n",
       "30. 'run_query'\n",
       "\n",
       "\n"
      ],
      "text/plain": [
       " [1] \"serial_id\"     \"marker_snp_id\" \"top_snp_id\"    \"ea\"           \n",
       " [5] \"ra\"            \"bp\"            \"chr\"           \"cm\"           \n",
       " [9] \"gwas_id_1\"     \"eaf_1\"         \"beta_1\"        \"se_1\"         \n",
       "[13] \"z_1\"           \"p_1\"           \"gwas_id_2\"     \"eaf_2\"        \n",
       "[17] \"beta_2\"        \"se_2\"          \"z_2\"           \"p_2\"          \n",
       "[21] \"r\"             \"beta_smr\"      \"se_smr\"        \"z_smr_sq\"     \n",
       "[25] \"p_smr\"         \"n_heidi\"       \"snps_heidi\"    \"p_heidi\"      \n",
       "[29] \"version\"       \"run_query\"    "
      ]
     },
     "metadata": {},
     "output_type": "display_data"
    }
   ],
   "source": [
    "colnames(x1)\n",
    "colnames(g1)"
   ]
  },
  {
   "cell_type": "code",
   "execution_count": null,
   "metadata": {
    "collapsed": true
   },
   "outputs": [],
   "source": []
  },
  {
   "cell_type": "code",
   "execution_count": 152,
   "metadata": {
    "collapsed": false
   },
   "outputs": [],
   "source": [
    "#table(g1$Trait_collection_2)"
   ]
  },
  {
   "cell_type": "code",
   "execution_count": 153,
   "metadata": {
    "collapsed": true
   },
   "outputs": [],
   "source": [
    "g1=g1[g1$marker_snp_id%in%snps,]"
   ]
  },
  {
   "cell_type": "code",
   "execution_count": 154,
   "metadata": {
    "collapsed": false
   },
   "outputs": [],
   "source": [
    "#tmp=g1[!(g1$Trait_collection_2%in%c(\"UKB_NealeLab\",\"PAIN-3\")),]\n",
    "#tmp[(tmp$p_SMR<=1e-5),c(5,25:30)]"
   ]
  },
  {
   "cell_type": "code",
   "execution_count": 155,
   "metadata": {
    "collapsed": true
   },
   "outputs": [],
   "source": [
    "thr_smr=0.05/((2243+1)*6)\n",
    "#thr_smr=1e-7"
   ]
  },
  {
   "cell_type": "code",
   "execution_count": 156,
   "metadata": {
    "collapsed": false
   },
   "outputs": [
    {
     "data": {
      "text/html": [
       "79"
      ],
      "text/latex": [
       "79"
      ],
      "text/markdown": [
       "79"
      ],
      "text/plain": [
       "[1] 79"
      ]
     },
     "metadata": {},
     "output_type": "display_data"
    }
   ],
   "source": [
    "ind=which((g2$p_smr<=thr_smr)&(g2$p_heidi>=0.01))\n",
    "tmp=g2[ind,\"gwas_id_2\"]\n",
    "ind=which((g1$p_smr<=thr_smr)&(g1$p_heidi>=0.01))\n",
    "tmp=c(tmp,g1[ind,\"gwas_id_2\"])\n",
    "sig_gids=unique(tmp)\n",
    "length(sig_gids)"
   ]
  },
  {
   "cell_type": "code",
   "execution_count": 157,
   "metadata": {
    "collapsed": false
   },
   "outputs": [
    {
     "data": {
      "text/html": [
       "77"
      ],
      "text/latex": [
       "77"
      ],
      "text/markdown": [
       "77"
      ],
      "text/plain": [
       "[1] 77"
      ]
     },
     "metadata": {},
     "output_type": "display_data"
    }
   ],
   "source": [
    "sig_gids=sig_gids[!sig_gids%in%c(4529,4530,4531,4533)]\n",
    "length(sig_gids)"
   ]
  },
  {
   "cell_type": "code",
   "execution_count": 158,
   "metadata": {
    "collapsed": false
   },
   "outputs": [],
   "source": [
    "#fwrite(x=desc[desc$gwas_id%in%sig_gids,],file=\"20190226_sig_desc.txt\",sep=\"\\t\")"
   ]
  },
  {
   "cell_type": "code",
   "execution_count": 159,
   "metadata": {
    "collapsed": true
   },
   "outputs": [],
   "source": [
    "g1=g1[g1$gwas_id_2%in%sig_gids,]\n",
    "g2=g2[g2$gwas_id_2%in%sig_gids,]"
   ]
  },
  {
   "cell_type": "code",
   "execution_count": 160,
   "metadata": {
    "collapsed": false
   },
   "outputs": [
    {
     "data": {
      "text/html": [
       "<ol class=list-inline>\n",
       "\t<li>380</li>\n",
       "\t<li>30</li>\n",
       "</ol>\n"
      ],
      "text/latex": [
       "\\begin{enumerate*}\n",
       "\\item 380\n",
       "\\item 30\n",
       "\\end{enumerate*}\n"
      ],
      "text/markdown": [
       "1. 380\n",
       "2. 30\n",
       "\n",
       "\n"
      ],
      "text/plain": [
       "[1] 380  30"
      ]
     },
     "metadata": {},
     "output_type": "display_data"
    },
    {
     "data": {
      "text/html": [
       "<ol class=list-inline>\n",
       "\t<li>77</li>\n",
       "\t<li>30</li>\n",
       "</ol>\n"
      ],
      "text/latex": [
       "\\begin{enumerate*}\n",
       "\\item 77\n",
       "\\item 30\n",
       "\\end{enumerate*}\n"
      ],
      "text/markdown": [
       "1. 77\n",
       "2. 30\n",
       "\n",
       "\n"
      ],
      "text/plain": [
       "[1] 77 30"
      ]
     },
     "metadata": {},
     "output_type": "display_data"
    },
    {
     "data": {
      "text/plain": [
       "\n",
       "rs143384 \n",
       "      77 "
      ]
     },
     "metadata": {},
     "output_type": "display_data"
    },
    {
     "data": {
      "text/plain": [
       "\n",
       "rs12705966 rs13107325  rs3737240 rs73581580  rs7628207 \n",
       "        76         77         77         73         77 "
      ]
     },
     "metadata": {},
     "output_type": "display_data"
    }
   ],
   "source": [
    "dim(g1)\n",
    "dim(g2)\n",
    "table(g2$marker_snp_id,exclude = F)\n",
    "table(g1$marker_snp_id,exclude = F)"
   ]
  },
  {
   "cell_type": "code",
   "execution_count": 161,
   "metadata": {
    "collapsed": false
   },
   "outputs": [
    {
     "data": {
      "text/plain": [
       "\n",
       "TRUE \n",
       "  30 "
      ]
     },
     "metadata": {},
     "output_type": "display_data"
    }
   ],
   "source": [
    "table(colnames(g1)==colnames(g2))"
   ]
  },
  {
   "cell_type": "code",
   "execution_count": 162,
   "metadata": {
    "collapsed": true
   },
   "outputs": [],
   "source": [
    "G=rbind(g1,g2)"
   ]
  },
  {
   "cell_type": "code",
   "execution_count": 163,
   "metadata": {
    "collapsed": false
   },
   "outputs": [
    {
     "data": {
      "text/html": [
       "457"
      ],
      "text/latex": [
       "457"
      ],
      "text/markdown": [
       "457"
      ],
      "text/plain": [
       "[1] 457"
      ]
     },
     "metadata": {},
     "output_type": "display_data"
    }
   ],
   "source": [
    "ind=match(G$gwas_id_2,desc$gwas_id)\n",
    "length(ind)"
   ]
  },
  {
   "cell_type": "code",
   "execution_count": 164,
   "metadata": {
    "collapsed": false
   },
   "outputs": [],
   "source": [
    "G=cbind(G,trait_name=desc$trait_name[ind],trait_abbreviation=desc$trait_abbreviation[ind])"
   ]
  },
  {
   "cell_type": "code",
   "execution_count": 165,
   "metadata": {
    "collapsed": false
   },
   "outputs": [
    {
     "data": {
      "text/html": [
       "<ol class=list-inline>\n",
       "\t<li>'serial_id'</li>\n",
       "\t<li>'marker_snp_id'</li>\n",
       "\t<li>'top_snp_id'</li>\n",
       "\t<li>'ea'</li>\n",
       "\t<li>'ra'</li>\n",
       "\t<li>'bp'</li>\n",
       "\t<li>'chr'</li>\n",
       "\t<li>'cm'</li>\n",
       "\t<li>'gwas_id_1'</li>\n",
       "\t<li>'eaf_1'</li>\n",
       "\t<li>'beta_1'</li>\n",
       "\t<li>'se_1'</li>\n",
       "\t<li>'z_1'</li>\n",
       "\t<li>'p_1'</li>\n",
       "\t<li>'gwas_id_2'</li>\n",
       "\t<li>'eaf_2'</li>\n",
       "\t<li>'beta_2'</li>\n",
       "\t<li>'se_2'</li>\n",
       "\t<li>'z_2'</li>\n",
       "\t<li>'p_2'</li>\n",
       "\t<li>'r'</li>\n",
       "\t<li>'beta_smr'</li>\n",
       "\t<li>'se_smr'</li>\n",
       "\t<li>'z_smr_sq'</li>\n",
       "\t<li>'p_smr'</li>\n",
       "\t<li>'n_heidi'</li>\n",
       "\t<li>'snps_heidi'</li>\n",
       "\t<li>'p_heidi'</li>\n",
       "\t<li>'version'</li>\n",
       "\t<li>'run_query'</li>\n",
       "\t<li>'trait_name'</li>\n",
       "\t<li>'trait_abbreviation'</li>\n",
       "</ol>\n"
      ],
      "text/latex": [
       "\\begin{enumerate*}\n",
       "\\item 'serial\\_id'\n",
       "\\item 'marker\\_snp\\_id'\n",
       "\\item 'top\\_snp\\_id'\n",
       "\\item 'ea'\n",
       "\\item 'ra'\n",
       "\\item 'bp'\n",
       "\\item 'chr'\n",
       "\\item 'cm'\n",
       "\\item 'gwas\\_id\\_1'\n",
       "\\item 'eaf\\_1'\n",
       "\\item 'beta\\_1'\n",
       "\\item 'se\\_1'\n",
       "\\item 'z\\_1'\n",
       "\\item 'p\\_1'\n",
       "\\item 'gwas\\_id\\_2'\n",
       "\\item 'eaf\\_2'\n",
       "\\item 'beta\\_2'\n",
       "\\item 'se\\_2'\n",
       "\\item 'z\\_2'\n",
       "\\item 'p\\_2'\n",
       "\\item 'r'\n",
       "\\item 'beta\\_smr'\n",
       "\\item 'se\\_smr'\n",
       "\\item 'z\\_smr\\_sq'\n",
       "\\item 'p\\_smr'\n",
       "\\item 'n\\_heidi'\n",
       "\\item 'snps\\_heidi'\n",
       "\\item 'p\\_heidi'\n",
       "\\item 'version'\n",
       "\\item 'run\\_query'\n",
       "\\item 'trait\\_name'\n",
       "\\item 'trait\\_abbreviation'\n",
       "\\end{enumerate*}\n"
      ],
      "text/markdown": [
       "1. 'serial_id'\n",
       "2. 'marker_snp_id'\n",
       "3. 'top_snp_id'\n",
       "4. 'ea'\n",
       "5. 'ra'\n",
       "6. 'bp'\n",
       "7. 'chr'\n",
       "8. 'cm'\n",
       "9. 'gwas_id_1'\n",
       "10. 'eaf_1'\n",
       "11. 'beta_1'\n",
       "12. 'se_1'\n",
       "13. 'z_1'\n",
       "14. 'p_1'\n",
       "15. 'gwas_id_2'\n",
       "16. 'eaf_2'\n",
       "17. 'beta_2'\n",
       "18. 'se_2'\n",
       "19. 'z_2'\n",
       "20. 'p_2'\n",
       "21. 'r'\n",
       "22. 'beta_smr'\n",
       "23. 'se_smr'\n",
       "24. 'z_smr_sq'\n",
       "25. 'p_smr'\n",
       "26. 'n_heidi'\n",
       "27. 'snps_heidi'\n",
       "28. 'p_heidi'\n",
       "29. 'version'\n",
       "30. 'run_query'\n",
       "31. 'trait_name'\n",
       "32. 'trait_abbreviation'\n",
       "\n",
       "\n"
      ],
      "text/plain": [
       " [1] \"serial_id\"          \"marker_snp_id\"      \"top_snp_id\"        \n",
       " [4] \"ea\"                 \"ra\"                 \"bp\"                \n",
       " [7] \"chr\"                \"cm\"                 \"gwas_id_1\"         \n",
       "[10] \"eaf_1\"              \"beta_1\"             \"se_1\"              \n",
       "[13] \"z_1\"                \"p_1\"                \"gwas_id_2\"         \n",
       "[16] \"eaf_2\"              \"beta_2\"             \"se_2\"              \n",
       "[19] \"z_2\"                \"p_2\"                \"r\"                 \n",
       "[22] \"beta_smr\"           \"se_smr\"             \"z_smr_sq\"          \n",
       "[25] \"p_smr\"              \"n_heidi\"            \"snps_heidi\"        \n",
       "[28] \"p_heidi\"            \"version\"            \"run_query\"         \n",
       "[31] \"trait_name\"         \"trait_abbreviation\""
      ]
     },
     "metadata": {},
     "output_type": "display_data"
    }
   ],
   "source": [
    "colnames(G)"
   ]
  },
  {
   "cell_type": "code",
   "execution_count": 166,
   "metadata": {
    "collapsed": true
   },
   "outputs": [],
   "source": [
    "fwrite(x=G,file=\"20190227_smr_heidi_all_sign.txt\",sep=\"\\t\")"
   ]
  },
  {
   "cell_type": "code",
   "execution_count": 167,
   "metadata": {
    "collapsed": false
   },
   "outputs": [
    {
     "data": {
      "text/html": [
       "3.71360665478313e-06"
      ],
      "text/latex": [
       "3.71360665478313e-06"
      ],
      "text/markdown": [
       "3.71360665478313e-06"
      ],
      "text/plain": [
       "[1] 3.713607e-06"
      ]
     },
     "metadata": {},
     "output_type": "display_data"
    }
   ],
   "source": [
    "thr_smr"
   ]
  },
  {
   "cell_type": "markdown",
   "metadata": {},
   "source": [
    "# Figure"
   ]
  },
  {
   "cell_type": "code",
   "execution_count": 168,
   "metadata": {
    "collapsed": false
   },
   "outputs": [
    {
     "data": {
      "text/html": [
       "<table>\n",
       "<caption>A data.frame: 2 × 2</caption>\n",
       "<thead>\n",
       "\t<tr><th></th><th scope=col>gwas_id</th><th scope=col>trait_name</th></tr>\n",
       "\t<tr><th></th><th scope=col>&lt;int&gt;</th><th scope=col>&lt;chr&gt;</th></tr>\n",
       "</thead>\n",
       "<tbody>\n",
       "\t<tr><th scope=row>35</th><td>4159</td><td>Getting up in morning                            </td></tr>\n",
       "\t<tr><th scope=row>36</th><td>4161</td><td>Frequency of tiredness / lethargy in last 2 weeks</td></tr>\n",
       "</tbody>\n",
       "</table>\n"
      ],
      "text/latex": [
       "A data.frame: 2 × 2\n",
       "\\begin{tabular}{r|ll}\n",
       "  & gwas\\_id & trait\\_name\\\\\n",
       "  & <int> & <chr>\\\\\n",
       "\\hline\n",
       "\t35 & 4159 & Getting up in morning                            \\\\\n",
       "\t36 & 4161 & Frequency of tiredness / lethargy in last 2 weeks\\\\\n",
       "\\end{tabular}\n"
      ],
      "text/markdown": [
       "\n",
       "A data.frame: 2 × 2\n",
       "\n",
       "| <!--/--> | gwas_id &lt;int&gt; | trait_name &lt;chr&gt; |\n",
       "|---|---|---|\n",
       "| 35 | 4159 | Getting up in morning                             |\n",
       "| 36 | 4161 | Frequency of tiredness / lethargy in last 2 weeks |\n",
       "\n"
      ],
      "text/plain": [
       "   gwas_id trait_name                                       \n",
       "35 4159    Getting up in morning                            \n",
       "36 4161    Frequency of tiredness / lethargy in last 2 weeks"
      ]
     },
     "metadata": {},
     "output_type": "display_data"
    }
   ],
   "source": [
    "toRemove[toRemove$gwas_id%in%c(4159,4161),1:2]\n",
    "toRemove=toRemove[!(toRemove$gwas_id%in%c(4159,4161)),]"
   ]
  },
  {
   "cell_type": "code",
   "execution_count": 169,
   "metadata": {
    "collapsed": false
   },
   "outputs": [
    {
     "data": {
      "text/html": [
       "<table>\n",
       "<caption>A data.frame: 1 × 2</caption>\n",
       "<thead>\n",
       "\t<tr><th></th><th scope=col>gwas_id</th><th scope=col>trait_name</th></tr>\n",
       "\t<tr><th></th><th scope=col>&lt;int&gt;</th><th scope=col>&lt;chr&gt;</th></tr>\n",
       "</thead>\n",
       "<tbody>\n",
       "\t<tr><th scope=row>13</th><td>3918</td><td>Usual walking pace</td></tr>\n",
       "</tbody>\n",
       "</table>\n"
      ],
      "text/latex": [
       "A data.frame: 1 × 2\n",
       "\\begin{tabular}{r|ll}\n",
       "  & gwas\\_id & trait\\_name\\\\\n",
       "  & <int> & <chr>\\\\\n",
       "\\hline\n",
       "\t13 & 3918 & Usual walking pace\\\\\n",
       "\\end{tabular}\n"
      ],
      "text/markdown": [
       "\n",
       "A data.frame: 1 × 2\n",
       "\n",
       "| <!--/--> | gwas_id &lt;int&gt; | trait_name &lt;chr&gt; |\n",
       "|---|---|---|\n",
       "| 13 | 3918 | Usual walking pace |\n",
       "\n"
      ],
      "text/plain": [
       "   gwas_id trait_name        \n",
       "13 3918    Usual walking pace"
      ]
     },
     "metadata": {},
     "output_type": "display_data"
    }
   ],
   "source": [
    "toRemove[!(toRemove$gwas_id%in%g1$gwas_id_2 | toRemove$gwas_id%in%g2$gwas_id_2),1:2]"
   ]
  },
  {
   "cell_type": "code",
   "execution_count": null,
   "metadata": {
    "collapsed": true
   },
   "outputs": [],
   "source": []
  },
  {
   "cell_type": "code",
   "execution_count": 170,
   "metadata": {
    "collapsed": false
   },
   "outputs": [],
   "source": [
    "g1=g1[!(g1$gwas_id_2%in%toRemove$gwas_id),]\n",
    "g2=g2[!(g2$gwas_id_2%in%toRemove$gwas_id),]"
   ]
  },
  {
   "cell_type": "code",
   "execution_count": 171,
   "metadata": {
    "collapsed": false
   },
   "outputs": [
    {
     "data": {
      "text/plain": [
       "\n",
       "TRUE \n",
       "  30 "
      ]
     },
     "metadata": {},
     "output_type": "display_data"
    }
   ],
   "source": [
    "table(colnames(g1)==colnames(g2))"
   ]
  },
  {
   "cell_type": "code",
   "execution_count": 172,
   "metadata": {
    "collapsed": true
   },
   "outputs": [],
   "source": [
    "G=rbind(g1,g2)"
   ]
  },
  {
   "cell_type": "code",
   "execution_count": 173,
   "metadata": {
    "collapsed": true
   },
   "outputs": [],
   "source": [
    "library(tidyr)"
   ]
  },
  {
   "cell_type": "markdown",
   "metadata": {},
   "source": [
    "# opt 2"
   ]
  },
  {
   "cell_type": "code",
   "execution_count": 174,
   "metadata": {
    "collapsed": false
   },
   "outputs": [
    {
     "data": {
      "text/html": [
       "<ol class=list-inline>\n",
       "\t<li>188</li>\n",
       "\t<li>30</li>\n",
       "</ol>\n"
      ],
      "text/latex": [
       "\\begin{enumerate*}\n",
       "\\item 188\n",
       "\\item 30\n",
       "\\end{enumerate*}\n"
      ],
      "text/markdown": [
       "1. 188\n",
       "2. 30\n",
       "\n",
       "\n"
      ],
      "text/plain": [
       "[1] 188  30"
      ]
     },
     "metadata": {},
     "output_type": "display_data"
    }
   ],
   "source": [
    "dim(G)"
   ]
  },
  {
   "cell_type": "code",
   "execution_count": 175,
   "metadata": {
    "collapsed": false
   },
   "outputs": [
    {
     "data": {
      "text/html": [
       "<ol class=list-inline>\n",
       "\t<li>5</li>\n",
       "\t<li>31</li>\n",
       "</ol>\n"
      ],
      "text/latex": [
       "\\begin{enumerate*}\n",
       "\\item 5\n",
       "\\item 31\n",
       "\\end{enumerate*}\n"
      ],
      "text/markdown": [
       "1. 5\n",
       "2. 31\n",
       "\n",
       "\n"
      ],
      "text/plain": [
       "[1]  5 31"
      ]
     },
     "metadata": {},
     "output_type": "display_data"
    },
    {
     "data": {
      "text/html": [
       "<ol class=list-inline>\n",
       "\t<li>1</li>\n",
       "\t<li>31</li>\n",
       "</ol>\n"
      ],
      "text/latex": [
       "\\begin{enumerate*}\n",
       "\\item 1\n",
       "\\item 31\n",
       "\\end{enumerate*}\n"
      ],
      "text/markdown": [
       "1. 1\n",
       "2. 31\n",
       "\n",
       "\n"
      ],
      "text/plain": [
       "[1]  1 31"
      ]
     },
     "metadata": {},
     "output_type": "display_data"
    }
   ],
   "source": [
    "x1=fread(\"gpc1_out_v4.csv\",data.table=F)\n",
    "dim(x1)\n",
    "x2=fread(\"gpc2_out_v4.csv\",data.table=F)\n",
    "dim(x2)"
   ]
  },
  {
   "cell_type": "code",
   "execution_count": 176,
   "metadata": {
    "collapsed": false
   },
   "outputs": [
    {
     "data": {
      "text/html": [
       "<ol class=list-inline>\n",
       "\t<li>'serial_id'</li>\n",
       "\t<li>'marker_snp_id'</li>\n",
       "\t<li>'top_snp_id'</li>\n",
       "\t<li>'ea'</li>\n",
       "\t<li>'ra'</li>\n",
       "\t<li>'bp'</li>\n",
       "\t<li>'chr'</li>\n",
       "\t<li>'cm'</li>\n",
       "\t<li>'gwas_id_1'</li>\n",
       "\t<li>'eaf_1'</li>\n",
       "\t<li>'beta_1'</li>\n",
       "\t<li>'se_1'</li>\n",
       "\t<li>'z_1'</li>\n",
       "\t<li>'p_1'</li>\n",
       "\t<li>'gwas_id_2'</li>\n",
       "\t<li>'eaf_2'</li>\n",
       "\t<li>'beta_2'</li>\n",
       "\t<li>'se_2'</li>\n",
       "\t<li>'z_2'</li>\n",
       "\t<li>'p_2'</li>\n",
       "\t<li>'r'</li>\n",
       "\t<li>'beta_smr'</li>\n",
       "\t<li>'se_smr'</li>\n",
       "\t<li>'z_smr_sq'</li>\n",
       "\t<li>'p_smr'</li>\n",
       "\t<li>'n_heidi'</li>\n",
       "\t<li>'snps_heidi'</li>\n",
       "\t<li>'p_heidi'</li>\n",
       "\t<li>'version'</li>\n",
       "\t<li>'run_query'</li>\n",
       "</ol>\n"
      ],
      "text/latex": [
       "\\begin{enumerate*}\n",
       "\\item 'serial\\_id'\n",
       "\\item 'marker\\_snp\\_id'\n",
       "\\item 'top\\_snp\\_id'\n",
       "\\item 'ea'\n",
       "\\item 'ra'\n",
       "\\item 'bp'\n",
       "\\item 'chr'\n",
       "\\item 'cm'\n",
       "\\item 'gwas\\_id\\_1'\n",
       "\\item 'eaf\\_1'\n",
       "\\item 'beta\\_1'\n",
       "\\item 'se\\_1'\n",
       "\\item 'z\\_1'\n",
       "\\item 'p\\_1'\n",
       "\\item 'gwas\\_id\\_2'\n",
       "\\item 'eaf\\_2'\n",
       "\\item 'beta\\_2'\n",
       "\\item 'se\\_2'\n",
       "\\item 'z\\_2'\n",
       "\\item 'p\\_2'\n",
       "\\item 'r'\n",
       "\\item 'beta\\_smr'\n",
       "\\item 'se\\_smr'\n",
       "\\item 'z\\_smr\\_sq'\n",
       "\\item 'p\\_smr'\n",
       "\\item 'n\\_heidi'\n",
       "\\item 'snps\\_heidi'\n",
       "\\item 'p\\_heidi'\n",
       "\\item 'version'\n",
       "\\item 'run\\_query'\n",
       "\\end{enumerate*}\n"
      ],
      "text/markdown": [
       "1. 'serial_id'\n",
       "2. 'marker_snp_id'\n",
       "3. 'top_snp_id'\n",
       "4. 'ea'\n",
       "5. 'ra'\n",
       "6. 'bp'\n",
       "7. 'chr'\n",
       "8. 'cm'\n",
       "9. 'gwas_id_1'\n",
       "10. 'eaf_1'\n",
       "11. 'beta_1'\n",
       "12. 'se_1'\n",
       "13. 'z_1'\n",
       "14. 'p_1'\n",
       "15. 'gwas_id_2'\n",
       "16. 'eaf_2'\n",
       "17. 'beta_2'\n",
       "18. 'se_2'\n",
       "19. 'z_2'\n",
       "20. 'p_2'\n",
       "21. 'r'\n",
       "22. 'beta_smr'\n",
       "23. 'se_smr'\n",
       "24. 'z_smr_sq'\n",
       "25. 'p_smr'\n",
       "26. 'n_heidi'\n",
       "27. 'snps_heidi'\n",
       "28. 'p_heidi'\n",
       "29. 'version'\n",
       "30. 'run_query'\n",
       "\n",
       "\n"
      ],
      "text/plain": [
       " [1] \"serial_id\"     \"marker_snp_id\" \"top_snp_id\"    \"ea\"           \n",
       " [5] \"ra\"            \"bp\"            \"chr\"           \"cm\"           \n",
       " [9] \"gwas_id_1\"     \"eaf_1\"         \"beta_1\"        \"se_1\"         \n",
       "[13] \"z_1\"           \"p_1\"           \"gwas_id_2\"     \"eaf_2\"        \n",
       "[17] \"beta_2\"        \"se_2\"          \"z_2\"           \"p_2\"          \n",
       "[21] \"r\"             \"beta_smr\"      \"se_smr\"        \"z_smr_sq\"     \n",
       "[25] \"p_smr\"         \"n_heidi\"       \"snps_heidi\"    \"p_heidi\"      \n",
       "[29] \"version\"       \"run_query\"    "
      ]
     },
     "metadata": {},
     "output_type": "display_data"
    }
   ],
   "source": [
    "colnames(G)"
   ]
  },
  {
   "cell_type": "code",
   "execution_count": 177,
   "metadata": {
    "collapsed": false
   },
   "outputs": [
    {
     "data": {
      "text/html": [
       "<ol class=list-inline>\n",
       "\t<li>TRUE</li>\n",
       "\t<li>TRUE</li>\n",
       "\t<li>TRUE</li>\n",
       "\t<li>TRUE</li>\n",
       "\t<li>TRUE</li>\n",
       "\t<li>TRUE</li>\n",
       "\t<li>TRUE</li>\n",
       "\t<li>TRUE</li>\n",
       "\t<li>TRUE</li>\n",
       "\t<li>TRUE</li>\n",
       "\t<li>TRUE</li>\n",
       "\t<li>TRUE</li>\n",
       "\t<li>TRUE</li>\n",
       "\t<li>TRUE</li>\n",
       "\t<li>TRUE</li>\n",
       "\t<li>TRUE</li>\n",
       "\t<li>TRUE</li>\n",
       "\t<li>TRUE</li>\n",
       "\t<li>TRUE</li>\n",
       "\t<li>TRUE</li>\n",
       "\t<li>TRUE</li>\n",
       "\t<li>TRUE</li>\n",
       "\t<li>TRUE</li>\n",
       "\t<li>TRUE</li>\n",
       "\t<li>TRUE</li>\n",
       "\t<li>TRUE</li>\n",
       "\t<li>TRUE</li>\n",
       "\t<li>TRUE</li>\n",
       "\t<li>TRUE</li>\n",
       "\t<li>TRUE</li>\n",
       "\t<li>TRUE</li>\n",
       "</ol>\n"
      ],
      "text/latex": [
       "\\begin{enumerate*}\n",
       "\\item TRUE\n",
       "\\item TRUE\n",
       "\\item TRUE\n",
       "\\item TRUE\n",
       "\\item TRUE\n",
       "\\item TRUE\n",
       "\\item TRUE\n",
       "\\item TRUE\n",
       "\\item TRUE\n",
       "\\item TRUE\n",
       "\\item TRUE\n",
       "\\item TRUE\n",
       "\\item TRUE\n",
       "\\item TRUE\n",
       "\\item TRUE\n",
       "\\item TRUE\n",
       "\\item TRUE\n",
       "\\item TRUE\n",
       "\\item TRUE\n",
       "\\item TRUE\n",
       "\\item TRUE\n",
       "\\item TRUE\n",
       "\\item TRUE\n",
       "\\item TRUE\n",
       "\\item TRUE\n",
       "\\item TRUE\n",
       "\\item TRUE\n",
       "\\item TRUE\n",
       "\\item TRUE\n",
       "\\item TRUE\n",
       "\\item TRUE\n",
       "\\end{enumerate*}\n"
      ],
      "text/markdown": [
       "1. TRUE\n",
       "2. TRUE\n",
       "3. TRUE\n",
       "4. TRUE\n",
       "5. TRUE\n",
       "6. TRUE\n",
       "7. TRUE\n",
       "8. TRUE\n",
       "9. TRUE\n",
       "10. TRUE\n",
       "11. TRUE\n",
       "12. TRUE\n",
       "13. TRUE\n",
       "14. TRUE\n",
       "15. TRUE\n",
       "16. TRUE\n",
       "17. TRUE\n",
       "18. TRUE\n",
       "19. TRUE\n",
       "20. TRUE\n",
       "21. TRUE\n",
       "22. TRUE\n",
       "23. TRUE\n",
       "24. TRUE\n",
       "25. TRUE\n",
       "26. TRUE\n",
       "27. TRUE\n",
       "28. TRUE\n",
       "29. TRUE\n",
       "30. TRUE\n",
       "31. TRUE\n",
       "\n",
       "\n"
      ],
      "text/plain": [
       " [1] TRUE TRUE TRUE TRUE TRUE TRUE TRUE TRUE TRUE TRUE TRUE TRUE TRUE TRUE TRUE\n",
       "[16] TRUE TRUE TRUE TRUE TRUE TRUE TRUE TRUE TRUE TRUE TRUE TRUE TRUE TRUE TRUE\n",
       "[31] TRUE"
      ]
     },
     "metadata": {},
     "output_type": "display_data"
    }
   ],
   "source": [
    "colnames(x1)==colnames(x2)"
   ]
  },
  {
   "cell_type": "code",
   "execution_count": 178,
   "metadata": {
    "collapsed": false
   },
   "outputs": [
    {
     "data": {
      "text/html": [
       "<ol class=list-inline>\n",
       "\t<li>6</li>\n",
       "\t<li>31</li>\n",
       "</ol>\n"
      ],
      "text/latex": [
       "\\begin{enumerate*}\n",
       "\\item 6\n",
       "\\item 31\n",
       "\\end{enumerate*}\n"
      ],
      "text/markdown": [
       "1. 6\n",
       "2. 31\n",
       "\n",
       "\n"
      ],
      "text/plain": [
       "[1]  6 31"
      ]
     },
     "metadata": {},
     "output_type": "display_data"
    }
   ],
   "source": [
    "x3=rbind(x1,x2)\n",
    "dim(x3)"
   ]
  },
  {
   "cell_type": "code",
   "execution_count": 179,
   "metadata": {
    "collapsed": false
   },
   "outputs": [
    {
     "data": {
      "text/plain": [
       "\n",
       "rs12705966 rs13107325   rs143384  rs3737240 rs73581580  rs7628207 \n",
       "         1          1          1          1          1          1 "
      ]
     },
     "metadata": {},
     "output_type": "display_data"
    }
   ],
   "source": [
    "table(x3$Index_SNP)\n"
   ]
  },
  {
   "cell_type": "code",
   "execution_count": 180,
   "metadata": {
    "collapsed": true
   },
   "outputs": [],
   "source": [
    "####"
   ]
  },
  {
   "cell_type": "code",
   "execution_count": 246,
   "metadata": {
    "collapsed": true
   },
   "outputs": [],
   "source": [
    "G1=G[,c(\"marker_snp_id\",\"gwas_id_2\",\"p_smr\")]\n",
    "G2=G[,c(\"marker_snp_id\",\"gwas_id_2\",\"p_heidi\")]\n",
    "G3=G[,c(\"marker_snp_id\",\"gwas_id_2\",\"beta_smr\")]"
   ]
  },
  {
   "cell_type": "code",
   "execution_count": null,
   "metadata": {
    "collapsed": true
   },
   "outputs": [],
   "source": []
  },
  {
   "cell_type": "code",
   "execution_count": null,
   "metadata": {
    "collapsed": true
   },
   "outputs": [],
   "source": []
  },
  {
   "cell_type": "code",
   "execution_count": 247,
   "metadata": {
    "collapsed": false
   },
   "outputs": [
    {
     "data": {
      "text/html": [
       "<ol class=list-inline>\n",
       "\t<li>'marker_snp_id'</li>\n",
       "\t<li>'gwas_id_2'</li>\n",
       "\t<li>'p_smr'</li>\n",
       "</ol>\n"
      ],
      "text/latex": [
       "\\begin{enumerate*}\n",
       "\\item 'marker\\_snp\\_id'\n",
       "\\item 'gwas\\_id\\_2'\n",
       "\\item 'p\\_smr'\n",
       "\\end{enumerate*}\n"
      ],
      "text/markdown": [
       "1. 'marker_snp_id'\n",
       "2. 'gwas_id_2'\n",
       "3. 'p_smr'\n",
       "\n",
       "\n"
      ],
      "text/plain": [
       "[1] \"marker_snp_id\" \"gwas_id_2\"     \"p_smr\"        "
      ]
     },
     "metadata": {},
     "output_type": "display_data"
    },
    {
     "data": {
      "text/html": [
       "<ol class=list-inline>\n",
       "\t<li>'Primary_Trait'</li>\n",
       "\t<li>'Trait_Collection'</li>\n",
       "\t<li>'Source_PMID'</li>\n",
       "\t<li>'N'</li>\n",
       "\t<li>'Secondary_Trait(Trait2)'</li>\n",
       "\t<li>'Trait_collection_2'</li>\n",
       "\t<li>'Source_PMID_Trait2'</li>\n",
       "\t<li>'N_Trait2'</li>\n",
       "\t<li>'Index_SNP'</li>\n",
       "\t<li>'Chromosome'</li>\n",
       "\t<li>'Position'</li>\n",
       "\t<li>'Ref_Allele'</li>\n",
       "\t<li>'Eff_Allele'</li>\n",
       "\t<li>'beta_Trait'</li>\n",
       "\t<li>'p_Trait'</li>\n",
       "\t<li>'Proxy_SNP'</li>\n",
       "\t<li>'Proxy_Position'</li>\n",
       "\t<li>'Proxy_Ref_Allele'</li>\n",
       "\t<li>'Proxy_Eff_Allele'</li>\n",
       "\t<li>'r_with_index_SNP'</li>\n",
       "\t<li>'Proxy_beta_Trait'</li>\n",
       "\t<li>'Proxy_z_score_Trait'</li>\n",
       "\t<li>'Proxy_p_Trait'</li>\n",
       "\t<li>'Proxy_beta_Trait2'</li>\n",
       "\t<li>'Proxy_z_score_Trait2'</li>\n",
       "\t<li>'Proxy_p_Trait2'</li>\n",
       "\t<li>'beta_SMR'</li>\n",
       "\t<li>'p_SMR'</li>\n",
       "\t<li>'p_HEIDI'</li>\n",
       "\t<li>'n_HEIDI'</li>\n",
       "\t<li>'SNPs_HEIDI'</li>\n",
       "</ol>\n"
      ],
      "text/latex": [
       "\\begin{enumerate*}\n",
       "\\item 'Primary\\_Trait'\n",
       "\\item 'Trait\\_Collection'\n",
       "\\item 'Source\\_PMID'\n",
       "\\item 'N'\n",
       "\\item 'Secondary\\_Trait(Trait2)'\n",
       "\\item 'Trait\\_collection\\_2'\n",
       "\\item 'Source\\_PMID\\_Trait2'\n",
       "\\item 'N\\_Trait2'\n",
       "\\item 'Index\\_SNP'\n",
       "\\item 'Chromosome'\n",
       "\\item 'Position'\n",
       "\\item 'Ref\\_Allele'\n",
       "\\item 'Eff\\_Allele'\n",
       "\\item 'beta\\_Trait'\n",
       "\\item 'p\\_Trait'\n",
       "\\item 'Proxy\\_SNP'\n",
       "\\item 'Proxy\\_Position'\n",
       "\\item 'Proxy\\_Ref\\_Allele'\n",
       "\\item 'Proxy\\_Eff\\_Allele'\n",
       "\\item 'r\\_with\\_index\\_SNP'\n",
       "\\item 'Proxy\\_beta\\_Trait'\n",
       "\\item 'Proxy\\_z\\_score\\_Trait'\n",
       "\\item 'Proxy\\_p\\_Trait'\n",
       "\\item 'Proxy\\_beta\\_Trait2'\n",
       "\\item 'Proxy\\_z\\_score\\_Trait2'\n",
       "\\item 'Proxy\\_p\\_Trait2'\n",
       "\\item 'beta\\_SMR'\n",
       "\\item 'p\\_SMR'\n",
       "\\item 'p\\_HEIDI'\n",
       "\\item 'n\\_HEIDI'\n",
       "\\item 'SNPs\\_HEIDI'\n",
       "\\end{enumerate*}\n"
      ],
      "text/markdown": [
       "1. 'Primary_Trait'\n",
       "2. 'Trait_Collection'\n",
       "3. 'Source_PMID'\n",
       "4. 'N'\n",
       "5. 'Secondary_Trait(Trait2)'\n",
       "6. 'Trait_collection_2'\n",
       "7. 'Source_PMID_Trait2'\n",
       "8. 'N_Trait2'\n",
       "9. 'Index_SNP'\n",
       "10. 'Chromosome'\n",
       "11. 'Position'\n",
       "12. 'Ref_Allele'\n",
       "13. 'Eff_Allele'\n",
       "14. 'beta_Trait'\n",
       "15. 'p_Trait'\n",
       "16. 'Proxy_SNP'\n",
       "17. 'Proxy_Position'\n",
       "18. 'Proxy_Ref_Allele'\n",
       "19. 'Proxy_Eff_Allele'\n",
       "20. 'r_with_index_SNP'\n",
       "21. 'Proxy_beta_Trait'\n",
       "22. 'Proxy_z_score_Trait'\n",
       "23. 'Proxy_p_Trait'\n",
       "24. 'Proxy_beta_Trait2'\n",
       "25. 'Proxy_z_score_Trait2'\n",
       "26. 'Proxy_p_Trait2'\n",
       "27. 'beta_SMR'\n",
       "28. 'p_SMR'\n",
       "29. 'p_HEIDI'\n",
       "30. 'n_HEIDI'\n",
       "31. 'SNPs_HEIDI'\n",
       "\n",
       "\n"
      ],
      "text/plain": [
       " [1] \"Primary_Trait\"           \"Trait_Collection\"       \n",
       " [3] \"Source_PMID\"             \"N\"                      \n",
       " [5] \"Secondary_Trait(Trait2)\" \"Trait_collection_2\"     \n",
       " [7] \"Source_PMID_Trait2\"      \"N_Trait2\"               \n",
       " [9] \"Index_SNP\"               \"Chromosome\"             \n",
       "[11] \"Position\"                \"Ref_Allele\"             \n",
       "[13] \"Eff_Allele\"              \"beta_Trait\"             \n",
       "[15] \"p_Trait\"                 \"Proxy_SNP\"              \n",
       "[17] \"Proxy_Position\"          \"Proxy_Ref_Allele\"       \n",
       "[19] \"Proxy_Eff_Allele\"        \"r_with_index_SNP\"       \n",
       "[21] \"Proxy_beta_Trait\"        \"Proxy_z_score_Trait\"    \n",
       "[23] \"Proxy_p_Trait\"           \"Proxy_beta_Trait2\"      \n",
       "[25] \"Proxy_z_score_Trait2\"    \"Proxy_p_Trait2\"         \n",
       "[27] \"beta_SMR\"                \"p_SMR\"                  \n",
       "[29] \"p_HEIDI\"                 \"n_HEIDI\"                \n",
       "[31] \"SNPs_HEIDI\"             "
      ]
     },
     "metadata": {},
     "output_type": "display_data"
    }
   ],
   "source": [
    "colnames(G1)\n",
    "colnames(x3)"
   ]
  },
  {
   "cell_type": "code",
   "execution_count": 248,
   "metadata": {
    "collapsed": false
   },
   "outputs": [],
   "source": [
    "G1=rbind(G1,data.frame(marker_snp_id=x3[,\"Index_SNP\"],gwas_id_2=99999,p_smr=x3[,\"p_SMR\"]))\n",
    "G2=rbind(G2,data.frame(marker_snp_id=x3[,\"Index_SNP\"],gwas_id_2=99999,p_heidi=x3[,\"p_HEIDI\"]))\n",
    "G3=rbind(G3,data.frame(marker_snp_id=x3[,\"Index_SNP\"],gwas_id_2=99999,beta_smr=x3[,\"beta_SMR\"]))"
   ]
  },
  {
   "cell_type": "code",
   "execution_count": 264,
   "metadata": {
    "collapsed": false
   },
   "outputs": [],
   "source": [
    "G1w <- spread(G1, marker_snp_id,p_smr)\n",
    "G2w <- spread(G2, marker_snp_id,p_heidi)\n",
    "G3w <- spread(G3, marker_snp_id,beta_smr)"
   ]
  },
  {
   "cell_type": "code",
   "execution_count": 265,
   "metadata": {
    "collapsed": false
   },
   "outputs": [
    {
     "data": {
      "text/html": [
       "<ol class=list-inline>\n",
       "\t<li>33</li>\n",
       "\t<li>7</li>\n",
       "</ol>\n"
      ],
      "text/latex": [
       "\\begin{enumerate*}\n",
       "\\item 33\n",
       "\\item 7\n",
       "\\end{enumerate*}\n"
      ],
      "text/markdown": [
       "1. 33\n",
       "2. 7\n",
       "\n",
       "\n"
      ],
      "text/plain": [
       "[1] 33  7"
      ]
     },
     "metadata": {},
     "output_type": "display_data"
    },
    {
     "data": {
      "text/html": [
       "<ol class=list-inline>\n",
       "\t<li>33</li>\n",
       "\t<li>7</li>\n",
       "</ol>\n"
      ],
      "text/latex": [
       "\\begin{enumerate*}\n",
       "\\item 33\n",
       "\\item 7\n",
       "\\end{enumerate*}\n"
      ],
      "text/markdown": [
       "1. 33\n",
       "2. 7\n",
       "\n",
       "\n"
      ],
      "text/plain": [
       "[1] 33  7"
      ]
     },
     "metadata": {},
     "output_type": "display_data"
    },
    {
     "data": {
      "text/html": [
       "<ol class=list-inline>\n",
       "\t<li>33</li>\n",
       "\t<li>7</li>\n",
       "</ol>\n"
      ],
      "text/latex": [
       "\\begin{enumerate*}\n",
       "\\item 33\n",
       "\\item 7\n",
       "\\end{enumerate*}\n"
      ],
      "text/markdown": [
       "1. 33\n",
       "2. 7\n",
       "\n",
       "\n"
      ],
      "text/plain": [
       "[1] 33  7"
      ]
     },
     "metadata": {},
     "output_type": "display_data"
    }
   ],
   "source": [
    "dim(G1w)\n",
    "dim(G2w)\n",
    "dim(G3w)"
   ]
  },
  {
   "cell_type": "code",
   "execution_count": 266,
   "metadata": {
    "collapsed": false
   },
   "outputs": [
    {
     "data": {
      "text/html": [
       "<table>\n",
       "<caption>A data.frame: 33 × 7</caption>\n",
       "<thead>\n",
       "\t<tr><th scope=col>gwas_id_2</th><th scope=col>rs12705966</th><th scope=col>rs13107325</th><th scope=col>rs143384</th><th scope=col>rs3737240</th><th scope=col>rs73581580</th><th scope=col>rs7628207</th></tr>\n",
       "\t<tr><th scope=col>&lt;dbl&gt;</th><th scope=col>&lt;dbl&gt;</th><th scope=col>&lt;dbl&gt;</th><th scope=col>&lt;dbl&gt;</th><th scope=col>&lt;dbl&gt;</th><th scope=col>&lt;dbl&gt;</th><th scope=col>&lt;dbl&gt;</th></tr>\n",
       "</thead>\n",
       "<tbody>\n",
       "\t<tr><td>  857</td><td> 0.19136085</td><td> 0.1187590</td><td>-0.76417937</td><td> 0.113215738</td><td>-0.07932677</td><td>  0.25181479</td></tr>\n",
       "\t<tr><td> 1136</td><td> 0.52810898</td><td> 1.0058182</td><td>-0.27012990</td><td> 0.641047090</td><td> 0.24874086</td><td>  0.58178853</td></tr>\n",
       "\t<tr><td> 1444</td><td>-0.67595439</td><td>-0.7516946</td><td> 0.52173776</td><td> 0.206980984</td><td>-0.69099833</td><td> -1.77118712</td></tr>\n",
       "\t<tr><td> 1449</td><td> 0.24700506</td><td> 0.2747621</td><td>-0.67194351</td><td> 0.175295443</td><td>-0.32450759</td><td>  0.25626675</td></tr>\n",
       "\t<tr><td> 2344</td><td>-1.72960880</td><td>-2.4891120</td><td> 1.39920575</td><td>59.699463019</td><td>         NA</td><td>  0.65228986</td></tr>\n",
       "\t<tr><td> 2622</td><td>-0.79790771</td><td> 3.2449617</td><td> 2.84622258</td><td> 0.790791192</td><td>         NA</td><td>-34.39211631</td></tr>\n",
       "\t<tr><td> 3429</td><td>-0.92916119</td><td>-0.4582903</td><td> 0.09757362</td><td> 0.000000000</td><td>-0.37788852</td><td> -1.28712518</td></tr>\n",
       "\t<tr><td> 3777</td><td> 0.26845726</td><td> 0.8895694</td><td>-0.23203639</td><td> 0.667332302</td><td> 0.40190689</td><td>  1.52605175</td></tr>\n",
       "\t<tr><td> 3807</td><td> 0.28630378</td><td>-1.6847939</td><td> 0.60661864</td><td>-0.432446034</td><td>-1.05520108</td><td> -1.45876884</td></tr>\n",
       "\t<tr><td> 3826</td><td>-0.19008057</td><td>-1.0290711</td><td>-0.05377081</td><td> 0.288544186</td><td>-0.02663609</td><td>  0.61032443</td></tr>\n",
       "\t<tr><td> 3838</td><td> 0.36660592</td><td> 1.4898892</td><td>-0.14543997</td><td>-0.537836945</td><td> 0.02296568</td><td>  0.56374458</td></tr>\n",
       "\t<tr><td> 3875</td><td>-0.29161640</td><td> 0.4162802</td><td> 2.72018452</td><td>-0.216463535</td><td>-0.49342247</td><td>  1.24412425</td></tr>\n",
       "\t<tr><td> 3906</td><td>-0.92030441</td><td>-0.4151199</td><td> 0.27144250</td><td>-0.109893691</td><td>-0.85075808</td><td> -1.58978950</td></tr>\n",
       "\t<tr><td> 4017</td><td>-0.54799183</td><td>-0.1177137</td><td> 0.82562358</td><td> 0.148687752</td><td> 0.48881339</td><td> -0.33781690</td></tr>\n",
       "\t<tr><td> 4049</td><td>-0.09617773</td><td> 1.5434241</td><td>-0.06705490</td><td> 0.141708756</td><td>-0.48812268</td><td>  1.44499568</td></tr>\n",
       "\t<tr><td> 4050</td><td>-0.38714765</td><td> 0.9916332</td><td> 1.85356092</td><td> 0.109498160</td><td>-0.43507865</td><td>  1.35948906</td></tr>\n",
       "\t<tr><td> 4051</td><td> 0.42117578</td><td> 0.7466529</td><td>-0.22063587</td><td> 0.288238317</td><td> 0.43205839</td><td>  1.09945679</td></tr>\n",
       "\t<tr><td> 4052</td><td>-0.37468564</td><td> 1.4539039</td><td>-0.21258395</td><td> 0.606835599</td><td>-0.21691059</td><td>  1.04450539</td></tr>\n",
       "\t<tr><td> 4058</td><td>-0.35343770</td><td> 1.2335136</td><td> 1.38263682</td><td> 0.512265834</td><td>-0.36968686</td><td>  1.01942618</td></tr>\n",
       "\t<tr><td> 4059</td><td>-0.63751987</td><td>-1.0269620</td><td> 4.39123502</td><td>-0.120316757</td><td> 0.07903867</td><td>  0.03325012</td></tr>\n",
       "\t<tr><td> 4081</td><td>-1.11388625</td><td>-0.7485222</td><td>-0.18631626</td><td>-0.245598994</td><td>-0.10991397</td><td> -0.16747685</td></tr>\n",
       "\t<tr><td> 4159</td><td> 0.36266918</td><td> 0.4798754</td><td> 0.07691341</td><td>-0.690219561</td><td>-0.93073077</td><td> -0.42861398</td></tr>\n",
       "\t<tr><td> 4161</td><td> 0.26083786</td><td> 0.3490382</td><td> 0.12802808</td><td> 0.189542717</td><td> 0.83603025</td><td>  0.38359523</td></tr>\n",
       "\t<tr><td> 4179</td><td>-0.19980802</td><td> 0.8344522</td><td> 0.38776176</td><td> 0.222964886</td><td>-0.36662374</td><td>  1.10094305</td></tr>\n",
       "\t<tr><td> 4236</td><td> 0.48447659</td><td> 1.0360998</td><td>-0.19312262</td><td>-0.256216717</td><td> 0.31048046</td><td>  0.79193372</td></tr>\n",
       "\t<tr><td> 4272</td><td> 0.16892238</td><td>-0.7707427</td><td>-0.21361368</td><td>-0.461239641</td><td>-0.20024907</td><td>  0.45823491</td></tr>\n",
       "\t<tr><td> 4273</td><td>-0.25891412</td><td> 1.2655505</td><td>-0.08063026</td><td> 0.385426346</td><td> 0.40176843</td><td>  0.81958631</td></tr>\n",
       "\t<tr><td> 4274</td><td>-0.30388056</td><td> 1.2625188</td><td>-0.03196055</td><td> 0.343974085</td><td> 0.33878880</td><td>  0.74603234</td></tr>\n",
       "\t<tr><td> 4287</td><td>-0.03567305</td><td>-0.7441495</td><td> 0.02798125</td><td>-0.396445200</td><td>-0.09513160</td><td> -0.11364711</td></tr>\n",
       "\t<tr><td> 4292</td><td> 0.13377344</td><td>-0.3224308</td><td>-0.21753946</td><td>-1.459375750</td><td> 0.08405140</td><td> -0.05085542</td></tr>\n",
       "\t<tr><td> 4295</td><td>-0.42295553</td><td> 1.0816480</td><td>-0.16451164</td><td>-0.003265879</td><td> 0.25014761</td><td>  0.24817749</td></tr>\n",
       "\t<tr><td> 4734</td><td>         NA</td><td> 2.8884456</td><td> 0.29992546</td><td>-0.701167234</td><td>         NA</td><td> -2.39991259</td></tr>\n",
       "\t<tr><td>99999</td><td> 0.32162309</td><td> 0.6326472</td><td>-0.40384844</td><td> 0.887002622</td><td> 0.13472024</td><td>  0.47189588</td></tr>\n",
       "</tbody>\n",
       "</table>\n"
      ],
      "text/latex": [
       "A data.frame: 33 × 7\n",
       "\\begin{tabular}{r|lllllll}\n",
       " gwas\\_id\\_2 & rs12705966 & rs13107325 & rs143384 & rs3737240 & rs73581580 & rs7628207\\\\\n",
       " <dbl> & <dbl> & <dbl> & <dbl> & <dbl> & <dbl> & <dbl>\\\\\n",
       "\\hline\n",
       "\t   857 &  0.19136085 &  0.1187590 & -0.76417937 &  0.113215738 & -0.07932677 &   0.25181479\\\\\n",
       "\t  1136 &  0.52810898 &  1.0058182 & -0.27012990 &  0.641047090 &  0.24874086 &   0.58178853\\\\\n",
       "\t  1444 & -0.67595439 & -0.7516946 &  0.52173776 &  0.206980984 & -0.69099833 &  -1.77118712\\\\\n",
       "\t  1449 &  0.24700506 &  0.2747621 & -0.67194351 &  0.175295443 & -0.32450759 &   0.25626675\\\\\n",
       "\t  2344 & -1.72960880 & -2.4891120 &  1.39920575 & 59.699463019 &          NA &   0.65228986\\\\\n",
       "\t  2622 & -0.79790771 &  3.2449617 &  2.84622258 &  0.790791192 &          NA & -34.39211631\\\\\n",
       "\t  3429 & -0.92916119 & -0.4582903 &  0.09757362 &  0.000000000 & -0.37788852 &  -1.28712518\\\\\n",
       "\t  3777 &  0.26845726 &  0.8895694 & -0.23203639 &  0.667332302 &  0.40190689 &   1.52605175\\\\\n",
       "\t  3807 &  0.28630378 & -1.6847939 &  0.60661864 & -0.432446034 & -1.05520108 &  -1.45876884\\\\\n",
       "\t  3826 & -0.19008057 & -1.0290711 & -0.05377081 &  0.288544186 & -0.02663609 &   0.61032443\\\\\n",
       "\t  3838 &  0.36660592 &  1.4898892 & -0.14543997 & -0.537836945 &  0.02296568 &   0.56374458\\\\\n",
       "\t  3875 & -0.29161640 &  0.4162802 &  2.72018452 & -0.216463535 & -0.49342247 &   1.24412425\\\\\n",
       "\t  3906 & -0.92030441 & -0.4151199 &  0.27144250 & -0.109893691 & -0.85075808 &  -1.58978950\\\\\n",
       "\t  4017 & -0.54799183 & -0.1177137 &  0.82562358 &  0.148687752 &  0.48881339 &  -0.33781690\\\\\n",
       "\t  4049 & -0.09617773 &  1.5434241 & -0.06705490 &  0.141708756 & -0.48812268 &   1.44499568\\\\\n",
       "\t  4050 & -0.38714765 &  0.9916332 &  1.85356092 &  0.109498160 & -0.43507865 &   1.35948906\\\\\n",
       "\t  4051 &  0.42117578 &  0.7466529 & -0.22063587 &  0.288238317 &  0.43205839 &   1.09945679\\\\\n",
       "\t  4052 & -0.37468564 &  1.4539039 & -0.21258395 &  0.606835599 & -0.21691059 &   1.04450539\\\\\n",
       "\t  4058 & -0.35343770 &  1.2335136 &  1.38263682 &  0.512265834 & -0.36968686 &   1.01942618\\\\\n",
       "\t  4059 & -0.63751987 & -1.0269620 &  4.39123502 & -0.120316757 &  0.07903867 &   0.03325012\\\\\n",
       "\t  4081 & -1.11388625 & -0.7485222 & -0.18631626 & -0.245598994 & -0.10991397 &  -0.16747685\\\\\n",
       "\t  4159 &  0.36266918 &  0.4798754 &  0.07691341 & -0.690219561 & -0.93073077 &  -0.42861398\\\\\n",
       "\t  4161 &  0.26083786 &  0.3490382 &  0.12802808 &  0.189542717 &  0.83603025 &   0.38359523\\\\\n",
       "\t  4179 & -0.19980802 &  0.8344522 &  0.38776176 &  0.222964886 & -0.36662374 &   1.10094305\\\\\n",
       "\t  4236 &  0.48447659 &  1.0360998 & -0.19312262 & -0.256216717 &  0.31048046 &   0.79193372\\\\\n",
       "\t  4272 &  0.16892238 & -0.7707427 & -0.21361368 & -0.461239641 & -0.20024907 &   0.45823491\\\\\n",
       "\t  4273 & -0.25891412 &  1.2655505 & -0.08063026 &  0.385426346 &  0.40176843 &   0.81958631\\\\\n",
       "\t  4274 & -0.30388056 &  1.2625188 & -0.03196055 &  0.343974085 &  0.33878880 &   0.74603234\\\\\n",
       "\t  4287 & -0.03567305 & -0.7441495 &  0.02798125 & -0.396445200 & -0.09513160 &  -0.11364711\\\\\n",
       "\t  4292 &  0.13377344 & -0.3224308 & -0.21753946 & -1.459375750 &  0.08405140 &  -0.05085542\\\\\n",
       "\t  4295 & -0.42295553 &  1.0816480 & -0.16451164 & -0.003265879 &  0.25014761 &   0.24817749\\\\\n",
       "\t  4734 &          NA &  2.8884456 &  0.29992546 & -0.701167234 &          NA &  -2.39991259\\\\\n",
       "\t 99999 &  0.32162309 &  0.6326472 & -0.40384844 &  0.887002622 &  0.13472024 &   0.47189588\\\\\n",
       "\\end{tabular}\n"
      ],
      "text/markdown": [
       "\n",
       "A data.frame: 33 × 7\n",
       "\n",
       "| gwas_id_2 &lt;dbl&gt; | rs12705966 &lt;dbl&gt; | rs13107325 &lt;dbl&gt; | rs143384 &lt;dbl&gt; | rs3737240 &lt;dbl&gt; | rs73581580 &lt;dbl&gt; | rs7628207 &lt;dbl&gt; |\n",
       "|---|---|---|---|---|---|---|\n",
       "|   857 |  0.19136085 |  0.1187590 | -0.76417937 |  0.113215738 | -0.07932677 |   0.25181479 |\n",
       "|  1136 |  0.52810898 |  1.0058182 | -0.27012990 |  0.641047090 |  0.24874086 |   0.58178853 |\n",
       "|  1444 | -0.67595439 | -0.7516946 |  0.52173776 |  0.206980984 | -0.69099833 |  -1.77118712 |\n",
       "|  1449 |  0.24700506 |  0.2747621 | -0.67194351 |  0.175295443 | -0.32450759 |   0.25626675 |\n",
       "|  2344 | -1.72960880 | -2.4891120 |  1.39920575 | 59.699463019 |          NA |   0.65228986 |\n",
       "|  2622 | -0.79790771 |  3.2449617 |  2.84622258 |  0.790791192 |          NA | -34.39211631 |\n",
       "|  3429 | -0.92916119 | -0.4582903 |  0.09757362 |  0.000000000 | -0.37788852 |  -1.28712518 |\n",
       "|  3777 |  0.26845726 |  0.8895694 | -0.23203639 |  0.667332302 |  0.40190689 |   1.52605175 |\n",
       "|  3807 |  0.28630378 | -1.6847939 |  0.60661864 | -0.432446034 | -1.05520108 |  -1.45876884 |\n",
       "|  3826 | -0.19008057 | -1.0290711 | -0.05377081 |  0.288544186 | -0.02663609 |   0.61032443 |\n",
       "|  3838 |  0.36660592 |  1.4898892 | -0.14543997 | -0.537836945 |  0.02296568 |   0.56374458 |\n",
       "|  3875 | -0.29161640 |  0.4162802 |  2.72018452 | -0.216463535 | -0.49342247 |   1.24412425 |\n",
       "|  3906 | -0.92030441 | -0.4151199 |  0.27144250 | -0.109893691 | -0.85075808 |  -1.58978950 |\n",
       "|  4017 | -0.54799183 | -0.1177137 |  0.82562358 |  0.148687752 |  0.48881339 |  -0.33781690 |\n",
       "|  4049 | -0.09617773 |  1.5434241 | -0.06705490 |  0.141708756 | -0.48812268 |   1.44499568 |\n",
       "|  4050 | -0.38714765 |  0.9916332 |  1.85356092 |  0.109498160 | -0.43507865 |   1.35948906 |\n",
       "|  4051 |  0.42117578 |  0.7466529 | -0.22063587 |  0.288238317 |  0.43205839 |   1.09945679 |\n",
       "|  4052 | -0.37468564 |  1.4539039 | -0.21258395 |  0.606835599 | -0.21691059 |   1.04450539 |\n",
       "|  4058 | -0.35343770 |  1.2335136 |  1.38263682 |  0.512265834 | -0.36968686 |   1.01942618 |\n",
       "|  4059 | -0.63751987 | -1.0269620 |  4.39123502 | -0.120316757 |  0.07903867 |   0.03325012 |\n",
       "|  4081 | -1.11388625 | -0.7485222 | -0.18631626 | -0.245598994 | -0.10991397 |  -0.16747685 |\n",
       "|  4159 |  0.36266918 |  0.4798754 |  0.07691341 | -0.690219561 | -0.93073077 |  -0.42861398 |\n",
       "|  4161 |  0.26083786 |  0.3490382 |  0.12802808 |  0.189542717 |  0.83603025 |   0.38359523 |\n",
       "|  4179 | -0.19980802 |  0.8344522 |  0.38776176 |  0.222964886 | -0.36662374 |   1.10094305 |\n",
       "|  4236 |  0.48447659 |  1.0360998 | -0.19312262 | -0.256216717 |  0.31048046 |   0.79193372 |\n",
       "|  4272 |  0.16892238 | -0.7707427 | -0.21361368 | -0.461239641 | -0.20024907 |   0.45823491 |\n",
       "|  4273 | -0.25891412 |  1.2655505 | -0.08063026 |  0.385426346 |  0.40176843 |   0.81958631 |\n",
       "|  4274 | -0.30388056 |  1.2625188 | -0.03196055 |  0.343974085 |  0.33878880 |   0.74603234 |\n",
       "|  4287 | -0.03567305 | -0.7441495 |  0.02798125 | -0.396445200 | -0.09513160 |  -0.11364711 |\n",
       "|  4292 |  0.13377344 | -0.3224308 | -0.21753946 | -1.459375750 |  0.08405140 |  -0.05085542 |\n",
       "|  4295 | -0.42295553 |  1.0816480 | -0.16451164 | -0.003265879 |  0.25014761 |   0.24817749 |\n",
       "|  4734 |          NA |  2.8884456 |  0.29992546 | -0.701167234 |          NA |  -2.39991259 |\n",
       "| 99999 |  0.32162309 |  0.6326472 | -0.40384844 |  0.887002622 |  0.13472024 |   0.47189588 |\n",
       "\n"
      ],
      "text/plain": [
       "   gwas_id_2 rs12705966  rs13107325 rs143384    rs3737240    rs73581580 \n",
       "1    857      0.19136085  0.1187590 -0.76417937  0.113215738 -0.07932677\n",
       "2   1136      0.52810898  1.0058182 -0.27012990  0.641047090  0.24874086\n",
       "3   1444     -0.67595439 -0.7516946  0.52173776  0.206980984 -0.69099833\n",
       "4   1449      0.24700506  0.2747621 -0.67194351  0.175295443 -0.32450759\n",
       "5   2344     -1.72960880 -2.4891120  1.39920575 59.699463019          NA\n",
       "6   2622     -0.79790771  3.2449617  2.84622258  0.790791192          NA\n",
       "7   3429     -0.92916119 -0.4582903  0.09757362  0.000000000 -0.37788852\n",
       "8   3777      0.26845726  0.8895694 -0.23203639  0.667332302  0.40190689\n",
       "9   3807      0.28630378 -1.6847939  0.60661864 -0.432446034 -1.05520108\n",
       "10  3826     -0.19008057 -1.0290711 -0.05377081  0.288544186 -0.02663609\n",
       "11  3838      0.36660592  1.4898892 -0.14543997 -0.537836945  0.02296568\n",
       "12  3875     -0.29161640  0.4162802  2.72018452 -0.216463535 -0.49342247\n",
       "13  3906     -0.92030441 -0.4151199  0.27144250 -0.109893691 -0.85075808\n",
       "14  4017     -0.54799183 -0.1177137  0.82562358  0.148687752  0.48881339\n",
       "15  4049     -0.09617773  1.5434241 -0.06705490  0.141708756 -0.48812268\n",
       "16  4050     -0.38714765  0.9916332  1.85356092  0.109498160 -0.43507865\n",
       "17  4051      0.42117578  0.7466529 -0.22063587  0.288238317  0.43205839\n",
       "18  4052     -0.37468564  1.4539039 -0.21258395  0.606835599 -0.21691059\n",
       "19  4058     -0.35343770  1.2335136  1.38263682  0.512265834 -0.36968686\n",
       "20  4059     -0.63751987 -1.0269620  4.39123502 -0.120316757  0.07903867\n",
       "21  4081     -1.11388625 -0.7485222 -0.18631626 -0.245598994 -0.10991397\n",
       "22  4159      0.36266918  0.4798754  0.07691341 -0.690219561 -0.93073077\n",
       "23  4161      0.26083786  0.3490382  0.12802808  0.189542717  0.83603025\n",
       "24  4179     -0.19980802  0.8344522  0.38776176  0.222964886 -0.36662374\n",
       "25  4236      0.48447659  1.0360998 -0.19312262 -0.256216717  0.31048046\n",
       "26  4272      0.16892238 -0.7707427 -0.21361368 -0.461239641 -0.20024907\n",
       "27  4273     -0.25891412  1.2655505 -0.08063026  0.385426346  0.40176843\n",
       "28  4274     -0.30388056  1.2625188 -0.03196055  0.343974085  0.33878880\n",
       "29  4287     -0.03567305 -0.7441495  0.02798125 -0.396445200 -0.09513160\n",
       "30  4292      0.13377344 -0.3224308 -0.21753946 -1.459375750  0.08405140\n",
       "31  4295     -0.42295553  1.0816480 -0.16451164 -0.003265879  0.25014761\n",
       "32  4734              NA  2.8884456  0.29992546 -0.701167234          NA\n",
       "33 99999      0.32162309  0.6326472 -0.40384844  0.887002622  0.13472024\n",
       "   rs7628207   \n",
       "1    0.25181479\n",
       "2    0.58178853\n",
       "3   -1.77118712\n",
       "4    0.25626675\n",
       "5    0.65228986\n",
       "6  -34.39211631\n",
       "7   -1.28712518\n",
       "8    1.52605175\n",
       "9   -1.45876884\n",
       "10   0.61032443\n",
       "11   0.56374458\n",
       "12   1.24412425\n",
       "13  -1.58978950\n",
       "14  -0.33781690\n",
       "15   1.44499568\n",
       "16   1.35948906\n",
       "17   1.09945679\n",
       "18   1.04450539\n",
       "19   1.01942618\n",
       "20   0.03325012\n",
       "21  -0.16747685\n",
       "22  -0.42861398\n",
       "23   0.38359523\n",
       "24   1.10094305\n",
       "25   0.79193372\n",
       "26   0.45823491\n",
       "27   0.81958631\n",
       "28   0.74603234\n",
       "29  -0.11364711\n",
       "30  -0.05085542\n",
       "31   0.24817749\n",
       "32  -2.39991259\n",
       "33   0.47189588"
      ]
     },
     "metadata": {},
     "output_type": "display_data"
    }
   ],
   "source": [
    "G3w"
   ]
  },
  {
   "cell_type": "code",
   "execution_count": 267,
   "metadata": {
    "collapsed": false
   },
   "outputs": [
    {
     "data": {
      "text/plain": [
       "\n",
       "TRUE \n",
       "  33 "
      ]
     },
     "metadata": {},
     "output_type": "display_data"
    },
    {
     "data": {
      "text/html": [
       "<ol class=list-inline>\n",
       "\t<li>TRUE</li>\n",
       "\t<li>TRUE</li>\n",
       "\t<li>TRUE</li>\n",
       "\t<li>TRUE</li>\n",
       "\t<li>TRUE</li>\n",
       "\t<li>TRUE</li>\n",
       "\t<li>TRUE</li>\n",
       "</ol>\n"
      ],
      "text/latex": [
       "\\begin{enumerate*}\n",
       "\\item TRUE\n",
       "\\item TRUE\n",
       "\\item TRUE\n",
       "\\item TRUE\n",
       "\\item TRUE\n",
       "\\item TRUE\n",
       "\\item TRUE\n",
       "\\end{enumerate*}\n"
      ],
      "text/markdown": [
       "1. TRUE\n",
       "2. TRUE\n",
       "3. TRUE\n",
       "4. TRUE\n",
       "5. TRUE\n",
       "6. TRUE\n",
       "7. TRUE\n",
       "\n",
       "\n"
      ],
      "text/plain": [
       "[1] TRUE TRUE TRUE TRUE TRUE TRUE TRUE"
      ]
     },
     "metadata": {},
     "output_type": "display_data"
    },
    {
     "data": {
      "text/html": [
       "<ol class=list-inline>\n",
       "\t<li>TRUE</li>\n",
       "\t<li>TRUE</li>\n",
       "\t<li>TRUE</li>\n",
       "\t<li>TRUE</li>\n",
       "\t<li>TRUE</li>\n",
       "\t<li>TRUE</li>\n",
       "\t<li>TRUE</li>\n",
       "</ol>\n"
      ],
      "text/latex": [
       "\\begin{enumerate*}\n",
       "\\item TRUE\n",
       "\\item TRUE\n",
       "\\item TRUE\n",
       "\\item TRUE\n",
       "\\item TRUE\n",
       "\\item TRUE\n",
       "\\item TRUE\n",
       "\\end{enumerate*}\n"
      ],
      "text/markdown": [
       "1. TRUE\n",
       "2. TRUE\n",
       "3. TRUE\n",
       "4. TRUE\n",
       "5. TRUE\n",
       "6. TRUE\n",
       "7. TRUE\n",
       "\n",
       "\n"
      ],
      "text/plain": [
       "[1] TRUE TRUE TRUE TRUE TRUE TRUE TRUE"
      ]
     },
     "metadata": {},
     "output_type": "display_data"
    },
    {
     "data": {
      "text/plain": [
       "\n",
       "TRUE \n",
       "  33 "
      ]
     },
     "metadata": {},
     "output_type": "display_data"
    }
   ],
   "source": [
    "table(G1w[,1]==G2w[,1])\n",
    "colnames(G1w)==colnames(G2w)\n",
    "colnames(G1w)==colnames(G3w)\n",
    "table(G1w[,1]==G3w[,1])"
   ]
  },
  {
   "cell_type": "code",
   "execution_count": 268,
   "metadata": {
    "collapsed": false
   },
   "outputs": [],
   "source": [
    "library(gplots)"
   ]
  },
  {
   "cell_type": "code",
   "execution_count": 269,
   "metadata": {
    "collapsed": false
   },
   "outputs": [],
   "source": [
    "rownames(G3w)=G3w[,1]"
   ]
  },
  {
   "cell_type": "code",
   "execution_count": null,
   "metadata": {
    "collapsed": true
   },
   "outputs": [],
   "source": []
  },
  {
   "cell_type": "code",
   "execution_count": 270,
   "metadata": {
    "collapsed": false
   },
   "outputs": [
    {
     "data": {
      "text/html": [
       "<ol class=list-inline>\n",
       "\t<li>4569</li>\n",
       "\t<li>44</li>\n",
       "</ol>\n"
      ],
      "text/latex": [
       "\\begin{enumerate*}\n",
       "\\item 4569\n",
       "\\item 44\n",
       "\\end{enumerate*}\n"
      ],
      "text/markdown": [
       "1. 4569\n",
       "2. 44\n",
       "\n",
       "\n"
      ],
      "text/plain": [
       "[1] 4569   44"
      ]
     },
     "metadata": {},
     "output_type": "display_data"
    }
   ],
   "source": [
    "dim(desc)\n",
    "desc[4569,\"gwas_id\"]=99999\n",
    "desc[4569,\"trait_name\"]=\"Osteoartrosis\""
   ]
  },
  {
   "cell_type": "code",
   "execution_count": 271,
   "metadata": {
    "collapsed": false
   },
   "outputs": [
    {
     "data": {
      "text/html": [
       "<ol class=list-inline>\n",
       "\t<li>'857'</li>\n",
       "\t<li>'1136'</li>\n",
       "\t<li>'1444'</li>\n",
       "\t<li>'1449'</li>\n",
       "\t<li>'2344'</li>\n",
       "\t<li>'2622'</li>\n",
       "\t<li>'3429'</li>\n",
       "\t<li>'3777'</li>\n",
       "\t<li>'3807'</li>\n",
       "\t<li>'3826'</li>\n",
       "\t<li>'3838'</li>\n",
       "\t<li>'3875'</li>\n",
       "\t<li>'3906'</li>\n",
       "\t<li>'4017'</li>\n",
       "\t<li>'4049'</li>\n",
       "\t<li>'4050'</li>\n",
       "\t<li>'4051'</li>\n",
       "\t<li>'4052'</li>\n",
       "\t<li>'4058'</li>\n",
       "\t<li>'4059'</li>\n",
       "\t<li>'4081'</li>\n",
       "\t<li>'4159'</li>\n",
       "\t<li>'4161'</li>\n",
       "\t<li>'4179'</li>\n",
       "\t<li>'4236'</li>\n",
       "\t<li>'4272'</li>\n",
       "\t<li>'4273'</li>\n",
       "\t<li>'4274'</li>\n",
       "\t<li>'4287'</li>\n",
       "\t<li>'4292'</li>\n",
       "\t<li>'4295'</li>\n",
       "\t<li>'4734'</li>\n",
       "\t<li>'99999'</li>\n",
       "</ol>\n"
      ],
      "text/latex": [
       "\\begin{enumerate*}\n",
       "\\item '857'\n",
       "\\item '1136'\n",
       "\\item '1444'\n",
       "\\item '1449'\n",
       "\\item '2344'\n",
       "\\item '2622'\n",
       "\\item '3429'\n",
       "\\item '3777'\n",
       "\\item '3807'\n",
       "\\item '3826'\n",
       "\\item '3838'\n",
       "\\item '3875'\n",
       "\\item '3906'\n",
       "\\item '4017'\n",
       "\\item '4049'\n",
       "\\item '4050'\n",
       "\\item '4051'\n",
       "\\item '4052'\n",
       "\\item '4058'\n",
       "\\item '4059'\n",
       "\\item '4081'\n",
       "\\item '4159'\n",
       "\\item '4161'\n",
       "\\item '4179'\n",
       "\\item '4236'\n",
       "\\item '4272'\n",
       "\\item '4273'\n",
       "\\item '4274'\n",
       "\\item '4287'\n",
       "\\item '4292'\n",
       "\\item '4295'\n",
       "\\item '4734'\n",
       "\\item '99999'\n",
       "\\end{enumerate*}\n"
      ],
      "text/markdown": [
       "1. '857'\n",
       "2. '1136'\n",
       "3. '1444'\n",
       "4. '1449'\n",
       "5. '2344'\n",
       "6. '2622'\n",
       "7. '3429'\n",
       "8. '3777'\n",
       "9. '3807'\n",
       "10. '3826'\n",
       "11. '3838'\n",
       "12. '3875'\n",
       "13. '3906'\n",
       "14. '4017'\n",
       "15. '4049'\n",
       "16. '4050'\n",
       "17. '4051'\n",
       "18. '4052'\n",
       "19. '4058'\n",
       "20. '4059'\n",
       "21. '4081'\n",
       "22. '4159'\n",
       "23. '4161'\n",
       "24. '4179'\n",
       "25. '4236'\n",
       "26. '4272'\n",
       "27. '4273'\n",
       "28. '4274'\n",
       "29. '4287'\n",
       "30. '4292'\n",
       "31. '4295'\n",
       "32. '4734'\n",
       "33. '99999'\n",
       "\n",
       "\n"
      ],
      "text/plain": [
       " [1] \"857\"   \"1136\"  \"1444\"  \"1449\"  \"2344\"  \"2622\"  \"3429\"  \"3777\"  \"3807\" \n",
       "[10] \"3826\"  \"3838\"  \"3875\"  \"3906\"  \"4017\"  \"4049\"  \"4050\"  \"4051\"  \"4052\" \n",
       "[19] \"4058\"  \"4059\"  \"4081\"  \"4159\"  \"4161\"  \"4179\"  \"4236\"  \"4272\"  \"4273\" \n",
       "[28] \"4274\"  \"4287\"  \"4292\"  \"4295\"  \"4734\"  \"99999\""
      ]
     },
     "metadata": {},
     "output_type": "display_data"
    }
   ],
   "source": [
    "rownames(G3w)"
   ]
  },
  {
   "cell_type": "code",
   "execution_count": 272,
   "metadata": {
    "collapsed": false
   },
   "outputs": [],
   "source": [
    "ind=match(rownames(G3w),desc$gwas_id)\n",
    "rownames(G3w)=desc$trait_name[ind]\n",
    "#1136"
   ]
  },
  {
   "cell_type": "code",
   "execution_count": 273,
   "metadata": {
    "collapsed": false
   },
   "outputs": [],
   "source": [
    "#write.table(x=desc[ind,],file=\"tmp.txt\",col.names=T,row.names=F,quote=F,sep=\"\\t\")"
   ]
  },
  {
   "cell_type": "code",
   "execution_count": 274,
   "metadata": {
    "collapsed": true
   },
   "outputs": [],
   "source": [
    "G3w=G3w[,-1]\n",
    "G2w=G2w[,-1]\n",
    "G1w=G1w[,-1]"
   ]
  },
  {
   "cell_type": "code",
   "execution_count": 275,
   "metadata": {
    "collapsed": true
   },
   "outputs": [],
   "source": [
    "out_pp=array(\"\",dim(G3w))\n",
    "out_pp[G1w<=thr_smr & G2w>=0.01]=\"*\""
   ]
  },
  {
   "cell_type": "code",
   "execution_count": 276,
   "metadata": {
    "collapsed": false
   },
   "outputs": [
    {
     "data": {
      "text/html": [
       "0.147181324527866"
      ],
      "text/latex": [
       "0.147181324527866"
      ],
      "text/markdown": [
       "0.147181324527866"
      ],
      "text/plain": [
       "[1] 0.1471813"
      ]
     },
     "metadata": {},
     "output_type": "display_data"
    }
   ],
   "source": [
    "G2w[3,3]"
   ]
  },
  {
   "cell_type": "code",
   "execution_count": 277,
   "metadata": {
    "collapsed": false
   },
   "outputs": [],
   "source": [
    "#G3w[is.na(G3w)]=0\n",
    "G3w[G3w>4]=4\n",
    "G3w[G3w<=(-4)]=-4\n",
    "G3w=t(G3w)\n",
    "out_pp=t(out_pp)"
   ]
  },
  {
   "cell_type": "code",
   "execution_count": 278,
   "metadata": {
    "collapsed": false
   },
   "outputs": [],
   "source": [
    "#colnames(G3w)\n",
    "#ind=c(8,11,14,16,18,19,20,21,22,23,24,25,32,33,34,35,36,37,38,39,41,43,44,45)\n",
    "#colnames(G3w)[ind]\n",
    "#G3w=G3w[,-ind]\n",
    "#out_pp=out_pp[,-ind]"
   ]
  },
  {
   "cell_type": "code",
   "execution_count": 279,
   "metadata": {
    "collapsed": false
   },
   "outputs": [
    {
     "data": {
      "text/html": [
       "<ol class=list-inline>\n",
       "\t<li>'Diagnoses - main ICD10: M23 Internal derangement of knee'</li>\n",
       "\t<li>'Non-cancer illness code, self-reported: osteoarthritis'</li>\n",
       "\t<li>'Qualifications: College or University degree'</li>\n",
       "\t<li>'Diagnoses - main ICD10: M17 Gonarthrosis [arthrosis of knee]'</li>\n",
       "\t<li>'Extracellular matrix protein 1'</li>\n",
       "\t<li>'Thioredoxin domain-containing protein 12'</li>\n",
       "\t<li>'Educational attainment'</li>\n",
       "\t<li>'Time spent watching television (TV)'</li>\n",
       "\t<li>'Fluid intelligence score'</li>\n",
       "\t<li>'Diastolic blood pressure, automated reading'</li>\n",
       "\t<li>'Prospective memory result'</li>\n",
       "\t<li>'Basal metabolic rate'</li>\n",
       "\t<li>'Age at first live birth'</li>\n",
       "\t<li>'Forced vital capacity (FVC)'</li>\n",
       "\t<li>'Body mass index (BMI)'</li>\n",
       "\t<li>'Weight'</li>\n",
       "\t<li>'Overall health rating'</li>\n",
       "\t<li>'Body fat percentage'</li>\n",
       "\t<li>'Hip circumference'</li>\n",
       "\t<li>'Standing height'</li>\n",
       "\t<li>'Sleep duration'</li>\n",
       "\t<li>'Getting up in morning'</li>\n",
       "\t<li>'Frequency of tiredness / lethargy in last 2 weeks'</li>\n",
       "\t<li>'Waist circumference'</li>\n",
       "\t<li>'Alcohol intake frequency.'</li>\n",
       "\t<li>'Eosinophill percentage'</li>\n",
       "\t<li>'Haemoglobin concentration'</li>\n",
       "\t<li>'Haematocrit percentage'</li>\n",
       "\t<li>'Monocyte percentage'</li>\n",
       "\t<li>'Platelet crit'</li>\n",
       "\t<li>'Red blood cell erythrocyte count'</li>\n",
       "\t<li>'Crohn\\'s disease'</li>\n",
       "\t<li>'Osteoartrosis'</li>\n",
       "</ol>\n"
      ],
      "text/latex": [
       "\\begin{enumerate*}\n",
       "\\item 'Diagnoses - main ICD10: M23 Internal derangement of knee'\n",
       "\\item 'Non-cancer illness code, self-reported: osteoarthritis'\n",
       "\\item 'Qualifications: College or University degree'\n",
       "\\item 'Diagnoses - main ICD10: M17 Gonarthrosis {[}arthrosis of knee{]}'\n",
       "\\item 'Extracellular matrix protein 1'\n",
       "\\item 'Thioredoxin domain-containing protein 12'\n",
       "\\item 'Educational attainment'\n",
       "\\item 'Time spent watching television (TV)'\n",
       "\\item 'Fluid intelligence score'\n",
       "\\item 'Diastolic blood pressure, automated reading'\n",
       "\\item 'Prospective memory result'\n",
       "\\item 'Basal metabolic rate'\n",
       "\\item 'Age at first live birth'\n",
       "\\item 'Forced vital capacity (FVC)'\n",
       "\\item 'Body mass index (BMI)'\n",
       "\\item 'Weight'\n",
       "\\item 'Overall health rating'\n",
       "\\item 'Body fat percentage'\n",
       "\\item 'Hip circumference'\n",
       "\\item 'Standing height'\n",
       "\\item 'Sleep duration'\n",
       "\\item 'Getting up in morning'\n",
       "\\item 'Frequency of tiredness / lethargy in last 2 weeks'\n",
       "\\item 'Waist circumference'\n",
       "\\item 'Alcohol intake frequency.'\n",
       "\\item 'Eosinophill percentage'\n",
       "\\item 'Haemoglobin concentration'\n",
       "\\item 'Haematocrit percentage'\n",
       "\\item 'Monocyte percentage'\n",
       "\\item 'Platelet crit'\n",
       "\\item 'Red blood cell erythrocyte count'\n",
       "\\item 'Crohn\\textbackslash{}'s disease'\n",
       "\\item 'Osteoartrosis'\n",
       "\\end{enumerate*}\n"
      ],
      "text/markdown": [
       "1. 'Diagnoses - main ICD10: M23 Internal derangement of knee'\n",
       "2. 'Non-cancer illness code, self-reported: osteoarthritis'\n",
       "3. 'Qualifications: College or University degree'\n",
       "4. 'Diagnoses - main ICD10: M17 Gonarthrosis [arthrosis of knee]'\n",
       "5. 'Extracellular matrix protein 1'\n",
       "6. 'Thioredoxin domain-containing protein 12'\n",
       "7. 'Educational attainment'\n",
       "8. 'Time spent watching television (TV)'\n",
       "9. 'Fluid intelligence score'\n",
       "10. 'Diastolic blood pressure, automated reading'\n",
       "11. 'Prospective memory result'\n",
       "12. 'Basal metabolic rate'\n",
       "13. 'Age at first live birth'\n",
       "14. 'Forced vital capacity (FVC)'\n",
       "15. 'Body mass index (BMI)'\n",
       "16. 'Weight'\n",
       "17. 'Overall health rating'\n",
       "18. 'Body fat percentage'\n",
       "19. 'Hip circumference'\n",
       "20. 'Standing height'\n",
       "21. 'Sleep duration'\n",
       "22. 'Getting up in morning'\n",
       "23. 'Frequency of tiredness / lethargy in last 2 weeks'\n",
       "24. 'Waist circumference'\n",
       "25. 'Alcohol intake frequency.'\n",
       "26. 'Eosinophill percentage'\n",
       "27. 'Haemoglobin concentration'\n",
       "28. 'Haematocrit percentage'\n",
       "29. 'Monocyte percentage'\n",
       "30. 'Platelet crit'\n",
       "31. 'Red blood cell erythrocyte count'\n",
       "32. 'Crohn\\'s disease'\n",
       "33. 'Osteoartrosis'\n",
       "\n",
       "\n"
      ],
      "text/plain": [
       " [1] \"Diagnoses - main ICD10: M23 Internal derangement of knee\"    \n",
       " [2] \"Non-cancer illness code, self-reported: osteoarthritis\"      \n",
       " [3] \"Qualifications: College or University degree\"                \n",
       " [4] \"Diagnoses - main ICD10: M17 Gonarthrosis [arthrosis of knee]\"\n",
       " [5] \"Extracellular matrix protein 1\"                              \n",
       " [6] \"Thioredoxin domain-containing protein 12\"                    \n",
       " [7] \"Educational attainment\"                                      \n",
       " [8] \"Time spent watching television (TV)\"                         \n",
       " [9] \"Fluid intelligence score\"                                    \n",
       "[10] \"Diastolic blood pressure, automated reading\"                 \n",
       "[11] \"Prospective memory result\"                                   \n",
       "[12] \"Basal metabolic rate\"                                        \n",
       "[13] \"Age at first live birth\"                                     \n",
       "[14] \"Forced vital capacity (FVC)\"                                 \n",
       "[15] \"Body mass index (BMI)\"                                       \n",
       "[16] \"Weight\"                                                      \n",
       "[17] \"Overall health rating\"                                       \n",
       "[18] \"Body fat percentage\"                                         \n",
       "[19] \"Hip circumference\"                                           \n",
       "[20] \"Standing height\"                                             \n",
       "[21] \"Sleep duration\"                                              \n",
       "[22] \"Getting up in morning\"                                       \n",
       "[23] \"Frequency of tiredness / lethargy in last 2 weeks\"           \n",
       "[24] \"Waist circumference\"                                         \n",
       "[25] \"Alcohol intake frequency.\"                                   \n",
       "[26] \"Eosinophill percentage\"                                      \n",
       "[27] \"Haemoglobin concentration\"                                   \n",
       "[28] \"Haematocrit percentage\"                                      \n",
       "[29] \"Monocyte percentage\"                                         \n",
       "[30] \"Platelet crit\"                                               \n",
       "[31] \"Red blood cell erythrocyte count\"                            \n",
       "[32] \"Crohn's disease\"                                             \n",
       "[33] \"Osteoartrosis\"                                               "
      ]
     },
     "metadata": {},
     "output_type": "display_data"
    }
   ],
   "source": [
    "colnames(G3w)"
   ]
  },
  {
   "cell_type": "code",
   "execution_count": 285,
   "metadata": {
    "collapsed": false,
    "scrolled": true
   },
   "outputs": [
    {
     "data": {
      "text/html": [
       "<dl class=dl-horizontal>\n",
       "\t<dt>rs12705966</dt>\n",
       "\t\t<dd>0.321623088214145</dd>\n",
       "\t<dt>rs13107325</dt>\n",
       "\t\t<dd>0.632647175280936</dd>\n",
       "\t<dt>rs143384</dt>\n",
       "\t\t<dd>-0.403848444716674</dd>\n",
       "\t<dt>rs3737240</dt>\n",
       "\t\t<dd>0.887002622232695</dd>\n",
       "\t<dt>rs73581580</dt>\n",
       "\t\t<dd>0.134720236990373</dd>\n",
       "\t<dt>rs7628207</dt>\n",
       "\t\t<dd>0.471895879176</dd>\n",
       "</dl>\n"
      ],
      "text/latex": [
       "\\begin{description*}\n",
       "\\item[rs12705966] 0.321623088214145\n",
       "\\item[rs13107325] 0.632647175280936\n",
       "\\item[rs143384] -0.403848444716674\n",
       "\\item[rs3737240] 0.887002622232695\n",
       "\\item[rs73581580] 0.134720236990373\n",
       "\\item[rs7628207] 0.471895879176\n",
       "\\end{description*}\n"
      ],
      "text/markdown": [
       "rs12705966\n",
       ":   0.321623088214145rs13107325\n",
       ":   0.632647175280936rs143384\n",
       ":   -0.403848444716674rs3737240\n",
       ":   0.887002622232695rs73581580\n",
       ":   0.134720236990373rs7628207\n",
       ":   0.471895879176\n",
       "\n"
      ],
      "text/plain": [
       "rs12705966 rs13107325   rs143384  rs3737240 rs73581580  rs7628207 \n",
       " 0.3216231  0.6326472 -0.4038484  0.8870026  0.1347202  0.4718959 "
      ]
     },
     "metadata": {},
     "output_type": "display_data"
    },
    {
     "data": {
      "text/html": [
       "<dl class=dl-horizontal>\n",
       "\t<dt>rs12705966</dt>\n",
       "\t\t<dd>0.0514641077880509</dd>\n",
       "\t<dt>rs13107325</dt>\n",
       "\t\t<dd>1.13861163487094e-05</dd>\n",
       "\t<dt>rs143384</dt>\n",
       "\t\t<dd>0.00061340277333697</dd>\n",
       "\t<dt>rs3737240</dt>\n",
       "\t\t<dd>1.67659704058003e-05</dd>\n",
       "\t<dt>rs73581580</dt>\n",
       "\t\t<dd>0.290492437132118</dd>\n",
       "\t<dt>rs7628207</dt>\n",
       "\t\t<dd>0.0027346621865442</dd>\n",
       "</dl>\n"
      ],
      "text/latex": [
       "\\begin{description*}\n",
       "\\item[rs12705966] 0.0514641077880509\n",
       "\\item[rs13107325] 1.13861163487094e-05\n",
       "\\item[rs143384] 0.00061340277333697\n",
       "\\item[rs3737240] 1.67659704058003e-05\n",
       "\\item[rs73581580] 0.290492437132118\n",
       "\\item[rs7628207] 0.0027346621865442\n",
       "\\end{description*}\n"
      ],
      "text/markdown": [
       "rs12705966\n",
       ":   0.0514641077880509rs13107325\n",
       ":   1.13861163487094e-05rs143384\n",
       ":   0.00061340277333697rs3737240\n",
       ":   1.67659704058003e-05rs73581580\n",
       ":   0.290492437132118rs7628207\n",
       ":   0.0027346621865442\n",
       "\n"
      ],
      "text/plain": [
       "  rs12705966   rs13107325     rs143384    rs3737240   rs73581580    rs7628207 \n",
       "5.146411e-02 1.138612e-05 6.134028e-04 1.676597e-05 2.904924e-01 2.734662e-03 "
      ]
     },
     "metadata": {},
     "output_type": "display_data"
    },
    {
     "data": {
      "text/html": [
       "<dl class=dl-horizontal>\n",
       "\t<dt>rs12705966</dt>\n",
       "\t\t<dd>0.641519273259297</dd>\n",
       "\t<dt>rs13107325</dt>\n",
       "\t\t<dd>0.933015063119317</dd>\n",
       "\t<dt>rs143384</dt>\n",
       "\t\t<dd>0.386943950283673</dd>\n",
       "\t<dt>rs3737240</dt>\n",
       "\t\t<dd>0.644032667641278</dd>\n",
       "\t<dt>rs73581580</dt>\n",
       "\t\t<dd>0.708856500383656</dd>\n",
       "\t<dt>rs7628207</dt>\n",
       "\t\t<dd>0.734634637643941</dd>\n",
       "</dl>\n"
      ],
      "text/latex": [
       "\\begin{description*}\n",
       "\\item[rs12705966] 0.641519273259297\n",
       "\\item[rs13107325] 0.933015063119317\n",
       "\\item[rs143384] 0.386943950283673\n",
       "\\item[rs3737240] 0.644032667641278\n",
       "\\item[rs73581580] 0.708856500383656\n",
       "\\item[rs7628207] 0.734634637643941\n",
       "\\end{description*}\n"
      ],
      "text/markdown": [
       "rs12705966\n",
       ":   0.641519273259297rs13107325\n",
       ":   0.933015063119317rs143384\n",
       ":   0.386943950283673rs3737240\n",
       ":   0.644032667641278rs73581580\n",
       ":   0.708856500383656rs7628207\n",
       ":   0.734634637643941\n",
       "\n"
      ],
      "text/plain": [
       "rs12705966 rs13107325   rs143384  rs3737240 rs73581580  rs7628207 \n",
       " 0.6415193  0.9330151  0.3869440  0.6440327  0.7088565  0.7346346 "
      ]
     },
     "metadata": {},
     "output_type": "display_data"
    }
   ],
   "source": [
    "G3w[,33]\n",
    "t(G1w)[,33]\n",
    "t(G2w)[,33]"
   ]
  },
  {
   "cell_type": "code",
   "execution_count": 281,
   "metadata": {
    "collapsed": false
   },
   "outputs": [
    {
     "data": {
      "image/png": "[encoded data removed]",
      "text/plain": [
       "Plot with title “Color Key”"
      ]
     },
     "metadata": {},
     "output_type": "display_data"
    }
   ],
   "source": [
    "heatmap.2(as.matrix(G3w),cellnote = out_pp, \n",
    "          notecol=\"black\",col=redblue(75),margins = c(25,5),density.info=\"none\", trace=\"none\",\n",
    "          cexRow=0.7,srtCol=45,cexCol = 0.6)"
   ]
  },
  {
   "cell_type": "code",
   "execution_count": 1317,
   "metadata": {
    "collapsed": false
   },
   "outputs": [
    {
     "data": {
      "text/html": [
       "<strong>png:</strong> 2"
      ],
      "text/latex": [
       "\\textbf{png:} 2"
      ],
      "text/markdown": [
       "**png:** 2"
      ],
      "text/plain": [
       "png \n",
       "  2 "
      ]
     },
     "metadata": {},
     "output_type": "display_data"
    }
   ],
   "source": [
    "pdf(file = \"20190228_smr_heidi.pdf\",width = 10,height = 7)\n",
    "\n",
    "heatmap.2(as.matrix(G3w),cellnote = out_pp, \n",
    "          notecol=\"black\",col=redblue(75),margins = c(23,5),density.info=\"none\", trace=\"none\",\n",
    "          cexRow=0.8,srtCol=45,cexCol = 0.8)\n",
    "\n",
    "dev.off()"
   ]
  },
  {
   "cell_type": "code",
   "execution_count": 976,
   "metadata": {
    "collapsed": false
   },
   "outputs": [
    {
     "data": {
      "text/html": [
       "<strong>png:</strong> 3"
      ],
      "text/latex": [
       "\\textbf{png:} 3"
      ],
      "text/markdown": [
       "**png:** 3"
      ],
      "text/plain": [
       "png \n",
       "  3 "
      ]
     },
     "metadata": {},
     "output_type": "display_data"
    }
   ],
   "source": [
    "dev.off()"
   ]
  },
  {
   "cell_type": "code",
   "execution_count": null,
   "metadata": {
    "collapsed": true
   },
   "outputs": [],
   "source": []
  },
  {
   "cell_type": "code",
   "execution_count": null,
   "metadata": {
    "collapsed": true
   },
   "outputs": [],
   "source": []
  },
  {
   "cell_type": "code",
   "execution_count": null,
   "metadata": {
    "collapsed": true
   },
   "outputs": [],
   "source": []
  },
  {
   "cell_type": "code",
   "execution_count": null,
   "metadata": {
    "collapsed": true
   },
   "outputs": [],
   "source": []
  },
  {
   "cell_type": "code",
   "execution_count": null,
   "metadata": {
    "collapsed": true
   },
   "outputs": [],
   "source": []
  },
  {
   "cell_type": "code",
   "execution_count": 622,
   "metadata": {
    "collapsed": false
   },
   "outputs": [
    {
     "data": {
      "text/html": [
       "<strong>png:</strong> 2"
      ],
      "text/latex": [
       "\\textbf{png:} 2"
      ],
      "text/markdown": [
       "**png:** 2"
      ],
      "text/plain": [
       "png \n",
       "  2 "
      ]
     },
     "metadata": {},
     "output_type": "display_data"
    }
   ],
   "source": [
    "png(filename = \"20181802_draft_figure4.png\",width = 1920,height = 1080)\n",
    "heatmap.2(as.matrix(G3w),cellnote = out_pp, \n",
    "          notecol=\"black\",col=redblue(75),margins = c(40,7),density.info=\"none\", trace=\"none\",\n",
    "          cexRow=1,srtCol=45,cexCol = 1)\n",
    "dev.off()"
   ]
  },
  {
   "cell_type": "code",
   "execution_count": 617,
   "metadata": {
    "collapsed": false
   },
   "outputs": [
    {
     "data": {
      "text/html": [
       "<strong>png:</strong> 3"
      ],
      "text/latex": [
       "\\textbf{png:} 3"
      ],
      "text/markdown": [
       "**png:** 3"
      ],
      "text/plain": [
       "png \n",
       "  3 "
      ]
     },
     "metadata": {},
     "output_type": "display_data"
    }
   ],
   "source": [
    "dev.off()"
   ]
  },
  {
   "cell_type": "code",
   "execution_count": 697,
   "metadata": {
    "collapsed": false
   },
   "outputs": [
    {
     "data": {
      "text/html": [
       "<table>\n",
       "<thead><tr><th></th><th scope=col>gwas_array</th><th scope=col>trait_transformations</th><th scope=col>collection</th><th scope=col>use_terms</th><th scope=col>trait_variance</th><th scope=col>n_of_significant_p_value</th><th scope=col>date</th><th scope=col>unified_snps_count</th><th scope=col>ldsc_lambda_gc</th><th scope=col>ldsc_intercept</th><th scope=col>ldsc_intercept_se</th></tr></thead>\n",
       "<tbody>\n",
       "\t<tr><th scope=row>841</th><td>UK BiLEVE Axiom Array by Affymetrix1, UK Biobank Axiom                                                                                                                                                                                                                                                                                                                                                                                                                                                                                                                                                                                                                              </td><td><span style=white-space:pre-wrap>Phenotypes were converted into normally-distributed quantitative or a collection of binary (TRUE/FALSE) categorical variables using Hail. Categorizations of phenotype by PHESANT algorithm:Self-reported:0 || CAT-MUL-BINARY-VAR 1465 || Indicator name x135_0_0 || Remove indicator var NAs: 862 || Remove indicator var &lt;0: 0 || Removed 0 examples != 1465 but with missing value (&lt;0) || sample 461062/40718(501780) ||                                                                                                                                                                                                          </span></td><td><span style=white-space:pre-wrap>UKB_NealeLab  </span>                                                                                                                                                                                                                                                                                                                                                                                                                                                                                                                                                                                                                              </td><td><span style=white-space:pre-wrap>Our goal here is to make these results available as quickly as possible, for any geneticist, biologist or curious citizen to explore. In sharing these results as soon as they are produced, we hope to dramatically cut down the time researchers spend in obtaining GWAS results so that they may focus on all the other components that are less standardized across studies.                                                                                                         </span>                                                                                                                                                   </td><td>0.077452716                                                                                                                                                                                                                                                                                                                                                                                                                                                                                                                                                                                                                                                                         </td><td><span style=white-space:pre-wrap>    47</span>                                                                                                                                                                                                                                                                                                                                                                                                                                                                                                                                                                                                                                      </td><td><span style=white-space:pre-wrap>          </span>                                                                                                                                                                                                                                                                                                                                                                                                                                                                                                                                                                                                                                  </td><td>10355842                                                                                                                                                                                                                                                                                                                                                                                                                                                                                                                                                                                                                                                                            </td><td>1.140029                                                                                                                                                                                                                                                                                                                                                                                                                                                                                                                                                                                                                                                                            </td><td>1.0274368                                                                                                                                                                                                                                                                                                                                                                                                                                                                                                                                                                                                                                                                           </td><td>0.007393273                                                                                                                                                                                                                                                                                                                                                                                                                                                                                                                                                                                                                                                                         </td></tr>\n",
       "\t<tr><th scope=row>1149</th><td>UK BiLEVE Axiom Array by Affymetrix1, UK Biobank Axiom                                                                                                                                                                                                                                                                                                                                                                                                                                                                                                                                                                                                                           </td><td><span style=white-space:pre-wrap>Phenotypes were converted into normally-distributed quantitative or a collection of binary (TRUE/FALSE) categorical variables using Hail. Categorizations of phenotype by PHESANT algorithm:6138_0 || CAT-MUL-BINARY-VAR 1 || NO_NAN Remove NA participants 4647 || Removed 5495 examples != 1 but with missing value (&lt;0) || sample 331289/161211(492500) ||                                                                                                                                                                                                                                                                         </span></td><td><span style=white-space:pre-wrap>UKB_NealeLab  </span>                                                                                                                                                                                                                                                                                                                                                                                                                                                                                                                                                                                                                           </td><td><span style=white-space:pre-wrap>Our goal here is to make these results available as quickly as possible, for any geneticist, biologist or curious citizen to explore. In sharing these results as soon as they are produced, we hope to dramatically cut down the time researchers spend in obtaining GWAS results so that they may focus on all the other components that are less standardized across studies.                                                                                                         </span>                                                                                                                                                </td><td>0.219221563                                                                                                                                                                                                                                                                                                                                                                                                                                                                                                                                                                                                                                                                      </td><td> 15015                                                                                                                                                                                                                                                                                                                                                                                                                                                                                                                                                                                                                                                                           </td><td><span style=white-space:pre-wrap>          </span>                                                                                                                                                                                                                                                                                                                                                                                                                                                                                                                                                                                                                               </td><td>10355842                                                                                                                                                                                                                                                                                                                                                                                                                                                                                                                                                                                                                                                                         </td><td>1.907786                                                                                                                                                                                                                                                                                                                                                                                                                                                                                                                                                                                                                                                                         </td><td>1.1458310                                                                                                                                                                                                                                                                                                                                                                                                                                                                                                                                                                                                                                                                        </td><td>0.012001969                                                                                                                                                                                                                                                                                                                                                                                                                                                                                                                                                                                                                                                                      </td></tr>\n",
       "\t<tr><th scope=row>1849</th><td>Affymetrix Axiom Array                                                                                                                                                                                                                                                                                                                                                                                                                                                                                                                                                                                                                </td><td>inverse-normalisation                                                                                                                                                                                                                                                                                                                                                                                                                                                                                                                                                                                                                 </td><td>SomaLogic_2017                                                                                                                                                                                                                                                                                                                                                                                                                                                                                                                                                                                                                        </td><td>All summary statistics and association data are freely available, accessible online on an integrated web-server at http://proteomics.gwas.eu. The informed consent given by the study participants does not cover posting of participant level phenotype and genotype data in public databases. However, data for KORA are available upon request from KORA-gen (http://epi.helmholtz-muenchen.de/kora-gen). Requests are submitted online and are subject to approval by the KORA board.                                                                                                                                             </td><td>1.000000000                                                                                                                                                                                                                                                                                                                                                                                                                                                                                                                                                                                                                           </td><td>    22                                                                                                                                                                                                                                                                                                                                                                                                                                                                                                                                                                                                                                </td><td>                                                                                                                                                                                                                                                                                                                                                                                                                                                                                                                                                                                                                                      </td><td>  499698                                                                                                                                                                                                                                                                                                                                                                                                                                                                                                                                                                                                                              </td><td>1.007097                                                                                                                                                                                                                                                                                                                                                                                                                                                                                                                                                                                                                              </td><td>1.0068542                                                                                                                                                                                                                                                                                                                                                                                                                                                                                                                                                                                                                             </td><td>0.007677050                                                                                                                                                                                                                                                                                                                                                                                                                                                                                                                                                                                                                           </td></tr>\n",
       "\t<tr><th scope=row>2127</th><td>Affymetrix Axiom Array                                                                                                                                                                                                                                                                                                                                                                                                                                                                                                                                                                                                                </td><td>inverse-normalisation                                                                                                                                                                                                                                                                                                                                                                                                                                                                                                                                                                                                                 </td><td>SomaLogic_2017                                                                                                                                                                                                                                                                                                                                                                                                                                                                                                                                                                                                                        </td><td>All summary statistics and association data are freely available, accessible online on an integrated web-server at http://proteomics.gwas.eu. The informed consent given by the study participants does not cover posting of participant level phenotype and genotype data in public databases. However, data for KORA are available upon request from KORA-gen (http://epi.helmholtz-muenchen.de/kora-gen). Requests are submitted online and are subject to approval by the KORA board.                                                                                                                                             </td><td>1.000000000                                                                                                                                                                                                                                                                                                                                                                                                                                                                                                                                                                                                                           </td><td>    29                                                                                                                                                                                                                                                                                                                                                                                                                                                                                                                                                                                                                                </td><td>                                                                                                                                                                                                                                                                                                                                                                                                                                                                                                                                                                                                                                      </td><td>  499698                                                                                                                                                                                                                                                                                                                                                                                                                                                                                                                                                                                                                              </td><td>1.001014                                                                                                                                                                                                                                                                                                                                                                                                                                                                                                                                                                                                                              </td><td>0.9984518                                                                                                                                                                                                                                                                                                                                                                                                                                                                                                                                                                                                                             </td><td>0.008536100                                                                                                                                                                                                                                                                                                                                                                                                                                                                                                                                                                                                                           </td></tr>\n",
       "\t<tr><th scope=row>3275</th><td>UK BiLEVE Axiom Array by Affymetrix1, UK Biobank Axiom                                                                                                                                                                                                                                                                                                                                                                                                                                                                                                                                                                                                                                 </td><td><span style=white-space:pre-wrap>Phenotypes were converted into normally-distributed quantitative or a collection of binary (TRUE/FALSE) categorical variables using Hail. Categorizations of phenotype by PHESANT algorithm:1070_0|| INTEGER || reassignments: -1=NA|-3=NA|-10=NA || CONTINUOUS || &gt;20% IN ONE CATEGORY || Split into three bins: 0: &lt;2, 1: [2,3), 2: &gt;=3 ||cat N: 78577, 132779, 262480 || CAT-ORD || order: 0|1|2 || num categories: 3 ||                                                                                                                                                                                                           </span></td><td><span style=white-space:pre-wrap>UKB_NealeLab  </span>                                                                                                                                                                                                                                                                                                                                                                                                                                                                                                                                                                                                                                 </td><td><span style=white-space:pre-wrap>Our goal here is to make these results available as quickly as possible, for any geneticist, biologist or curious citizen to explore. In sharing these results as soon as they are produced, we hope to dramatically cut down the time researchers spend in obtaining GWAS results so that they may focus on all the other components that are less standardized across studies.                                                                                                         </span>                                                                                                                                                      </td><td>0.565118485                                                                                                                                                                                                                                                                                                                                                                                                                                                                                                                                                                                                                                                                            </td><td><span style=white-space:pre-wrap>  2972</span>                                                                                                                                                                                                                                                                                                                                                                                                                                                                                                                                                                                                                                         </td><td><span style=white-space:pre-wrap>          </span>                                                                                                                                                                                                                                                                                                                                                                                                                                                                                                                                                                                                                                     </td><td>10355842                                                                                                                                                                                                                                                                                                                                                                                                                                                                                                                                                                                                                                                                               </td><td>1.546602                                                                                                                                                                                                                                                                                                                                                                                                                                                                                                                                                                                                                                                                               </td><td>1.0636748                                                                                                                                                                                                                                                                                                                                                                                                                                                                                                                                                                                                                                                                              </td><td>0.009980583                                                                                                                                                                                                                                                                                                                                                                                                                                                                                                                                                                                                                                                                            </td></tr>\n",
       "\t<tr><th scope=row>3305</th><td>UK BiLEVE Axiom Array by Affymetrix1, UK Biobank Axiom                                                                                                                                                                                                                                                                                                                                                                                                                                                                                                                                                                                                                          </td><td>Phenotypes were converted into normally-distributed quantitative or a collection of binary (TRUE/FALSE) categorical variables using Hail. Categorizations of phenotype by PHESANT algorithm:20016_0|| INTEGER || Inc(&gt;=10): 5(27849) || Inc(&gt;=10): 2(5781) || Inc(&gt;=10): 3(12996) || Inc(&gt;=10): 4(22453) || Inc(&gt;=10): 9(8780) || Inc(&gt;=10): 6(27395) || Inc(&gt;=10): 10(5908) || Inc(&gt;=10): 7(26815) || Inc(&gt;=10): 8(21940) || Inc(&gt;=10): 1(1602) || Inc(&gt;=10): 11(2582) || Inc(&gt;=10): 12(1009) || Inc(&gt;=10): 13(160) || Inc(&gt;=10): 0(221) || 3-20 values || CAT-ORD || order: 0|1|2|3|4|5|6|7|8|9|10|11|12|13 || num categories: 14 ||</td><td><span style=white-space:pre-wrap>UKB_NealeLab  </span>                                                                                                                                                                                                                                                                                                                                                                                                                                                                                                                                                                                                                          </td><td><span style=white-space:pre-wrap>Our goal here is to make these results available as quickly as possible, for any geneticist, biologist or curious citizen to explore. In sharing these results as soon as they are produced, we hope to dramatically cut down the time researchers spend in obtaining GWAS results so that they may focus on all the other components that are less standardized across studies.                                                                                                         </span>                                                                                                                                               </td><td>4.459098149                                                                                                                                                                                                                                                                                                                                                                                                                                                                                                                                                                                                                                                                     </td><td><span style=white-space:pre-wrap>  2776</span>                                                                                                                                                                                                                                                                                                                                                                                                                                                                                                                                                                                                                                  </td><td><span style=white-space:pre-wrap>          </span>                                                                                                                                                                                                                                                                                                                                                                                                                                                                                                                                                                                                                              </td><td>10355842                                                                                                                                                                                                                                                                                                                                                                                                                                                                                                                                                                                                                                                                        </td><td>1.446840                                                                                                                                                                                                                                                                                                                                                                                                                                                                                                                                                                                                                                                                        </td><td>1.0505091                                                                                                                                                                                                                                                                                                                                                                                                                                                                                                                                                                                                                                                                       </td><td>0.009589388                                                                                                                                                                                                                                                                                                                                                                                                                                                                                                                                                                                                                                                                     </td></tr>\n",
       "\t<tr><th scope=row>3324</th><td>UK BiLEVE Axiom Array by Affymetrix1, UK Biobank Axiom                                                                                                                                                                                                                                                                                                                                                                                                                                                                                                                                                                                </td><td>Phenotypes were converted into normally-distributed quantitative or a collection of binary (TRUE/FALSE) categorical variables using Hail. Categorizations of phenotype by PHESANT algorithm:4079_0|| INTEGER || CONTINUOUS || IRNT ||                                                                                                                                                                                                                                                                                                                                                                                                 </td><td>UKB_NealeLab                                                                                                                                                                                                                                                                                                                                                                                                                                                                                                                                                                                                                          </td><td>Our goal here is to make these results available as quickly as possible, for any geneticist, biologist or curious citizen to explore. In sharing these results as soon as they are produced, we hope to dramatically cut down the time researchers spend in obtaining GWAS results so that they may focus on all the other components that are less standardized across studies.                                                                                                                                                                                                                                                      </td><td>0.973953058                                                                                                                                                                                                                                                                                                                                                                                                                                                                                                                                                                                                                           </td><td> 16683                                                                                                                                                                                                                                                                                                                                                                                                                                                                                                                                                                                                                                </td><td>                                                                                                                                                                                                                                                                                                                                                                                                                                                                                                                                                                                                                                      </td><td>10355842                                                                                                                                                                                                                                                                                                                                                                                                                                                                                                                                                                                                                              </td><td>1.622957                                                                                                                                                                                                                                                                                                                                                                                                                                                                                                                                                                                                                              </td><td>1.0821774                                                                                                                                                                                                                                                                                                                                                                                                                                                                                                                                                                                                                             </td><td>0.013092372                                                                                                                                                                                                                                                                                                                                                                                                                                                                                                                                                                                                                           </td></tr>\n",
       "\t<tr><th scope=row>3373</th><td>UK BiLEVE Axiom Array by Affymetrix1, UK Biobank Axiom                                                                                                                                                                                                                                                                                                                                                                                                                                                                                                                                                                                </td><td>Phenotypes were converted into normally-distributed quantitative or a collection of binary (TRUE/FALSE) categorical variables using Hail. Categorizations of phenotype by PHESANT algorithm:23105_0|| CONTINUOUS MAIN || CONTINUOUS || IRNT ||                                                                                                                                                                                                                                                                                                                                                                                        </td><td>UKB_NealeLab                                                                                                                                                                                                                                                                                                                                                                                                                                                                                                                                                                                                                          </td><td>Our goal here is to make these results available as quickly as possible, for any geneticist, biologist or curious citizen to explore. In sharing these results as soon as they are produced, we hope to dramatically cut down the time researchers spend in obtaining GWAS results so that they may focus on all the other components that are less standardized across studies.                                                                                                                                                                                                                                                      </td><td>0.434901270                                                                                                                                                                                                                                                                                                                                                                                                                                                                                                                                                                                                                           </td><td> 56618                                                                                                                                                                                                                                                                                                                                                                                                                                                                                                                                                                                                                                </td><td>                                                                                                                                                                                                                                                                                                                                                                                                                                                                                                                                                                                                                                      </td><td>10355842                                                                                                                                                                                                                                                                                                                                                                                                                                                                                                                                                                                                                              </td><td>2.157771                                                                                                                                                                                                                                                                                                                                                                                                                                                                                                                                                                                                                              </td><td>1.2114763                                                                                                                                                                                                                                                                                                                                                                                                                                                                                                                                                                                                                             </td><td>0.020156039                                                                                                                                                                                                                                                                                                                                                                                                                                                                                                                                                                                                                           </td></tr>\n",
       "\t<tr><th scope=row>3416</th><td>UK BiLEVE Axiom Array by Affymetrix1, UK Biobank Axiom                                                                                                                                                                                                                                                                                                                                                                                                                                                                                                                                                                                                                                 </td><td><span style=white-space:pre-wrap>Phenotypes were converted into normally-distributed quantitative or a collection of binary (TRUE/FALSE) categorical variables using Hail. Categorizations of phenotype by PHESANT algorithm:924_0|| CAT-SINGLE || Inc(&gt;=10): 3(194144) || Inc(&gt;=10): 2(262887) || Inc(&gt;=10): 1(40922) || ordered || CAT-ORD || order: 1|2|3 || num categories: 3 ||                                                                                                                                                                                                                                                                                   </span></td><td><span style=white-space:pre-wrap>UKB_NealeLab  </span>                                                                                                                                                                                                                                                                                                                                                                                                                                                                                                                                                                                                                                 </td><td><span style=white-space:pre-wrap>Our goal here is to make these results available as quickly as possible, for any geneticist, biologist or curious citizen to explore. In sharing these results as soon as they are produced, we hope to dramatically cut down the time researchers spend in obtaining GWAS results so that they may focus on all the other components that are less standardized across studies.                                                                                                         </span>                                                                                                                                                      </td><td>0.373687306                                                                                                                                                                                                                                                                                                                                                                                                                                                                                                                                                                                                                                                                            </td><td><span style=white-space:pre-wrap>  1199</span>                                                                                                                                                                                                                                                                                                                                                                                                                                                                                                                                                                                                                                         </td><td><span style=white-space:pre-wrap>          </span>                                                                                                                                                                                                                                                                                                                                                                                                                                                                                                                                                                                                                                     </td><td>10355842                                                                                                                                                                                                                                                                                                                                                                                                                                                                                                                                                                                                                                                                               </td><td>1.427343                                                                                                                                                                                                                                                                                                                                                                                                                                                                                                                                                                                                                                                                               </td><td>1.0343743                                                                                                                                                                                                                                                                                                                                                                                                                                                                                                                                                                                                                                                                              </td><td>0.009405985                                                                                                                                                                                                                                                                                                                                                                                                                                                                                                                                                                                                                                                                            </td></tr>\n",
       "\t<tr><th scope=row>3514</th><td>UK BiLEVE Axiom Array by Affymetrix1, UK Biobank Axiom                                                                                                                                                                                                                                                                                                                                                                                                                                                                                                                                                                                </td><td>Phenotypes were converted into normally-distributed quantitative or a collection of binary (TRUE/FALSE) categorical variables using Hail. Categorizations of phenotype by PHESANT algorithm:3062_0|| CONTINUOUS MAIN || CONTINUOUS || IRNT ||                                                                                                                                                                                                                                                                                                                                                                                         </td><td>UKB_NealeLab                                                                                                                                                                                                                                                                                                                                                                                                                                                                                                                                                                                                                          </td><td>Our goal here is to make these results available as quickly as possible, for any geneticist, biologist or curious citizen to explore. In sharing these results as soon as they are produced, we hope to dramatically cut down the time researchers spend in obtaining GWAS results so that they may focus on all the other components that are less standardized across studies.                                                                                                                                                                                                                                                      </td><td>0.605075888                                                                                                                                                                                                                                                                                                                                                                                                                                                                                                                                                                                                                           </td><td> 26538                                                                                                                                                                                                                                                                                                                                                                                                                                                                                                                                                                                                                                </td><td>                                                                                                                                                                                                                                                                                                                                                                                                                                                                                                                                                                                                                                      </td><td>10355842                                                                                                                                                                                                                                                                                                                                                                                                                                                                                                                                                                                                                              </td><td>1.737251                                                                                                                                                                                                                                                                                                                                                                                                                                                                                                                                                                                                                              </td><td>1.1321025                                                                                                                                                                                                                                                                                                                                                                                                                                                                                                                                                                                                                             </td><td>0.013659372                                                                                                                                                                                                                                                                                                                                                                                                                                                                                                                                                                                                                           </td></tr>\n",
       "\t<tr><th scope=row>3539</th><td>UK BiLEVE Axiom Array by Affymetrix1, UK Biobank Axiom                                                                                                                                                                                                                                                                                                                                                                                                                                                                                                                                                                                </td><td>Phenotypes were converted into normally-distributed quantitative or a collection of binary (TRUE/FALSE) categorical variables using Hail. Categorizations of phenotype by PHESANT algorithm:21001_0|| CONTINUOUS MAIN || CONTINUOUS || IRNT ||                                                                                                                                                                                                                                                                                                                                                                                        </td><td>UKB_NealeLab                                                                                                                                                                                                                                                                                                                                                                                                                                                                                                                                                                                                                          </td><td>Our goal here is to make these results available as quickly as possible, for any geneticist, biologist or curious citizen to explore. In sharing these results as soon as they are produced, we hope to dramatically cut down the time researchers spend in obtaining GWAS results so that they may focus on all the other components that are less standardized across studies.                                                                                                                                                                                                                                                      </td><td>0.981796567                                                                                                                                                                                                                                                                                                                                                                                                                                                                                                                                                                                                                           </td><td> 35085                                                                                                                                                                                                                                                                                                                                                                                                                                                                                                                                                                                                                                </td><td>                                                                                                                                                                                                                                                                                                                                                                                                                                                                                                                                                                                                                                      </td><td>10355842                                                                                                                                                                                                                                                                                                                                                                                                                                                                                                                                                                                                                              </td><td>2.123481                                                                                                                                                                                                                                                                                                                                                                                                                                                                                                                                                                                                                              </td><td>1.1304307                                                                                                                                                                                                                                                                                                                                                                                                                                                                                                                                                                                                                             </td><td>0.015958974                                                                                                                                                                                                                                                                                                                                                                                                                                                                                                                                                                                                                           </td></tr>\n",
       "\t<tr><th scope=row>3540</th><td>UK BiLEVE Axiom Array by Affymetrix1, UK Biobank Axiom                                                                                                                                                                                                                                                                                                                                                                                                                                                                                                                                                                                </td><td>Phenotypes were converted into normally-distributed quantitative or a collection of binary (TRUE/FALSE) categorical variables using Hail. Categorizations of phenotype by PHESANT algorithm:21002_0|| CONTINUOUS MAIN || CONTINUOUS || IRNT ||                                                                                                                                                                                                                                                                                                                                                                                        </td><td>UKB_NealeLab                                                                                                                                                                                                                                                                                                                                                                                                                                                                                                                                                                                                                          </td><td>Our goal here is to make these results available as quickly as possible, for any geneticist, biologist or curious citizen to explore. In sharing these results as soon as they are produced, we hope to dramatically cut down the time researchers spend in obtaining GWAS results so that they may focus on all the other components that are less standardized across studies.                                                                                                                                                                                                                                                      </td><td>0.766318866                                                                                                                                                                                                                                                                                                                                                                                                                                                                                                                                                                                                                           </td><td> 44159                                                                                                                                                                                                                                                                                                                                                                                                                                                                                                                                                                                                                                </td><td>                                                                                                                                                                                                                                                                                                                                                                                                                                                                                                                                                                                                                                      </td><td>10355842                                                                                                                                                                                                                                                                                                                                                                                                                                                                                                                                                                                                                              </td><td>2.146361                                                                                                                                                                                                                                                                                                                                                                                                                                                                                                                                                                                                                              </td><td>1.1616314                                                                                                                                                                                                                                                                                                                                                                                                                                                                                                                                                                                                                             </td><td>0.017654066                                                                                                                                                                                                                                                                                                                                                                                                                                                                                                                                                                                                                           </td></tr>\n",
       "\t<tr><th scope=row>3542</th><td>UK BiLEVE Axiom Array by Affymetrix1, UK Biobank Axiom                                                                                                                                                                                                                                                                                                                                                                                                                                                                                                                                                                                </td><td>Phenotypes were converted into normally-distributed quantitative or a collection of binary (TRUE/FALSE) categorical variables using Hail. Categorizations of phenotype by PHESANT algorithm:23099_0|| CONTINUOUS MAIN || CONTINUOUS || IRNT ||                                                                                                                                                                                                                                                                                                                                                                                        </td><td>UKB_NealeLab                                                                                                                                                                                                                                                                                                                                                                                                                                                                                                                                                                                                                          </td><td>Our goal here is to make these results available as quickly as possible, for any geneticist, biologist or curious citizen to explore. In sharing these results as soon as they are produced, we hope to dramatically cut down the time researchers spend in obtaining GWAS results so that they may focus on all the other components that are less standardized across studies.                                                                                                                                                                                                                                                      </td><td>0.580877146                                                                                                                                                                                                                                                                                                                                                                                                                                                                                                                                                                                                                           </td><td> 24636                                                                                                                                                                                                                                                                                                                                                                                                                                                                                                                                                                                                                                </td><td>                                                                                                                                                                                                                                                                                                                                                                                                                                                                                                                                                                                                                                      </td><td>10355842                                                                                                                                                                                                                                                                                                                                                                                                                                                                                                                                                                                                                              </td><td>2.009034                                                                                                                                                                                                                                                                                                                                                                                                                                                                                                                                                                                                                              </td><td>1.1332900                                                                                                                                                                                                                                                                                                                                                                                                                                                                                                                                                                                                                             </td><td>0.015804733                                                                                                                                                                                                                                                                                                                                                                                                                                                                                                                                                                                                                           </td></tr>\n",
       "\t<tr><th scope=row>3547</th><td>UK BiLEVE Axiom Array by Affymetrix1, UK Biobank Axiom                                                                                                                                                                                                                                                                                                                                                                                                                                                                                                                                                                                </td><td>Phenotypes were converted into normally-distributed quantitative or a collection of binary (TRUE/FALSE) categorical variables using Hail. Categorizations of phenotype by PHESANT algorithm:49_0|| CONTINUOUS MAIN || CONTINUOUS || IRNT ||                                                                                                                                                                                                                                                                                                                                                                                           </td><td>UKB_NealeLab                                                                                                                                                                                                                                                                                                                                                                                                                                                                                                                                                                                                                          </td><td>Our goal here is to make these results available as quickly as possible, for any geneticist, biologist or curious citizen to explore. In sharing these results as soon as they are produced, we hope to dramatically cut down the time researchers spend in obtaining GWAS results so that they may focus on all the other components that are less standardized across studies.                                                                                                                                                                                                                                                      </td><td>0.985040281                                                                                                                                                                                                                                                                                                                                                                                                                                                                                                                                                                                                                           </td><td> 30388                                                                                                                                                                                                                                                                                                                                                                                                                                                                                                                                                                                                                                </td><td>                                                                                                                                                                                                                                                                                                                                                                                                                                                                                                                                                                                                                                      </td><td>10355842                                                                                                                                                                                                                                                                                                                                                                                                                                                                                                                                                                                                                              </td><td>1.979331                                                                                                                                                                                                                                                                                                                                                                                                                                                                                                                                                                                                                              </td><td>1.1382925                                                                                                                                                                                                                                                                                                                                                                                                                                                                                                                                                                                                                             </td><td>0.015608311                                                                                                                                                                                                                                                                                                                                                                                                                                                                                                                                                                                                                           </td></tr>\n",
       "\t<tr><th scope=row>3548</th><td>UK BiLEVE Axiom Array by Affymetrix1, UK Biobank Axiom                                                                                                                                                                                                                                                                                                                                                                                                                                                                                                                                                                                </td><td>Phenotypes were converted into normally-distributed quantitative or a collection of binary (TRUE/FALSE) categorical variables using Hail. Categorizations of phenotype by PHESANT algorithm:50_0|| CONTINUOUS MAIN || CONTINUOUS || IRNT ||                                                                                                                                                                                                                                                                                                                                                                                           </td><td>UKB_NealeLab                                                                                                                                                                                                                                                                                                                                                                                                                                                                                                                                                                                                                          </td><td>Our goal here is to make these results available as quickly as possible, for any geneticist, biologist or curious citizen to explore. In sharing these results as soon as they are produced, we hope to dramatically cut down the time researchers spend in obtaining GWAS results so that they may focus on all the other components that are less standardized across studies.                                                                                                                                                                                                                                                      </td><td>0.507243713                                                                                                                                                                                                                                                                                                                                                                                                                                                                                                                                                                                                                           </td><td>144714                                                                                                                                                                                                                                                                                                                                                                                                                                                                                                                                                                                                                                </td><td>                                                                                                                                                                                                                                                                                                                                                                                                                                                                                                                                                                                                                                      </td><td>10355842                                                                                                                                                                                                                                                                                                                                                                                                                                                                                                                                                                                                                              </td><td>2.393754                                                                                                                                                                                                                                                                                                                                                                                                                                                                                                                                                                                                                              </td><td>1.4276371                                                                                                                                                                                                                                                                                                                                                                                                                                                                                                                                                                                                                             </td><td>0.034569865                                                                                                                                                                                                                                                                                                                                                                                                                                                                                                                                                                                                                           </td></tr>\n",
       "\t<tr><th scope=row>3725</th><td>UK BiLEVE Axiom Array by Affymetrix1, UK Biobank Axiom                                                                                                                                                                                                                                                                                                                                                                                                                                                                                                                                                                                                                                          </td><td><span style=white-space:pre-wrap>Phenotypes were converted into normally-distributed quantitative or a collection of binary (TRUE/FALSE) categorical variables using Hail. Categorizations of phenotype by PHESANT algorithm:1558_0|| CAT-SINGLE || Inc(&gt;=10): 1(101791) || Inc(&gt;=10): 5(58029) || Inc(&gt;=10): 3(129322) || Inc(&gt;=10): 6(40661) || Inc(&gt;=10): 2(115462) || Inc(&gt;=10): 4(55874) || ordered || CAT-ORD || order: 1|2|3|4|5|6 || num categories: 6 ||                                                                                                                                                                                                      </span></td><td><span style=white-space:pre-wrap>UKB_NealeLab  </span>                                                                                                                                                                                                                                                                                                                                                                                                                                                                                                                                                                                                                                          </td><td><span style=white-space:pre-wrap>Our goal here is to make these results available as quickly as possible, for any geneticist, biologist or curious citizen to explore. In sharing these results as soon as they are produced, we hope to dramatically cut down the time researchers spend in obtaining GWAS results so that they may focus on all the other components that are less standardized across studies.                                                                                                         </span>                                                                                                                                                               </td><td>2.151962725                                                                                                                                                                                                                                                                                                                                                                                                                                                                                                                                                                                                                                                                                     </td><td><span style=white-space:pre-wrap>  5608</span>                                                                                                                                                                                                                                                                                                                                                                                                                                                                                                                                                                                                                                                  </td><td><span style=white-space:pre-wrap>          </span>                                                                                                                                                                                                                                                                                                                                                                                                                                                                                                                                                                                                                                              </td><td>10355842                                                                                                                                                                                                                                                                                                                                                                                                                                                                                                                                                                                                                                                                                        </td><td>1.467859                                                                                                                                                                                                                                                                                                                                                                                                                                                                                                                                                                                                                                                                                        </td><td>1.0555425                                                                                                                                                                                                                                                                                                                                                                                                                                                                                                                                                                                                                                                                                       </td><td>0.010358157                                                                                                                                                                                                                                                                                                                                                                                                                                                                                                                                                                                                                                                                                     </td></tr>\n",
       "\t<tr><th scope=row>3762</th><td>UK BiLEVE Axiom Array by Affymetrix1, UK Biobank Axiom                                                                                                                                                                                                                                                                                                                                                                                                                                                                                                                                                                                </td><td>Not transformed                                                                                                                                                                                                                                                                                                                                                                                                                                                                                                                                                                                                                       </td><td>UKB_GenAtlas                                                                                                                                                                                                                                                                                                                                                                                                                                                                                                                                                                                                                          </td><td>Open                                                                                                                                                                                                                                                                                                                                                                                                                                                                                                                                                                                                                                  </td><td>0.804416448                                                                                                                                                                                                                                                                                                                                                                                                                                                                                                                                                                                                                           </td><td> 55599                                                                                                                                                                                                                                                                                                                                                                                                                                                                                                                                                                                                                                </td><td>2018-03-01                                                                                                                                                                                                                                                                                                                                                                                                                                                                                                                                                                                                                            </td><td>10331889                                                                                                                                                                                                                                                                                                                                                                                                                                                                                                                                                                                                                              </td><td>1.635842                                                                                                                                                                                                                                                                                                                                                                                                                                                                                                                                                                                                                              </td><td>1.2099757                                                                                                                                                                                                                                                                                                                                                                                                                                                                                                                                                                                                                             </td><td>0.019928234                                                                                                                                                                                                                                                                                                                                                                                                                                                                                                                                                                                                                           </td></tr>\n",
       "\t<tr><th scope=row>3763</th><td>UK BiLEVE Axiom Array by Affymetrix1, UK Biobank Axiom                                                                                                                                                                                                                                                                                                                                                                                                                                                                                                                                                                                </td><td>Not transformed                                                                                                                                                                                                                                                                                                                                                                                                                                                                                                                                                                                                                       </td><td>UKB_GenAtlas                                                                                                                                                                                                                                                                                                                                                                                                                                                                                                                                                                                                                          </td><td>Open                                                                                                                                                                                                                                                                                                                                                                                                                                                                                                                                                                                                                                  </td><td>6.961698593                                                                                                                                                                                                                                                                                                                                                                                                                                                                                                                                                                                                                           </td><td> 49762                                                                                                                                                                                                                                                                                                                                                                                                                                                                                                                                                                                                                                </td><td>2018-03-01                                                                                                                                                                                                                                                                                                                                                                                                                                                                                                                                                                                                                            </td><td>10331903                                                                                                                                                                                                                                                                                                                                                                                                                                                                                                                                                                                                                              </td><td>1.615280                                                                                                                                                                                                                                                                                                                                                                                                                                                                                                                                                                                                                              </td><td>1.2054739                                                                                                                                                                                                                                                                                                                                                                                                                                                                                                                                                                                                                             </td><td>0.019168538                                                                                                                                                                                                                                                                                                                                                                                                                                                                                                                                                                                                                           </td></tr>\n",
       "\t<tr><th scope=row>3781</th><td>UK BiLEVE Axiom Array by Affymetrix1, UK Biobank Axiom                                                                                                                                                                                                                                                                                                                                                                                                                                                                                                                                                                                </td><td>Not transformed                                                                                                                                                                                                                                                                                                                                                                                                                                                                                                                                                                                                                       </td><td>UKB_GenAtlas                                                                                                                                                                                                                                                                                                                                                                                                                                                                                                                                                                                                                          </td><td>Open                                                                                                                                                                                                                                                                                                                                                                                                                                                                                                                                                                                                                                  </td><td>0.001691163                                                                                                                                                                                                                                                                                                                                                                                                                                                                                                                                                                                                                           </td><td> 71888                                                                                                                                                                                                                                                                                                                                                                                                                                                                                                                                                                                                                                </td><td>2018-03-01                                                                                                                                                                                                                                                                                                                                                                                                                                                                                                                                                                                                                            </td><td>10331830                                                                                                                                                                                                                                                                                                                                                                                                                                                                                                                                                                                                                              </td><td>1.718165                                                                                                                                                                                                                                                                                                                                                                                                                                                                                                                                                                                                                              </td><td>1.2627203                                                                                                                                                                                                                                                                                                                                                                                                                                                                                                                                                                                                                             </td><td>0.022159941                                                                                                                                                                                                                                                                                                                                                                                                                                                                                                                                                                                                                           </td></tr>\n",
       "\t<tr><th scope=row>3782</th><td>UK BiLEVE Axiom Array by Affymetrix1, UK Biobank Axiom                                                                                                                                                                                                                                                                                                                                                                                                                                                                                                                                                                                </td><td>Not transformed                                                                                                                                                                                                                                                                                                                                                                                                                                                                                                                                                                                                                       </td><td>UKB_GenAtlas                                                                                                                                                                                                                                                                                                                                                                                                                                                                                                                                                                                                                          </td><td>Open                                                                                                                                                                                                                                                                                                                                                                                                                                                                                                                                                                                                                                  </td><td>0.208704182                                                                                                                                                                                                                                                                                                                                                                                                                                                                                                                                                                                                                           </td><td> 76593                                                                                                                                                                                                                                                                                                                                                                                                                                                                                                                                                                                                                                </td><td>2018-03-01                                                                                                                                                                                                                                                                                                                                                                                                                                                                                                                                                                                                                            </td><td>10331426                                                                                                                                                                                                                                                                                                                                                                                                                                                                                                                                                                                                                              </td><td>1.504444                                                                                                                                                                                                                                                                                                                                                                                                                                                                                                                                                                                                                              </td><td>1.2121527                                                                                                                                                                                                                                                                                                                                                                                                                                                                                                                                                                                                                             </td><td>0.020639522                                                                                                                                                                                                                                                                                                                                                                                                                                                                                                                                                                                                                           </td></tr>\n",
       "\t<tr><th scope=row>3784</th><td>UK BiLEVE Axiom Array by Affymetrix1, UK Biobank Axiom                                                                                                                                                                                                                                                                                                                                                                                                                                                                                                                                                                                </td><td>Not transformed                                                                                                                                                                                                                                                                                                                                                                                                                                                                                                                                                                                                                       </td><td>UKB_GenAtlas                                                                                                                                                                                                                                                                                                                                                                                                                                                                                                                                                                                                                          </td><td>Open                                                                                                                                                                                                                                                                                                                                                                                                                                                                                                                                                                                                                                  </td><td>0.098145053                                                                                                                                                                                                                                                                                                                                                                                                                                                                                                                                                                                                                           </td><td> 67878                                                                                                                                                                                                                                                                                                                                                                                                                                                                                                                                                                                                                                </td><td>2018-03-01                                                                                                                                                                                                                                                                                                                                                                                                                                                                                                                                                                                                                            </td><td>10331815                                                                                                                                                                                                                                                                                                                                                                                                                                                                                                                                                                                                                              </td><td>1.775344                                                                                                                                                                                                                                                                                                                                                                                                                                                                                                                                                                                                                              </td><td>1.2638624                                                                                                                                                                                                                                                                                                                                                                                                                                                                                                                                                                                                                             </td><td>0.024217585                                                                                                                                                                                                                                                                                                                                                                                                                                                                                                                                                                                                                           </td></tr>\n",
       "</tbody>\n",
       "</table>\n"
      ],
      "text/latex": [
       "\\begin{tabular}{r|lllllllllll}\n",
       "  & gwas\\_array & trait\\_transformations & collection & use\\_terms & trait\\_variance & n\\_of\\_significant\\_p\\_value & date & unified\\_snps\\_count & ldsc\\_lambda\\_gc & ldsc\\_intercept & ldsc\\_intercept\\_se\\\\\n",
       "\\hline\n",
       "\t841 & UK BiLEVE Axiom Array by Affymetrix1, UK Biobank Axiom                                                                                                                                                                                                                                                                                                                                                                                                                                                                                                                                                                                                                                                                                                                                 & Phenotypes were converted into normally-distributed quantitative or a collection of binary (TRUE/FALSE) categorical variables using Hail. Categorizations of phenotype by PHESANT algorithm:Self-reported:0 \\textbar{}\\textbar{} CAT-MUL-BINARY-VAR 1465 \\textbar{}\\textbar{} Indicator name x135\\_0\\_0 \\textbar{}\\textbar{} Remove indicator var NAs: 862 \\textbar{}\\textbar{} Remove indicator var <0: 0 \\textbar{}\\textbar{} Removed 0 examples != 1465 but with missing value (<0) \\textbar{}\\textbar{} sample 461062/40718(501780) \\textbar{}\\textbar{}                                                                                                                                                                                                           & UKB\\_NealeLab                                                                                                                                                                                                                                                                                                                                                                                                                                                                                                                                                                                                                                                                                                                                                                         & Our goal here is to make these results available as quickly as possible, for any geneticist, biologist or curious citizen to explore. In sharing these results as soon as they are produced, we hope to dramatically cut down the time researchers spend in obtaining GWAS results so that they may focus on all the other components that are less standardized across studies.                                                                                                                                                                                                                                                                                                                                                                                                       & 0.077452716                                                                                                                                                                                                                                                                                                                                                                                                                                                                                                                                                                                                                                                                                                                                                                            &     47                                                                                                                                                                                                                                                                                                                                                                                                                                                                                                                                                                                                                                                                                                                                                                                 &                                                                                                                                                                                                                                                                                                                                                                                                                                                                                                                                                                                                                                                                                                                                                                                        & 10355842                                                                                                                                                                                                                                                                                                                                                                                                                                                                                                                                                                                                                                                                                                                                                                               & 1.140029                                                                                                                                                                                                                                                                                                                                                                                                                                                                                                                                                                                                                                                                                                                                                                               & 1.0274368                                                                                                                                                                                                                                                                                                                                                                                                                                                                                                                                                                                                                                                                                                                                                                              & 0.007393273                                                                                                                                                                                                                                                                                                                                                                                                                                                                                                                                                                                                                                                                                                                                                                           \\\\\n",
       "\t1149 & UK BiLEVE Axiom Array by Affymetrix1, UK Biobank Axiom                                                                                                                                                                                                                                                                                                                                                                                                                                                                                                                                                                                                                                                                                         & Phenotypes were converted into normally-distributed quantitative or a collection of binary (TRUE/FALSE) categorical variables using Hail. Categorizations of phenotype by PHESANT algorithm:6138\\_0 \\textbar{}\\textbar{} CAT-MUL-BINARY-VAR 1 \\textbar{}\\textbar{} NO\\_NAN Remove NA participants 4647 \\textbar{}\\textbar{} Removed 5495 examples != 1 but with missing value (<0) \\textbar{}\\textbar{} sample 331289/161211(492500) \\textbar{}\\textbar{}                                                                                                                                                                                                                                                                          & UKB\\_NealeLab                                                                                                                                                                                                                                                                                                                                                                                                                                                                                                                                                                                                                                                                                                                                 & Our goal here is to make these results available as quickly as possible, for any geneticist, biologist or curious citizen to explore. In sharing these results as soon as they are produced, we hope to dramatically cut down the time researchers spend in obtaining GWAS results so that they may focus on all the other components that are less standardized across studies.                                                                                                                                                                                                                                                                                                                                                               & 0.219221563                                                                                                                                                                                                                                                                                                                                                                                                                                                                                                                                                                                                                                                                                                                                    &  15015                                                                                                                                                                                                                                                                                                                                                                                                                                                                                                                                                                                                                                                                                                                                         &                                                                                                                                                                                                                                                                                                                                                                                                                                                                                                                                                                                                                                                                                                                                                & 10355842                                                                                                                                                                                                                                                                                                                                                                                                                                                                                                                                                                                                                                                                                                                                       & 1.907786                                                                                                                                                                                                                                                                                                                                                                                                                                                                                                                                                                                                                                                                                                                                       & 1.1458310                                                                                                                                                                                                                                                                                                                                                                                                                                                                                                                                                                                                                                                                                                                                      & 0.012001969                                                                                                                                                                                                                                                                                                                                                                                                                                                                                                                                                                                                                                                                                                                                   \\\\\n",
       "\t1849 & Affymetrix Axiom Array                                                                                                                                                                                                                                                                                                                                                                                                                                                                                                                                                                                                                 & inverse-normalisation                                                                                                                                                                                                                                                                                                                                                                                                                                                                                                                                                                                                                  & SomaLogic\\_2017                                                                                                                                                                                                                                                                                                                                                                                                                                                                                                                                                                                                                       & All summary statistics and association data are freely available, accessible online on an integrated web-server at http://proteomics.gwas.eu. The informed consent given by the study participants does not cover posting of participant level phenotype and genotype data in public databases. However, data for KORA are available upon request from KORA-gen (http://epi.helmholtz-muenchen.de/kora-gen). Requests are submitted online and are subject to approval by the KORA board.                                                                                                                                              & 1.000000000                                                                                                                                                                                                                                                                                                                                                                                                                                                                                                                                                                                                                            &     22                                                                                                                                                                                                                                                                                                                                                                                                                                                                                                                                                                                                                                 &                                                                                                                                                                                                                                                                                                                                                                                                                                                                                                                                                                                                                                        &   499698                                                                                                                                                                                                                                                                                                                                                                                                                                                                                                                                                                                                                               & 1.007097                                                                                                                                                                                                                                                                                                                                                                                                                                                                                                                                                                                                                               & 1.0068542                                                                                                                                                                                                                                                                                                                                                                                                                                                                                                                                                                                                                              & 0.007677050                                                                                                                                                                                                                                                                                                                                                                                                                                                                                                                                                                                                                           \\\\\n",
       "\t2127 & Affymetrix Axiom Array                                                                                                                                                                                                                                                                                                                                                                                                                                                                                                                                                                                                                 & inverse-normalisation                                                                                                                                                                                                                                                                                                                                                                                                                                                                                                                                                                                                                  & SomaLogic\\_2017                                                                                                                                                                                                                                                                                                                                                                                                                                                                                                                                                                                                                       & All summary statistics and association data are freely available, accessible online on an integrated web-server at http://proteomics.gwas.eu. The informed consent given by the study participants does not cover posting of participant level phenotype and genotype data in public databases. However, data for KORA are available upon request from KORA-gen (http://epi.helmholtz-muenchen.de/kora-gen). Requests are submitted online and are subject to approval by the KORA board.                                                                                                                                              & 1.000000000                                                                                                                                                                                                                                                                                                                                                                                                                                                                                                                                                                                                                            &     29                                                                                                                                                                                                                                                                                                                                                                                                                                                                                                                                                                                                                                 &                                                                                                                                                                                                                                                                                                                                                                                                                                                                                                                                                                                                                                        &   499698                                                                                                                                                                                                                                                                                                                                                                                                                                                                                                                                                                                                                               & 1.001014                                                                                                                                                                                                                                                                                                                                                                                                                                                                                                                                                                                                                               & 0.9984518                                                                                                                                                                                                                                                                                                                                                                                                                                                                                                                                                                                                                              & 0.008536100                                                                                                                                                                                                                                                                                                                                                                                                                                                                                                                                                                                                                           \\\\\n",
       "\t3275 & UK BiLEVE Axiom Array by Affymetrix1, UK Biobank Axiom                                                                                                                                                                                                                                                                                                                                                                                                                                                                                                                                                                                                                                                                                                                                                                                                                                       & Phenotypes were converted into normally-distributed quantitative or a collection of binary (TRUE/FALSE) categorical variables using Hail. Categorizations of phenotype by PHESANT algorithm:1070\\_0\\textbar{}\\textbar{} INTEGER \\textbar{}\\textbar{} reassignments: -1=NA\\textbar{}-3=NA\\textbar{}-10=NA \\textbar{}\\textbar{} CONTINUOUS \\textbar{}\\textbar{} >20\\% IN ONE CATEGORY \\textbar{}\\textbar{} Split into three bins: 0: <2, 1: {[}2,3), 2: >=3 \\textbar{}\\textbar{}cat N: 78577, 132779, 262480 \\textbar{}\\textbar{} CAT-ORD \\textbar{}\\textbar{} order: 0\\textbar{}1\\textbar{}2 \\textbar{}\\textbar{} num categories: 3 \\textbar{}\\textbar{}                                                                                                                                                                                                            & UKB\\_NealeLab                                                                                                                                                                                                                                                                                                                                                                                                                                                                                                                                                                                                                                                                                                                                                                                                                                                                               & Our goal here is to make these results available as quickly as possible, for any geneticist, biologist or curious citizen to explore. In sharing these results as soon as they are produced, we hope to dramatically cut down the time researchers spend in obtaining GWAS results so that they may focus on all the other components that are less standardized across studies.                                                                                                                                                                                                                                                                                                                                                                                                                                                                                                             & 0.565118485                                                                                                                                                                                                                                                                                                                                                                                                                                                                                                                                                                                                                                                                                                                                                                                                                                                                                  &   2972                                                                                                                                                                                                                                                                                                                                                                                                                                                                                                                                                                                                                                                                                                                                                                                                                                                                                       &                                                                                                                                                                                                                                                                                                                                                                                                                                                                                                                                                                                                                                                                                                                                                                                                                                                                                              & 10355842                                                                                                                                                                                                                                                                                                                                                                                                                                                                                                                                                                                                                                                                                                                                                                                                                                                                                     & 1.546602                                                                                                                                                                                                                                                                                                                                                                                                                                                                                                                                                                                                                                                                                                                                                                                                                                                                                     & 1.0636748                                                                                                                                                                                                                                                                                                                                                                                                                                                                                                                                                                                                                                                                                                                                                                                                                                                                                    & 0.009980583                                                                                                                                                                                                                                                                                                                                                                                                                                                                                                                                                                                                                                                                                                                                                                                                                                                                                 \\\\\n",
       "\t3305 & UK BiLEVE Axiom Array by Affymetrix1, UK Biobank Axiom                                                                                                                                                                                                                                                                                                                                                                                                                                                                                                                                                                                                                                                                                                                                                                                                                                                                                                                                                                                                                                                                                                                                     & Phenotypes were converted into normally-distributed quantitative or a collection of binary (TRUE/FALSE) categorical variables using Hail. Categorizations of phenotype by PHESANT algorithm:20016\\_0\\textbar{}\\textbar{} INTEGER \\textbar{}\\textbar{} Inc(>=10): 5(27849) \\textbar{}\\textbar{} Inc(>=10): 2(5781) \\textbar{}\\textbar{} Inc(>=10): 3(12996) \\textbar{}\\textbar{} Inc(>=10): 4(22453) \\textbar{}\\textbar{} Inc(>=10): 9(8780) \\textbar{}\\textbar{} Inc(>=10): 6(27395) \\textbar{}\\textbar{} Inc(>=10): 10(5908) \\textbar{}\\textbar{} Inc(>=10): 7(26815) \\textbar{}\\textbar{} Inc(>=10): 8(21940) \\textbar{}\\textbar{} Inc(>=10): 1(1602) \\textbar{}\\textbar{} Inc(>=10): 11(2582) \\textbar{}\\textbar{} Inc(>=10): 12(1009) \\textbar{}\\textbar{} Inc(>=10): 13(160) \\textbar{}\\textbar{} Inc(>=10): 0(221) \\textbar{}\\textbar{} 3-20 values \\textbar{}\\textbar{} CAT-ORD \\textbar{}\\textbar{} order: 0\\textbar{}1\\textbar{}2\\textbar{}3\\textbar{}4\\textbar{}5\\textbar{}6\\textbar{}7\\textbar{}8\\textbar{}9\\textbar{}10\\textbar{}11\\textbar{}12\\textbar{}13 \\textbar{}\\textbar{} num categories: 14 \\textbar{}\\textbar{} & UKB\\_NealeLab                                                                                                                                                                                                                                                                                                                                                                                                                                                                                                                                                                                                                                                                                                                                                                                                                                                                                                                                                                                                                                                                                                                                                                             & Our goal here is to make these results available as quickly as possible, for any geneticist, biologist or curious citizen to explore. In sharing these results as soon as they are produced, we hope to dramatically cut down the time researchers spend in obtaining GWAS results so that they may focus on all the other components that are less standardized across studies.                                                                                                                                                                                                                                                                                                                                                                                                                                                                                                                                                                                                                                                                                                                                                                                                           & 4.459098149                                                                                                                                                                                                                                                                                                                                                                                                                                                                                                                                                                                                                                                                                                                                                                                                                                                                                                                                                                                                                                                                                                                                                                                &   2776                                                                                                                                                                                                                                                                                                                                                                                                                                                                                                                                                                                                                                                                                                                                                                                                                                                                                                                                                                                                                                                                                                                                                                                     &                                                                                                                                                                                                                                                                                                                                                                                                                                                                                                                                                                                                                                                                                                                                                                                                                                                                                                                                                                                                                                                                                                                                                                                            & 10355842                                                                                                                                                                                                                                                                                                                                                                                                                                                                                                                                                                                                                                                                                                                                                                                                                                                                                                                                                                                                                                                                                                                                                                                   & 1.446840                                                                                                                                                                                                                                                                                                                                                                                                                                                                                                                                                                                                                                                                                                                                                                                                                                                                                                                                                                                                                                                                                                                                                                                   & 1.0505091                                                                                                                                                                                                                                                                                                                                                                                                                                                                                                                                                                                                                                                                                                                                                                                                                                                                                                                                                                                                                                                                                                                                                                                  & 0.009589388                                                                                                                                                                                                                                                                                                                                                                                                                                                                                                                                                                                                                                                                                                                                                                                                                                                                                                                                                                                                                                                                                                                                                                               \\\\\n",
       "\t3324 & UK BiLEVE Axiom Array by Affymetrix1, UK Biobank Axiom                                                                                                                                                                                                                                                                                                                                                                                                                                                                                                                                                                                                                                                                   & Phenotypes were converted into normally-distributed quantitative or a collection of binary (TRUE/FALSE) categorical variables using Hail. Categorizations of phenotype by PHESANT algorithm:4079\\_0\\textbar{}\\textbar{} INTEGER \\textbar{}\\textbar{} CONTINUOUS \\textbar{}\\textbar{} IRNT \\textbar{}\\textbar{}                                                                                                                                                                                                                                                                                                                                                                                                  & UKB\\_NealeLab                                                                                                                                                                                                                                                                                                                                                                                                                                                                                                                                                                                                                                                                                                           & Our goal here is to make these results available as quickly as possible, for any geneticist, biologist or curious citizen to explore. In sharing these results as soon as they are produced, we hope to dramatically cut down the time researchers spend in obtaining GWAS results so that they may focus on all the other components that are less standardized across studies.                                                                                                                                                                                                                                                                                                                                         & 0.973953058                                                                                                                                                                                                                                                                                                                                                                                                                                                                                                                                                                                                                                                                                                              &  16683                                                                                                                                                                                                                                                                                                                                                                                                                                                                                                                                                                                                                                                                                                                   &                                                                                                                                                                                                                                                                                                                                                                                                                                                                                                                                                                                                                                                                                                                          & 10355842                                                                                                                                                                                                                                                                                                                                                                                                                                                                                                                                                                                                                                                                                                                 & 1.622957                                                                                                                                                                                                                                                                                                                                                                                                                                                                                                                                                                                                                                                                                                                 & 1.0821774                                                                                                                                                                                                                                                                                                                                                                                                                                                                                                                                                                                                                                                                                                                & 0.013092372                                                                                                                                                                                                                                                                                                                                                                                                                                                                                                                                                                                                                                                                                                             \\\\\n",
       "\t3373 & UK BiLEVE Axiom Array by Affymetrix1, UK Biobank Axiom                                                                                                                                                                                                                                                                                                                                                                                                                                                                                                                                                                                                                                                                   & Phenotypes were converted into normally-distributed quantitative or a collection of binary (TRUE/FALSE) categorical variables using Hail. Categorizations of phenotype by PHESANT algorithm:23105\\_0\\textbar{}\\textbar{} CONTINUOUS MAIN \\textbar{}\\textbar{} CONTINUOUS \\textbar{}\\textbar{} IRNT \\textbar{}\\textbar{}                                                                                                                                                                                                                                                                                                                                                                                         & UKB\\_NealeLab                                                                                                                                                                                                                                                                                                                                                                                                                                                                                                                                                                                                                                                                                                           & Our goal here is to make these results available as quickly as possible, for any geneticist, biologist or curious citizen to explore. In sharing these results as soon as they are produced, we hope to dramatically cut down the time researchers spend in obtaining GWAS results so that they may focus on all the other components that are less standardized across studies.                                                                                                                                                                                                                                                                                                                                         & 0.434901270                                                                                                                                                                                                                                                                                                                                                                                                                                                                                                                                                                                                                                                                                                              &  56618                                                                                                                                                                                                                                                                                                                                                                                                                                                                                                                                                                                                                                                                                                                   &                                                                                                                                                                                                                                                                                                                                                                                                                                                                                                                                                                                                                                                                                                                          & 10355842                                                                                                                                                                                                                                                                                                                                                                                                                                                                                                                                                                                                                                                                                                                 & 2.157771                                                                                                                                                                                                                                                                                                                                                                                                                                                                                                                                                                                                                                                                                                                 & 1.2114763                                                                                                                                                                                                                                                                                                                                                                                                                                                                                                                                                                                                                                                                                                                & 0.020156039                                                                                                                                                                                                                                                                                                                                                                                                                                                                                                                                                                                                                                                                                                             \\\\\n",
       "\t3416 & UK BiLEVE Axiom Array by Affymetrix1, UK Biobank Axiom                                                                                                                                                                                                                                                                                                                                                                                                                                                                                                                                                                                                                                                                                                                                                                                           & Phenotypes were converted into normally-distributed quantitative or a collection of binary (TRUE/FALSE) categorical variables using Hail. Categorizations of phenotype by PHESANT algorithm:924\\_0\\textbar{}\\textbar{} CAT-SINGLE \\textbar{}\\textbar{} Inc(>=10): 3(194144) \\textbar{}\\textbar{} Inc(>=10): 2(262887) \\textbar{}\\textbar{} Inc(>=10): 1(40922) \\textbar{}\\textbar{} ordered \\textbar{}\\textbar{} CAT-ORD \\textbar{}\\textbar{} order: 1\\textbar{}2\\textbar{}3 \\textbar{}\\textbar{} num categories: 3 \\textbar{}\\textbar{}                                                                                                                                                                                                                                                                                    & UKB\\_NealeLab                                                                                                                                                                                                                                                                                                                                                                                                                                                                                                                                                                                                                                                                                                                                                                                                                                   & Our goal here is to make these results available as quickly as possible, for any geneticist, biologist or curious citizen to explore. In sharing these results as soon as they are produced, we hope to dramatically cut down the time researchers spend in obtaining GWAS results so that they may focus on all the other components that are less standardized across studies.                                                                                                                                                                                                                                                                                                                                                                                                                                                                 & 0.373687306                                                                                                                                                                                                                                                                                                                                                                                                                                                                                                                                                                                                                                                                                                                                                                                                                                      &   1199                                                                                                                                                                                                                                                                                                                                                                                                                                                                                                                                                                                                                                                                                                                                                                                                                                           &                                                                                                                                                                                                                                                                                                                                                                                                                                                                                                                                                                                                                                                                                                                                                                                                                                                  & 10355842                                                                                                                                                                                                                                                                                                                                                                                                                                                                                                                                                                                                                                                                                                                                                                                                                                         & 1.427343                                                                                                                                                                                                                                                                                                                                                                                                                                                                                                                                                                                                                                                                                                                                                                                                                                         & 1.0343743                                                                                                                                                                                                                                                                                                                                                                                                                                                                                                                                                                                                                                                                                                                                                                                                                                        & 0.009405985                                                                                                                                                                                                                                                                                                                                                                                                                                                                                                                                                                                                                                                                                                                                                                                                                                     \\\\\n",
       "\t3514 & UK BiLEVE Axiom Array by Affymetrix1, UK Biobank Axiom                                                                                                                                                                                                                                                                                                                                                                                                                                                                                                                                                                                                                                                                   & Phenotypes were converted into normally-distributed quantitative or a collection of binary (TRUE/FALSE) categorical variables using Hail. Categorizations of phenotype by PHESANT algorithm:3062\\_0\\textbar{}\\textbar{} CONTINUOUS MAIN \\textbar{}\\textbar{} CONTINUOUS \\textbar{}\\textbar{} IRNT \\textbar{}\\textbar{}                                                                                                                                                                                                                                                                                                                                                                                          & UKB\\_NealeLab                                                                                                                                                                                                                                                                                                                                                                                                                                                                                                                                                                                                                                                                                                           & Our goal here is to make these results available as quickly as possible, for any geneticist, biologist or curious citizen to explore. In sharing these results as soon as they are produced, we hope to dramatically cut down the time researchers spend in obtaining GWAS results so that they may focus on all the other components that are less standardized across studies.                                                                                                                                                                                                                                                                                                                                         & 0.605075888                                                                                                                                                                                                                                                                                                                                                                                                                                                                                                                                                                                                                                                                                                              &  26538                                                                                                                                                                                                                                                                                                                                                                                                                                                                                                                                                                                                                                                                                                                   &                                                                                                                                                                                                                                                                                                                                                                                                                                                                                                                                                                                                                                                                                                                          & 10355842                                                                                                                                                                                                                                                                                                                                                                                                                                                                                                                                                                                                                                                                                                                 & 1.737251                                                                                                                                                                                                                                                                                                                                                                                                                                                                                                                                                                                                                                                                                                                 & 1.1321025                                                                                                                                                                                                                                                                                                                                                                                                                                                                                                                                                                                                                                                                                                                & 0.013659372                                                                                                                                                                                                                                                                                                                                                                                                                                                                                                                                                                                                                                                                                                             \\\\\n",
       "\t3539 & UK BiLEVE Axiom Array by Affymetrix1, UK Biobank Axiom                                                                                                                                                                                                                                                                                                                                                                                                                                                                                                                                                                                                                                                                   & Phenotypes were converted into normally-distributed quantitative or a collection of binary (TRUE/FALSE) categorical variables using Hail. Categorizations of phenotype by PHESANT algorithm:21001\\_0\\textbar{}\\textbar{} CONTINUOUS MAIN \\textbar{}\\textbar{} CONTINUOUS \\textbar{}\\textbar{} IRNT \\textbar{}\\textbar{}                                                                                                                                                                                                                                                                                                                                                                                         & UKB\\_NealeLab                                                                                                                                                                                                                                                                                                                                                                                                                                                                                                                                                                                                                                                                                                           & Our goal here is to make these results available as quickly as possible, for any geneticist, biologist or curious citizen to explore. In sharing these results as soon as they are produced, we hope to dramatically cut down the time researchers spend in obtaining GWAS results so that they may focus on all the other components that are less standardized across studies.                                                                                                                                                                                                                                                                                                                                         & 0.981796567                                                                                                                                                                                                                                                                                                                                                                                                                                                                                                                                                                                                                                                                                                              &  35085                                                                                                                                                                                                                                                                                                                                                                                                                                                                                                                                                                                                                                                                                                                   &                                                                                                                                                                                                                                                                                                                                                                                                                                                                                                                                                                                                                                                                                                                          & 10355842                                                                                                                                                                                                                                                                                                                                                                                                                                                                                                                                                                                                                                                                                                                 & 2.123481                                                                                                                                                                                                                                                                                                                                                                                                                                                                                                                                                                                                                                                                                                                 & 1.1304307                                                                                                                                                                                                                                                                                                                                                                                                                                                                                                                                                                                                                                                                                                                & 0.015958974                                                                                                                                                                                                                                                                                                                                                                                                                                                                                                                                                                                                                                                                                                             \\\\\n",
       "\t3540 & UK BiLEVE Axiom Array by Affymetrix1, UK Biobank Axiom                                                                                                                                                                                                                                                                                                                                                                                                                                                                                                                                                                                                                                                                   & Phenotypes were converted into normally-distributed quantitative or a collection of binary (TRUE/FALSE) categorical variables using Hail. Categorizations of phenotype by PHESANT algorithm:21002\\_0\\textbar{}\\textbar{} CONTINUOUS MAIN \\textbar{}\\textbar{} CONTINUOUS \\textbar{}\\textbar{} IRNT \\textbar{}\\textbar{}                                                                                                                                                                                                                                                                                                                                                                                         & UKB\\_NealeLab                                                                                                                                                                                                                                                                                                                                                                                                                                                                                                                                                                                                                                                                                                           & Our goal here is to make these results available as quickly as possible, for any geneticist, biologist or curious citizen to explore. In sharing these results as soon as they are produced, we hope to dramatically cut down the time researchers spend in obtaining GWAS results so that they may focus on all the other components that are less standardized across studies.                                                                                                                                                                                                                                                                                                                                         & 0.766318866                                                                                                                                                                                                                                                                                                                                                                                                                                                                                                                                                                                                                                                                                                              &  44159                                                                                                                                                                                                                                                                                                                                                                                                                                                                                                                                                                                                                                                                                                                   &                                                                                                                                                                                                                                                                                                                                                                                                                                                                                                                                                                                                                                                                                                                          & 10355842                                                                                                                                                                                                                                                                                                                                                                                                                                                                                                                                                                                                                                                                                                                 & 2.146361                                                                                                                                                                                                                                                                                                                                                                                                                                                                                                                                                                                                                                                                                                                 & 1.1616314                                                                                                                                                                                                                                                                                                                                                                                                                                                                                                                                                                                                                                                                                                                & 0.017654066                                                                                                                                                                                                                                                                                                                                                                                                                                                                                                                                                                                                                                                                                                             \\\\\n",
       "\t3542 & UK BiLEVE Axiom Array by Affymetrix1, UK Biobank Axiom                                                                                                                                                                                                                                                                                                                                                                                                                                                                                                                                                                                                                                                                   & Phenotypes were converted into normally-distributed quantitative or a collection of binary (TRUE/FALSE) categorical variables using Hail. Categorizations of phenotype by PHESANT algorithm:23099\\_0\\textbar{}\\textbar{} CONTINUOUS MAIN \\textbar{}\\textbar{} CONTINUOUS \\textbar{}\\textbar{} IRNT \\textbar{}\\textbar{}                                                                                                                                                                                                                                                                                                                                                                                         & UKB\\_NealeLab                                                                                                                                                                                                                                                                                                                                                                                                                                                                                                                                                                                                                                                                                                           & Our goal here is to make these results available as quickly as possible, for any geneticist, biologist or curious citizen to explore. In sharing these results as soon as they are produced, we hope to dramatically cut down the time researchers spend in obtaining GWAS results so that they may focus on all the other components that are less standardized across studies.                                                                                                                                                                                                                                                                                                                                         & 0.580877146                                                                                                                                                                                                                                                                                                                                                                                                                                                                                                                                                                                                                                                                                                              &  24636                                                                                                                                                                                                                                                                                                                                                                                                                                                                                                                                                                                                                                                                                                                   &                                                                                                                                                                                                                                                                                                                                                                                                                                                                                                                                                                                                                                                                                                                          & 10355842                                                                                                                                                                                                                                                                                                                                                                                                                                                                                                                                                                                                                                                                                                                 & 2.009034                                                                                                                                                                                                                                                                                                                                                                                                                                                                                                                                                                                                                                                                                                                 & 1.1332900                                                                                                                                                                                                                                                                                                                                                                                                                                                                                                                                                                                                                                                                                                                & 0.015804733                                                                                                                                                                                                                                                                                                                                                                                                                                                                                                                                                                                                                                                                                                             \\\\\n",
       "\t3547 & UK BiLEVE Axiom Array by Affymetrix1, UK Biobank Axiom                                                                                                                                                                                                                                                                                                                                                                                                                                                                                                                                                                                                                                                                   & Phenotypes were converted into normally-distributed quantitative or a collection of binary (TRUE/FALSE) categorical variables using Hail. Categorizations of phenotype by PHESANT algorithm:49\\_0\\textbar{}\\textbar{} CONTINUOUS MAIN \\textbar{}\\textbar{} CONTINUOUS \\textbar{}\\textbar{} IRNT \\textbar{}\\textbar{}                                                                                                                                                                                                                                                                                                                                                                                            & UKB\\_NealeLab                                                                                                                                                                                                                                                                                                                                                                                                                                                                                                                                                                                                                                                                                                           & Our goal here is to make these results available as quickly as possible, for any geneticist, biologist or curious citizen to explore. In sharing these results as soon as they are produced, we hope to dramatically cut down the time researchers spend in obtaining GWAS results so that they may focus on all the other components that are less standardized across studies.                                                                                                                                                                                                                                                                                                                                         & 0.985040281                                                                                                                                                                                                                                                                                                                                                                                                                                                                                                                                                                                                                                                                                                              &  30388                                                                                                                                                                                                                                                                                                                                                                                                                                                                                                                                                                                                                                                                                                                   &                                                                                                                                                                                                                                                                                                                                                                                                                                                                                                                                                                                                                                                                                                                          & 10355842                                                                                                                                                                                                                                                                                                                                                                                                                                                                                                                                                                                                                                                                                                                 & 1.979331                                                                                                                                                                                                                                                                                                                                                                                                                                                                                                                                                                                                                                                                                                                 & 1.1382925                                                                                                                                                                                                                                                                                                                                                                                                                                                                                                                                                                                                                                                                                                                & 0.015608311                                                                                                                                                                                                                                                                                                                                                                                                                                                                                                                                                                                                                                                                                                             \\\\\n",
       "\t3548 & UK BiLEVE Axiom Array by Affymetrix1, UK Biobank Axiom                                                                                                                                                                                                                                                                                                                                                                                                                                                                                                                                                                                                                                                                   & Phenotypes were converted into normally-distributed quantitative or a collection of binary (TRUE/FALSE) categorical variables using Hail. Categorizations of phenotype by PHESANT algorithm:50\\_0\\textbar{}\\textbar{} CONTINUOUS MAIN \\textbar{}\\textbar{} CONTINUOUS \\textbar{}\\textbar{} IRNT \\textbar{}\\textbar{}                                                                                                                                                                                                                                                                                                                                                                                            & UKB\\_NealeLab                                                                                                                                                                                                                                                                                                                                                                                                                                                                                                                                                                                                                                                                                                           & Our goal here is to make these results available as quickly as possible, for any geneticist, biologist or curious citizen to explore. In sharing these results as soon as they are produced, we hope to dramatically cut down the time researchers spend in obtaining GWAS results so that they may focus on all the other components that are less standardized across studies.                                                                                                                                                                                                                                                                                                                                         & 0.507243713                                                                                                                                                                                                                                                                                                                                                                                                                                                                                                                                                                                                                                                                                                              & 144714                                                                                                                                                                                                                                                                                                                                                                                                                                                                                                                                                                                                                                                                                                                   &                                                                                                                                                                                                                                                                                                                                                                                                                                                                                                                                                                                                                                                                                                                          & 10355842                                                                                                                                                                                                                                                                                                                                                                                                                                                                                                                                                                                                                                                                                                                 & 2.393754                                                                                                                                                                                                                                                                                                                                                                                                                                                                                                                                                                                                                                                                                                                 & 1.4276371                                                                                                                                                                                                                                                                                                                                                                                                                                                                                                                                                                                                                                                                                                                & 0.034569865                                                                                                                                                                                                                                                                                                                                                                                                                                                                                                                                                                                                                                                                                                             \\\\\n",
       "\t3725 & UK BiLEVE Axiom Array by Affymetrix1, UK Biobank Axiom                                                                                                                                                                                                                                                                                                                                                                                                                                                                                                                                                                                                                                                                                                                                                                                                                                                                                     & Phenotypes were converted into normally-distributed quantitative or a collection of binary (TRUE/FALSE) categorical variables using Hail. Categorizations of phenotype by PHESANT algorithm:1558\\_0\\textbar{}\\textbar{} CAT-SINGLE \\textbar{}\\textbar{} Inc(>=10): 1(101791) \\textbar{}\\textbar{} Inc(>=10): 5(58029) \\textbar{}\\textbar{} Inc(>=10): 3(129322) \\textbar{}\\textbar{} Inc(>=10): 6(40661) \\textbar{}\\textbar{} Inc(>=10): 2(115462) \\textbar{}\\textbar{} Inc(>=10): 4(55874) \\textbar{}\\textbar{} ordered \\textbar{}\\textbar{} CAT-ORD \\textbar{}\\textbar{} order: 1\\textbar{}2\\textbar{}3\\textbar{}4\\textbar{}5\\textbar{}6 \\textbar{}\\textbar{} num categories: 6 \\textbar{}\\textbar{}                                                                                                                                                                                                       & UKB\\_NealeLab                                                                                                                                                                                                                                                                                                                                                                                                                                                                                                                                                                                                                                                                                                                                                                                                                                                                                                                             & Our goal here is to make these results available as quickly as possible, for any geneticist, biologist or curious citizen to explore. In sharing these results as soon as they are produced, we hope to dramatically cut down the time researchers spend in obtaining GWAS results so that they may focus on all the other components that are less standardized across studies.                                                                                                                                                                                                                                                                                                                                                                                                                                                                                                                                                           & 2.151962725                                                                                                                                                                                                                                                                                                                                                                                                                                                                                                                                                                                                                                                                                                                                                                                                                                                                                                                                &   5608                                                                                                                                                                                                                                                                                                                                                                                                                                                                                                                                                                                                                                                                                                                                                                                                                                                                                                                                     &                                                                                                                                                                                                                                                                                                                                                                                                                                                                                                                                                                                                                                                                                                                                                                                                                                                                                                                                            & 10355842                                                                                                                                                                                                                                                                                                                                                                                                                                                                                                                                                                                                                                                                                                                                                                                                                                                                                                                                   & 1.467859                                                                                                                                                                                                                                                                                                                                                                                                                                                                                                                                                                                                                                                                                                                                                                                                                                                                                                                                   & 1.0555425                                                                                                                                                                                                                                                                                                                                                                                                                                                                                                                                                                                                                                                                                                                                                                                                                                                                                                                                  & 0.010358157                                                                                                                                                                                                                                                                                                                                                                                                                                                                                                                                                                                                                                                                                                                                                                                                                                                                                                                               \\\\\n",
       "\t3762 & UK BiLEVE Axiom Array by Affymetrix1, UK Biobank Axiom                                                                                                                                                                                                                                                                                                                                                                                                                                                                                                                                                                                 & Not transformed                                                                                                                                                                                                                                                                                                                                                                                                                                                                                                                                                                                                                        & UKB\\_GenAtlas                                                                                                                                                                                                                                                                                                                                                                                                                                                                                                                                                                                                                         & Open                                                                                                                                                                                                                                                                                                                                                                                                                                                                                                                                                                                                                                   & 0.804416448                                                                                                                                                                                                                                                                                                                                                                                                                                                                                                                                                                                                                            &  55599                                                                                                                                                                                                                                                                                                                                                                                                                                                                                                                                                                                                                                 & 2018-03-01                                                                                                                                                                                                                                                                                                                                                                                                                                                                                                                                                                                                                             & 10331889                                                                                                                                                                                                                                                                                                                                                                                                                                                                                                                                                                                                                               & 1.635842                                                                                                                                                                                                                                                                                                                                                                                                                                                                                                                                                                                                                               & 1.2099757                                                                                                                                                                                                                                                                                                                                                                                                                                                                                                                                                                                                                              & 0.019928234                                                                                                                                                                                                                                                                                                                                                                                                                                                                                                                                                                                                                           \\\\\n",
       "\t3763 & UK BiLEVE Axiom Array by Affymetrix1, UK Biobank Axiom                                                                                                                                                                                                                                                                                                                                                                                                                                                                                                                                                                                 & Not transformed                                                                                                                                                                                                                                                                                                                                                                                                                                                                                                                                                                                                                        & UKB\\_GenAtlas                                                                                                                                                                                                                                                                                                                                                                                                                                                                                                                                                                                                                         & Open                                                                                                                                                                                                                                                                                                                                                                                                                                                                                                                                                                                                                                   & 6.961698593                                                                                                                                                                                                                                                                                                                                                                                                                                                                                                                                                                                                                            &  49762                                                                                                                                                                                                                                                                                                                                                                                                                                                                                                                                                                                                                                 & 2018-03-01                                                                                                                                                                                                                                                                                                                                                                                                                                                                                                                                                                                                                             & 10331903                                                                                                                                                                                                                                                                                                                                                                                                                                                                                                                                                                                                                               & 1.615280                                                                                                                                                                                                                                                                                                                                                                                                                                                                                                                                                                                                                               & 1.2054739                                                                                                                                                                                                                                                                                                                                                                                                                                                                                                                                                                                                                              & 0.019168538                                                                                                                                                                                                                                                                                                                                                                                                                                                                                                                                                                                                                           \\\\\n",
       "\t3781 & UK BiLEVE Axiom Array by Affymetrix1, UK Biobank Axiom                                                                                                                                                                                                                                                                                                                                                                                                                                                                                                                                                                                 & Not transformed                                                                                                                                                                                                                                                                                                                                                                                                                                                                                                                                                                                                                        & UKB\\_GenAtlas                                                                                                                                                                                                                                                                                                                                                                                                                                                                                                                                                                                                                         & Open                                                                                                                                                                                                                                                                                                                                                                                                                                                                                                                                                                                                                                   & 0.001691163                                                                                                                                                                                                                                                                                                                                                                                                                                                                                                                                                                                                                            &  71888                                                                                                                                                                                                                                                                                                                                                                                                                                                                                                                                                                                                                                 & 2018-03-01                                                                                                                                                                                                                                                                                                                                                                                                                                                                                                                                                                                                                             & 10331830                                                                                                                                                                                                                                                                                                                                                                                                                                                                                                                                                                                                                               & 1.718165                                                                                                                                                                                                                                                                                                                                                                                                                                                                                                                                                                                                                               & 1.2627203                                                                                                                                                                                                                                                                                                                                                                                                                                                                                                                                                                                                                              & 0.022159941                                                                                                                                                                                                                                                                                                                                                                                                                                                                                                                                                                                                                           \\\\\n",
       "\t3782 & UK BiLEVE Axiom Array by Affymetrix1, UK Biobank Axiom                                                                                                                                                                                                                                                                                                                                                                                                                                                                                                                                                                                 & Not transformed                                                                                                                                                                                                                                                                                                                                                                                                                                                                                                                                                                                                                        & UKB\\_GenAtlas                                                                                                                                                                                                                                                                                                                                                                                                                                                                                                                                                                                                                         & Open                                                                                                                                                                                                                                                                                                                                                                                                                                                                                                                                                                                                                                   & 0.208704182                                                                                                                                                                                                                                                                                                                                                                                                                                                                                                                                                                                                                            &  76593                                                                                                                                                                                                                                                                                                                                                                                                                                                                                                                                                                                                                                 & 2018-03-01                                                                                                                                                                                                                                                                                                                                                                                                                                                                                                                                                                                                                             & 10331426                                                                                                                                                                                                                                                                                                                                                                                                                                                                                                                                                                                                                               & 1.504444                                                                                                                                                                                                                                                                                                                                                                                                                                                                                                                                                                                                                               & 1.2121527                                                                                                                                                                                                                                                                                                                                                                                                                                                                                                                                                                                                                              & 0.020639522                                                                                                                                                                                                                                                                                                                                                                                                                                                                                                                                                                                                                           \\\\\n",
       "\t3784 & UK BiLEVE Axiom Array by Affymetrix1, UK Biobank Axiom                                                                                                                                                                                                                                                                                                                                                                                                                                                                                                                                                                                 & Not transformed                                                                                                                                                                                                                                                                                                                                                                                                                                                                                                                                                                                                                        & UKB\\_GenAtlas                                                                                                                                                                                                                                                                                                                                                                                                                                                                                                                                                                                                                         & Open                                                                                                                                                                                                                                                                                                                                                                                                                                                                                                                                                                                                                                   & 0.098145053                                                                                                                                                                                                                                                                                                                                                                                                                                                                                                                                                                                                                            &  67878                                                                                                                                                                                                                                                                                                                                                                                                                                                                                                                                                                                                                                 & 2018-03-01                                                                                                                                                                                                                                                                                                                                                                                                                                                                                                                                                                                                                             & 10331815                                                                                                                                                                                                                                                                                                                                                                                                                                                                                                                                                                                                                               & 1.775344                                                                                                                                                                                                                                                                                                                                                                                                                                                                                                                                                                                                                               & 1.2638624                                                                                                                                                                                                                                                                                                                                                                                                                                                                                                                                                                                                                              & 0.024217585                                                                                                                                                                                                                                                                                                                                                                                                                                                                                                                                                                                                                           \\\\\n",
       "\\end{tabular}\n"
      ],
      "text/markdown": [
       "\n",
       "| <!--/--> | gwas_array | trait_transformations | collection | use_terms | trait_variance | n_of_significant_p_value | date | unified_snps_count | ldsc_lambda_gc | ldsc_intercept | ldsc_intercept_se | \n",
       "|---|---|---|---|---|---|---|---|---|---|---|---|---|---|---|---|---|---|---|---|---|\n",
       "| 841 | UK BiLEVE Axiom Array by Affymetrix1, UK Biobank Axiom                                                                                                                                                                                                                                                                                                                                                                                                                                                                                                                                                                                 | Phenotypes were converted into normally-distributed quantitative or a collection of binary (TRUE/FALSE) categorical variables using Hail. Categorizations of phenotype by PHESANT algorithm:Self-reported:0 || CAT-MUL-BINARY-VAR 1465 || Indicator name x135_0_0 || Remove indicator var NAs: 862 || Remove indicator var <0: 0 || Removed 0 examples != 1465 but with missing value (<0) || sample 461062/40718(501780) ||                                                                                                                                                                                                           | UKB_NealeLab                                                                                                                                                                                                                                                                                                                                                                                                                                                                                                                                                                                                                           | Our goal here is to make these results available as quickly as possible, for any geneticist, biologist or curious citizen to explore. In sharing these results as soon as they are produced, we hope to dramatically cut down the time researchers spend in obtaining GWAS results so that they may focus on all the other components that are less standardized across studies.                                                                                                                                                                                                                                                       | 0.077452716                                                                                                                                                                                                                                                                                                                                                                                                                                                                                                                                                                                                                            |     47                                                                                                                                                                                                                                                                                                                                                                                                                                                                                                                                                                                                                                 |                                                                                                                                                                                                                                                                                                                                                                                                                                                                                                                                                                                                                                        | 10355842                                                                                                                                                                                                                                                                                                                                                                                                                                                                                                                                                                                                                               | 1.140029                                                                                                                                                                                                                                                                                                                                                                                                                                                                                                                                                                                                                               | 1.0274368                                                                                                                                                                                                                                                                                                                                                                                                                                                                                                                                                                                                                              | 0.007393273                                                                                                                                                                                                                                                                                                                                                                                                                                                                                                                                                                                                                            | \n",
       "| 1149 | UK BiLEVE Axiom Array by Affymetrix1, UK Biobank Axiom                                                                                                                                                                                                                                                                                                                                                                                                                                                                                                                                                                                 | Phenotypes were converted into normally-distributed quantitative or a collection of binary (TRUE/FALSE) categorical variables using Hail. Categorizations of phenotype by PHESANT algorithm:6138_0 || CAT-MUL-BINARY-VAR 1 || NO_NAN Remove NA participants 4647 || Removed 5495 examples != 1 but with missing value (<0) || sample 331289/161211(492500) ||                                                                                                                                                                                                                                                                          | UKB_NealeLab                                                                                                                                                                                                                                                                                                                                                                                                                                                                                                                                                                                                                           | Our goal here is to make these results available as quickly as possible, for any geneticist, biologist or curious citizen to explore. In sharing these results as soon as they are produced, we hope to dramatically cut down the time researchers spend in obtaining GWAS results so that they may focus on all the other components that are less standardized across studies.                                                                                                                                                                                                                                                       | 0.219221563                                                                                                                                                                                                                                                                                                                                                                                                                                                                                                                                                                                                                            |  15015                                                                                                                                                                                                                                                                                                                                                                                                                                                                                                                                                                                                                                 |                                                                                                                                                                                                                                                                                                                                                                                                                                                                                                                                                                                                                                        | 10355842                                                                                                                                                                                                                                                                                                                                                                                                                                                                                                                                                                                                                               | 1.907786                                                                                                                                                                                                                                                                                                                                                                                                                                                                                                                                                                                                                               | 1.1458310                                                                                                                                                                                                                                                                                                                                                                                                                                                                                                                                                                                                                              | 0.012001969                                                                                                                                                                                                                                                                                                                                                                                                                                                                                                                                                                                                                            | \n",
       "| 1849 | Affymetrix Axiom Array                                                                                                                                                                                                                                                                                                                                                                                                                                                                                                                                                                                                                 | inverse-normalisation                                                                                                                                                                                                                                                                                                                                                                                                                                                                                                                                                                                                                  | SomaLogic_2017                                                                                                                                                                                                                                                                                                                                                                                                                                                                                                                                                                                                                         | All summary statistics and association data are freely available, accessible online on an integrated web-server at http://proteomics.gwas.eu. The informed consent given by the study participants does not cover posting of participant level phenotype and genotype data in public databases. However, data for KORA are available upon request from KORA-gen (http://epi.helmholtz-muenchen.de/kora-gen). Requests are submitted online and are subject to approval by the KORA board.                                                                                                                                              | 1.000000000                                                                                                                                                                                                                                                                                                                                                                                                                                                                                                                                                                                                                            |     22                                                                                                                                                                                                                                                                                                                                                                                                                                                                                                                                                                                                                                 |                                                                                                                                                                                                                                                                                                                                                                                                                                                                                                                                                                                                                                        |   499698                                                                                                                                                                                                                                                                                                                                                                                                                                                                                                                                                                                                                               | 1.007097                                                                                                                                                                                                                                                                                                                                                                                                                                                                                                                                                                                                                               | 1.0068542                                                                                                                                                                                                                                                                                                                                                                                                                                                                                                                                                                                                                              | 0.007677050                                                                                                                                                                                                                                                                                                                                                                                                                                                                                                                                                                                                                            | \n",
       "| 2127 | Affymetrix Axiom Array                                                                                                                                                                                                                                                                                                                                                                                                                                                                                                                                                                                                                 | inverse-normalisation                                                                                                                                                                                                                                                                                                                                                                                                                                                                                                                                                                                                                  | SomaLogic_2017                                                                                                                                                                                                                                                                                                                                                                                                                                                                                                                                                                                                                         | All summary statistics and association data are freely available, accessible online on an integrated web-server at http://proteomics.gwas.eu. The informed consent given by the study participants does not cover posting of participant level phenotype and genotype data in public databases. However, data for KORA are available upon request from KORA-gen (http://epi.helmholtz-muenchen.de/kora-gen). Requests are submitted online and are subject to approval by the KORA board.                                                                                                                                              | 1.000000000                                                                                                                                                                                                                                                                                                                                                                                                                                                                                                                                                                                                                            |     29                                                                                                                                                                                                                                                                                                                                                                                                                                                                                                                                                                                                                                 |                                                                                                                                                                                                                                                                                                                                                                                                                                                                                                                                                                                                                                        |   499698                                                                                                                                                                                                                                                                                                                                                                                                                                                                                                                                                                                                                               | 1.001014                                                                                                                                                                                                                                                                                                                                                                                                                                                                                                                                                                                                                               | 0.9984518                                                                                                                                                                                                                                                                                                                                                                                                                                                                                                                                                                                                                              | 0.008536100                                                                                                                                                                                                                                                                                                                                                                                                                                                                                                                                                                                                                            | \n",
       "| 3275 | UK BiLEVE Axiom Array by Affymetrix1, UK Biobank Axiom                                                                                                                                                                                                                                                                                                                                                                                                                                                                                                                                                                                 | Phenotypes were converted into normally-distributed quantitative or a collection of binary (TRUE/FALSE) categorical variables using Hail. Categorizations of phenotype by PHESANT algorithm:1070_0|| INTEGER || reassignments: -1=NA|-3=NA|-10=NA || CONTINUOUS || >20% IN ONE CATEGORY || Split into three bins: 0: <2, 1: [2,3), 2: >=3 ||cat N: 78577, 132779, 262480 || CAT-ORD || order: 0|1|2 || num categories: 3 ||                                                                                                                                                                                                            | UKB_NealeLab                                                                                                                                                                                                                                                                                                                                                                                                                                                                                                                                                                                                                           | Our goal here is to make these results available as quickly as possible, for any geneticist, biologist or curious citizen to explore. In sharing these results as soon as they are produced, we hope to dramatically cut down the time researchers spend in obtaining GWAS results so that they may focus on all the other components that are less standardized across studies.                                                                                                                                                                                                                                                       | 0.565118485                                                                                                                                                                                                                                                                                                                                                                                                                                                                                                                                                                                                                            |   2972                                                                                                                                                                                                                                                                                                                                                                                                                                                                                                                                                                                                                                 |                                                                                                                                                                                                                                                                                                                                                                                                                                                                                                                                                                                                                                        | 10355842                                                                                                                                                                                                                                                                                                                                                                                                                                                                                                                                                                                                                               | 1.546602                                                                                                                                                                                                                                                                                                                                                                                                                                                                                                                                                                                                                               | 1.0636748                                                                                                                                                                                                                                                                                                                                                                                                                                                                                                                                                                                                                              | 0.009980583                                                                                                                                                                                                                                                                                                                                                                                                                                                                                                                                                                                                                            | \n",
       "| 3305 | UK BiLEVE Axiom Array by Affymetrix1, UK Biobank Axiom                                                                                                                                                                                                                                                                                                                                                                                                                                                                                                                                                                                 | Phenotypes were converted into normally-distributed quantitative or a collection of binary (TRUE/FALSE) categorical variables using Hail. Categorizations of phenotype by PHESANT algorithm:20016_0|| INTEGER || Inc(>=10): 5(27849) || Inc(>=10): 2(5781) || Inc(>=10): 3(12996) || Inc(>=10): 4(22453) || Inc(>=10): 9(8780) || Inc(>=10): 6(27395) || Inc(>=10): 10(5908) || Inc(>=10): 7(26815) || Inc(>=10): 8(21940) || Inc(>=10): 1(1602) || Inc(>=10): 11(2582) || Inc(>=10): 12(1009) || Inc(>=10): 13(160) || Inc(>=10): 0(221) || 3-20 values || CAT-ORD || order: 0|1|2|3|4|5|6|7|8|9|10|11|12|13 || num categories: 14 || | UKB_NealeLab                                                                                                                                                                                                                                                                                                                                                                                                                                                                                                                                                                                                                           | Our goal here is to make these results available as quickly as possible, for any geneticist, biologist or curious citizen to explore. In sharing these results as soon as they are produced, we hope to dramatically cut down the time researchers spend in obtaining GWAS results so that they may focus on all the other components that are less standardized across studies.                                                                                                                                                                                                                                                       | 4.459098149                                                                                                                                                                                                                                                                                                                                                                                                                                                                                                                                                                                                                            |   2776                                                                                                                                                                                                                                                                                                                                                                                                                                                                                                                                                                                                                                 |                                                                                                                                                                                                                                                                                                                                                                                                                                                                                                                                                                                                                                        | 10355842                                                                                                                                                                                                                                                                                                                                                                                                                                                                                                                                                                                                                               | 1.446840                                                                                                                                                                                                                                                                                                                                                                                                                                                                                                                                                                                                                               | 1.0505091                                                                                                                                                                                                                                                                                                                                                                                                                                                                                                                                                                                                                              | 0.009589388                                                                                                                                                                                                                                                                                                                                                                                                                                                                                                                                                                                                                            | \n",
       "| 3324 | UK BiLEVE Axiom Array by Affymetrix1, UK Biobank Axiom                                                                                                                                                                                                                                                                                                                                                                                                                                                                                                                                                                                 | Phenotypes were converted into normally-distributed quantitative or a collection of binary (TRUE/FALSE) categorical variables using Hail. Categorizations of phenotype by PHESANT algorithm:4079_0|| INTEGER || CONTINUOUS || IRNT ||                                                                                                                                                                                                                                                                                                                                                                                                  | UKB_NealeLab                                                                                                                                                                                                                                                                                                                                                                                                                                                                                                                                                                                                                           | Our goal here is to make these results available as quickly as possible, for any geneticist, biologist or curious citizen to explore. In sharing these results as soon as they are produced, we hope to dramatically cut down the time researchers spend in obtaining GWAS results so that they may focus on all the other components that are less standardized across studies.                                                                                                                                                                                                                                                       | 0.973953058                                                                                                                                                                                                                                                                                                                                                                                                                                                                                                                                                                                                                            |  16683                                                                                                                                                                                                                                                                                                                                                                                                                                                                                                                                                                                                                                 |                                                                                                                                                                                                                                                                                                                                                                                                                                                                                                                                                                                                                                        | 10355842                                                                                                                                                                                                                                                                                                                                                                                                                                                                                                                                                                                                                               | 1.622957                                                                                                                                                                                                                                                                                                                                                                                                                                                                                                                                                                                                                               | 1.0821774                                                                                                                                                                                                                                                                                                                                                                                                                                                                                                                                                                                                                              | 0.013092372                                                                                                                                                                                                                                                                                                                                                                                                                                                                                                                                                                                                                            | \n",
       "| 3373 | UK BiLEVE Axiom Array by Affymetrix1, UK Biobank Axiom                                                                                                                                                                                                                                                                                                                                                                                                                                                                                                                                                                                 | Phenotypes were converted into normally-distributed quantitative or a collection of binary (TRUE/FALSE) categorical variables using Hail. Categorizations of phenotype by PHESANT algorithm:23105_0|| CONTINUOUS MAIN || CONTINUOUS || IRNT ||                                                                                                                                                                                                                                                                                                                                                                                         | UKB_NealeLab                                                                                                                                                                                                                                                                                                                                                                                                                                                                                                                                                                                                                           | Our goal here is to make these results available as quickly as possible, for any geneticist, biologist or curious citizen to explore. In sharing these results as soon as they are produced, we hope to dramatically cut down the time researchers spend in obtaining GWAS results so that they may focus on all the other components that are less standardized across studies.                                                                                                                                                                                                                                                       | 0.434901270                                                                                                                                                                                                                                                                                                                                                                                                                                                                                                                                                                                                                            |  56618                                                                                                                                                                                                                                                                                                                                                                                                                                                                                                                                                                                                                                 |                                                                                                                                                                                                                                                                                                                                                                                                                                                                                                                                                                                                                                        | 10355842                                                                                                                                                                                                                                                                                                                                                                                                                                                                                                                                                                                                                               | 2.157771                                                                                                                                                                                                                                                                                                                                                                                                                                                                                                                                                                                                                               | 1.2114763                                                                                                                                                                                                                                                                                                                                                                                                                                                                                                                                                                                                                              | 0.020156039                                                                                                                                                                                                                                                                                                                                                                                                                                                                                                                                                                                                                            | \n",
       "| 3416 | UK BiLEVE Axiom Array by Affymetrix1, UK Biobank Axiom                                                                                                                                                                                                                                                                                                                                                                                                                                                                                                                                                                                 | Phenotypes were converted into normally-distributed quantitative or a collection of binary (TRUE/FALSE) categorical variables using Hail. Categorizations of phenotype by PHESANT algorithm:924_0|| CAT-SINGLE || Inc(>=10): 3(194144) || Inc(>=10): 2(262887) || Inc(>=10): 1(40922) || ordered || CAT-ORD || order: 1|2|3 || num categories: 3 ||                                                                                                                                                                                                                                                                                    | UKB_NealeLab                                                                                                                                                                                                                                                                                                                                                                                                                                                                                                                                                                                                                           | Our goal here is to make these results available as quickly as possible, for any geneticist, biologist or curious citizen to explore. In sharing these results as soon as they are produced, we hope to dramatically cut down the time researchers spend in obtaining GWAS results so that they may focus on all the other components that are less standardized across studies.                                                                                                                                                                                                                                                       | 0.373687306                                                                                                                                                                                                                                                                                                                                                                                                                                                                                                                                                                                                                            |   1199                                                                                                                                                                                                                                                                                                                                                                                                                                                                                                                                                                                                                                 |                                                                                                                                                                                                                                                                                                                                                                                                                                                                                                                                                                                                                                        | 10355842                                                                                                                                                                                                                                                                                                                                                                                                                                                                                                                                                                                                                               | 1.427343                                                                                                                                                                                                                                                                                                                                                                                                                                                                                                                                                                                                                               | 1.0343743                                                                                                                                                                                                                                                                                                                                                                                                                                                                                                                                                                                                                              | 0.009405985                                                                                                                                                                                                                                                                                                                                                                                                                                                                                                                                                                                                                            | \n",
       "| 3514 | UK BiLEVE Axiom Array by Affymetrix1, UK Biobank Axiom                                                                                                                                                                                                                                                                                                                                                                                                                                                                                                                                                                                 | Phenotypes were converted into normally-distributed quantitative or a collection of binary (TRUE/FALSE) categorical variables using Hail. Categorizations of phenotype by PHESANT algorithm:3062_0|| CONTINUOUS MAIN || CONTINUOUS || IRNT ||                                                                                                                                                                                                                                                                                                                                                                                          | UKB_NealeLab                                                                                                                                                                                                                                                                                                                                                                                                                                                                                                                                                                                                                           | Our goal here is to make these results available as quickly as possible, for any geneticist, biologist or curious citizen to explore. In sharing these results as soon as they are produced, we hope to dramatically cut down the time researchers spend in obtaining GWAS results so that they may focus on all the other components that are less standardized across studies.                                                                                                                                                                                                                                                       | 0.605075888                                                                                                                                                                                                                                                                                                                                                                                                                                                                                                                                                                                                                            |  26538                                                                                                                                                                                                                                                                                                                                                                                                                                                                                                                                                                                                                                 |                                                                                                                                                                                                                                                                                                                                                                                                                                                                                                                                                                                                                                        | 10355842                                                                                                                                                                                                                                                                                                                                                                                                                                                                                                                                                                                                                               | 1.737251                                                                                                                                                                                                                                                                                                                                                                                                                                                                                                                                                                                                                               | 1.1321025                                                                                                                                                                                                                                                                                                                                                                                                                                                                                                                                                                                                                              | 0.013659372                                                                                                                                                                                                                                                                                                                                                                                                                                                                                                                                                                                                                            | \n",
       "| 3539 | UK BiLEVE Axiom Array by Affymetrix1, UK Biobank Axiom                                                                                                                                                                                                                                                                                                                                                                                                                                                                                                                                                                                 | Phenotypes were converted into normally-distributed quantitative or a collection of binary (TRUE/FALSE) categorical variables using Hail. Categorizations of phenotype by PHESANT algorithm:21001_0|| CONTINUOUS MAIN || CONTINUOUS || IRNT ||                                                                                                                                                                                                                                                                                                                                                                                         | UKB_NealeLab                                                                                                                                                                                                                                                                                                                                                                                                                                                                                                                                                                                                                           | Our goal here is to make these results available as quickly as possible, for any geneticist, biologist or curious citizen to explore. In sharing these results as soon as they are produced, we hope to dramatically cut down the time researchers spend in obtaining GWAS results so that they may focus on all the other components that are less standardized across studies.                                                                                                                                                                                                                                                       | 0.981796567                                                                                                                                                                                                                                                                                                                                                                                                                                                                                                                                                                                                                            |  35085                                                                                                                                                                                                                                                                                                                                                                                                                                                                                                                                                                                                                                 |                                                                                                                                                                                                                                                                                                                                                                                                                                                                                                                                                                                                                                        | 10355842                                                                                                                                                                                                                                                                                                                                                                                                                                                                                                                                                                                                                               | 2.123481                                                                                                                                                                                                                                                                                                                                                                                                                                                                                                                                                                                                                               | 1.1304307                                                                                                                                                                                                                                                                                                                                                                                                                                                                                                                                                                                                                              | 0.015958974                                                                                                                                                                                                                                                                                                                                                                                                                                                                                                                                                                                                                            | \n",
       "| 3540 | UK BiLEVE Axiom Array by Affymetrix1, UK Biobank Axiom                                                                                                                                                                                                                                                                                                                                                                                                                                                                                                                                                                                 | Phenotypes were converted into normally-distributed quantitative or a collection of binary (TRUE/FALSE) categorical variables using Hail. Categorizations of phenotype by PHESANT algorithm:21002_0|| CONTINUOUS MAIN || CONTINUOUS || IRNT ||                                                                                                                                                                                                                                                                                                                                                                                         | UKB_NealeLab                                                                                                                                                                                                                                                                                                                                                                                                                                                                                                                                                                                                                           | Our goal here is to make these results available as quickly as possible, for any geneticist, biologist or curious citizen to explore. In sharing these results as soon as they are produced, we hope to dramatically cut down the time researchers spend in obtaining GWAS results so that they may focus on all the other components that are less standardized across studies.                                                                                                                                                                                                                                                       | 0.766318866                                                                                                                                                                                                                                                                                                                                                                                                                                                                                                                                                                                                                            |  44159                                                                                                                                                                                                                                                                                                                                                                                                                                                                                                                                                                                                                                 |                                                                                                                                                                                                                                                                                                                                                                                                                                                                                                                                                                                                                                        | 10355842                                                                                                                                                                                                                                                                                                                                                                                                                                                                                                                                                                                                                               | 2.146361                                                                                                                                                                                                                                                                                                                                                                                                                                                                                                                                                                                                                               | 1.1616314                                                                                                                                                                                                                                                                                                                                                                                                                                                                                                                                                                                                                              | 0.017654066                                                                                                                                                                                                                                                                                                                                                                                                                                                                                                                                                                                                                            | \n",
       "| 3542 | UK BiLEVE Axiom Array by Affymetrix1, UK Biobank Axiom                                                                                                                                                                                                                                                                                                                                                                                                                                                                                                                                                                                 | Phenotypes were converted into normally-distributed quantitative or a collection of binary (TRUE/FALSE) categorical variables using Hail. Categorizations of phenotype by PHESANT algorithm:23099_0|| CONTINUOUS MAIN || CONTINUOUS || IRNT ||                                                                                                                                                                                                                                                                                                                                                                                         | UKB_NealeLab                                                                                                                                                                                                                                                                                                                                                                                                                                                                                                                                                                                                                           | Our goal here is to make these results available as quickly as possible, for any geneticist, biologist or curious citizen to explore. In sharing these results as soon as they are produced, we hope to dramatically cut down the time researchers spend in obtaining GWAS results so that they may focus on all the other components that are less standardized across studies.                                                                                                                                                                                                                                                       | 0.580877146                                                                                                                                                                                                                                                                                                                                                                                                                                                                                                                                                                                                                            |  24636                                                                                                                                                                                                                                                                                                                                                                                                                                                                                                                                                                                                                                 |                                                                                                                                                                                                                                                                                                                                                                                                                                                                                                                                                                                                                                        | 10355842                                                                                                                                                                                                                                                                                                                                                                                                                                                                                                                                                                                                                               | 2.009034                                                                                                                                                                                                                                                                                                                                                                                                                                                                                                                                                                                                                               | 1.1332900                                                                                                                                                                                                                                                                                                                                                                                                                                                                                                                                                                                                                              | 0.015804733                                                                                                                                                                                                                                                                                                                                                                                                                                                                                                                                                                                                                            | \n",
       "| 3547 | UK BiLEVE Axiom Array by Affymetrix1, UK Biobank Axiom                                                                                                                                                                                                                                                                                                                                                                                                                                                                                                                                                                                 | Phenotypes were converted into normally-distributed quantitative or a collection of binary (TRUE/FALSE) categorical variables using Hail. Categorizations of phenotype by PHESANT algorithm:49_0|| CONTINUOUS MAIN || CONTINUOUS || IRNT ||                                                                                                                                                                                                                                                                                                                                                                                            | UKB_NealeLab                                                                                                                                                                                                                                                                                                                                                                                                                                                                                                                                                                                                                           | Our goal here is to make these results available as quickly as possible, for any geneticist, biologist or curious citizen to explore. In sharing these results as soon as they are produced, we hope to dramatically cut down the time researchers spend in obtaining GWAS results so that they may focus on all the other components that are less standardized across studies.                                                                                                                                                                                                                                                       | 0.985040281                                                                                                                                                                                                                                                                                                                                                                                                                                                                                                                                                                                                                            |  30388                                                                                                                                                                                                                                                                                                                                                                                                                                                                                                                                                                                                                                 |                                                                                                                                                                                                                                                                                                                                                                                                                                                                                                                                                                                                                                        | 10355842                                                                                                                                                                                                                                                                                                                                                                                                                                                                                                                                                                                                                               | 1.979331                                                                                                                                                                                                                                                                                                                                                                                                                                                                                                                                                                                                                               | 1.1382925                                                                                                                                                                                                                                                                                                                                                                                                                                                                                                                                                                                                                              | 0.015608311                                                                                                                                                                                                                                                                                                                                                                                                                                                                                                                                                                                                                            | \n",
       "| 3548 | UK BiLEVE Axiom Array by Affymetrix1, UK Biobank Axiom                                                                                                                                                                                                                                                                                                                                                                                                                                                                                                                                                                                 | Phenotypes were converted into normally-distributed quantitative or a collection of binary (TRUE/FALSE) categorical variables using Hail. Categorizations of phenotype by PHESANT algorithm:50_0|| CONTINUOUS MAIN || CONTINUOUS || IRNT ||                                                                                                                                                                                                                                                                                                                                                                                            | UKB_NealeLab                                                                                                                                                                                                                                                                                                                                                                                                                                                                                                                                                                                                                           | Our goal here is to make these results available as quickly as possible, for any geneticist, biologist or curious citizen to explore. In sharing these results as soon as they are produced, we hope to dramatically cut down the time researchers spend in obtaining GWAS results so that they may focus on all the other components that are less standardized across studies.                                                                                                                                                                                                                                                       | 0.507243713                                                                                                                                                                                                                                                                                                                                                                                                                                                                                                                                                                                                                            | 144714                                                                                                                                                                                                                                                                                                                                                                                                                                                                                                                                                                                                                                 |                                                                                                                                                                                                                                                                                                                                                                                                                                                                                                                                                                                                                                        | 10355842                                                                                                                                                                                                                                                                                                                                                                                                                                                                                                                                                                                                                               | 2.393754                                                                                                                                                                                                                                                                                                                                                                                                                                                                                                                                                                                                                               | 1.4276371                                                                                                                                                                                                                                                                                                                                                                                                                                                                                                                                                                                                                              | 0.034569865                                                                                                                                                                                                                                                                                                                                                                                                                                                                                                                                                                                                                            | \n",
       "| 3725 | UK BiLEVE Axiom Array by Affymetrix1, UK Biobank Axiom                                                                                                                                                                                                                                                                                                                                                                                                                                                                                                                                                                                 | Phenotypes were converted into normally-distributed quantitative or a collection of binary (TRUE/FALSE) categorical variables using Hail. Categorizations of phenotype by PHESANT algorithm:1558_0|| CAT-SINGLE || Inc(>=10): 1(101791) || Inc(>=10): 5(58029) || Inc(>=10): 3(129322) || Inc(>=10): 6(40661) || Inc(>=10): 2(115462) || Inc(>=10): 4(55874) || ordered || CAT-ORD || order: 1|2|3|4|5|6 || num categories: 6 ||                                                                                                                                                                                                       | UKB_NealeLab                                                                                                                                                                                                                                                                                                                                                                                                                                                                                                                                                                                                                           | Our goal here is to make these results available as quickly as possible, for any geneticist, biologist or curious citizen to explore. In sharing these results as soon as they are produced, we hope to dramatically cut down the time researchers spend in obtaining GWAS results so that they may focus on all the other components that are less standardized across studies.                                                                                                                                                                                                                                                       | 2.151962725                                                                                                                                                                                                                                                                                                                                                                                                                                                                                                                                                                                                                            |   5608                                                                                                                                                                                                                                                                                                                                                                                                                                                                                                                                                                                                                                 |                                                                                                                                                                                                                                                                                                                                                                                                                                                                                                                                                                                                                                        | 10355842                                                                                                                                                                                                                                                                                                                                                                                                                                                                                                                                                                                                                               | 1.467859                                                                                                                                                                                                                                                                                                                                                                                                                                                                                                                                                                                                                               | 1.0555425                                                                                                                                                                                                                                                                                                                                                                                                                                                                                                                                                                                                                              | 0.010358157                                                                                                                                                                                                                                                                                                                                                                                                                                                                                                                                                                                                                            | \n",
       "| 3762 | UK BiLEVE Axiom Array by Affymetrix1, UK Biobank Axiom                                                                                                                                                                                                                                                                                                                                                                                                                                                                                                                                                                                 | Not transformed                                                                                                                                                                                                                                                                                                                                                                                                                                                                                                                                                                                                                        | UKB_GenAtlas                                                                                                                                                                                                                                                                                                                                                                                                                                                                                                                                                                                                                           | Open                                                                                                                                                                                                                                                                                                                                                                                                                                                                                                                                                                                                                                   | 0.804416448                                                                                                                                                                                                                                                                                                                                                                                                                                                                                                                                                                                                                            |  55599                                                                                                                                                                                                                                                                                                                                                                                                                                                                                                                                                                                                                                 | 2018-03-01                                                                                                                                                                                                                                                                                                                                                                                                                                                                                                                                                                                                                             | 10331889                                                                                                                                                                                                                                                                                                                                                                                                                                                                                                                                                                                                                               | 1.635842                                                                                                                                                                                                                                                                                                                                                                                                                                                                                                                                                                                                                               | 1.2099757                                                                                                                                                                                                                                                                                                                                                                                                                                                                                                                                                                                                                              | 0.019928234                                                                                                                                                                                                                                                                                                                                                                                                                                                                                                                                                                                                                            | \n",
       "| 3763 | UK BiLEVE Axiom Array by Affymetrix1, UK Biobank Axiom                                                                                                                                                                                                                                                                                                                                                                                                                                                                                                                                                                                 | Not transformed                                                                                                                                                                                                                                                                                                                                                                                                                                                                                                                                                                                                                        | UKB_GenAtlas                                                                                                                                                                                                                                                                                                                                                                                                                                                                                                                                                                                                                           | Open                                                                                                                                                                                                                                                                                                                                                                                                                                                                                                                                                                                                                                   | 6.961698593                                                                                                                                                                                                                                                                                                                                                                                                                                                                                                                                                                                                                            |  49762                                                                                                                                                                                                                                                                                                                                                                                                                                                                                                                                                                                                                                 | 2018-03-01                                                                                                                                                                                                                                                                                                                                                                                                                                                                                                                                                                                                                             | 10331903                                                                                                                                                                                                                                                                                                                                                                                                                                                                                                                                                                                                                               | 1.615280                                                                                                                                                                                                                                                                                                                                                                                                                                                                                                                                                                                                                               | 1.2054739                                                                                                                                                                                                                                                                                                                                                                                                                                                                                                                                                                                                                              | 0.019168538                                                                                                                                                                                                                                                                                                                                                                                                                                                                                                                                                                                                                            | \n",
       "| 3781 | UK BiLEVE Axiom Array by Affymetrix1, UK Biobank Axiom                                                                                                                                                                                                                                                                                                                                                                                                                                                                                                                                                                                 | Not transformed                                                                                                                                                                                                                                                                                                                                                                                                                                                                                                                                                                                                                        | UKB_GenAtlas                                                                                                                                                                                                                                                                                                                                                                                                                                                                                                                                                                                                                           | Open                                                                                                                                                                                                                                                                                                                                                                                                                                                                                                                                                                                                                                   | 0.001691163                                                                                                                                                                                                                                                                                                                                                                                                                                                                                                                                                                                                                            |  71888                                                                                                                                                                                                                                                                                                                                                                                                                                                                                                                                                                                                                                 | 2018-03-01                                                                                                                                                                                                                                                                                                                                                                                                                                                                                                                                                                                                                             | 10331830                                                                                                                                                                                                                                                                                                                                                                                                                                                                                                                                                                                                                               | 1.718165                                                                                                                                                                                                                                                                                                                                                                                                                                                                                                                                                                                                                               | 1.2627203                                                                                                                                                                                                                                                                                                                                                                                                                                                                                                                                                                                                                              | 0.022159941                                                                                                                                                                                                                                                                                                                                                                                                                                                                                                                                                                                                                            | \n",
       "| 3782 | UK BiLEVE Axiom Array by Affymetrix1, UK Biobank Axiom                                                                                                                                                                                                                                                                                                                                                                                                                                                                                                                                                                                 | Not transformed                                                                                                                                                                                                                                                                                                                                                                                                                                                                                                                                                                                                                        | UKB_GenAtlas                                                                                                                                                                                                                                                                                                                                                                                                                                                                                                                                                                                                                           | Open                                                                                                                                                                                                                                                                                                                                                                                                                                                                                                                                                                                                                                   | 0.208704182                                                                                                                                                                                                                                                                                                                                                                                                                                                                                                                                                                                                                            |  76593                                                                                                                                                                                                                                                                                                                                                                                                                                                                                                                                                                                                                                 | 2018-03-01                                                                                                                                                                                                                                                                                                                                                                                                                                                                                                                                                                                                                             | 10331426                                                                                                                                                                                                                                                                                                                                                                                                                                                                                                                                                                                                                               | 1.504444                                                                                                                                                                                                                                                                                                                                                                                                                                                                                                                                                                                                                               | 1.2121527                                                                                                                                                                                                                                                                                                                                                                                                                                                                                                                                                                                                                              | 0.020639522                                                                                                                                                                                                                                                                                                                                                                                                                                                                                                                                                                                                                            | \n",
       "| 3784 | UK BiLEVE Axiom Array by Affymetrix1, UK Biobank Axiom                                                                                                                                                                                                                                                                                                                                                                                                                                                                                                                                                                                 | Not transformed                                                                                                                                                                                                                                                                                                                                                                                                                                                                                                                                                                                                                        | UKB_GenAtlas                                                                                                                                                                                                                                                                                                                                                                                                                                                                                                                                                                                                                           | Open                                                                                                                                                                                                                                                                                                                                                                                                                                                                                                                                                                                                                                   | 0.098145053                                                                                                                                                                                                                                                                                                                                                                                                                                                                                                                                                                                                                            |  67878                                                                                                                                                                                                                                                                                                                                                                                                                                                                                                                                                                                                                                 | 2018-03-01                                                                                                                                                                                                                                                                                                                                                                                                                                                                                                                                                                                                                             | 10331815                                                                                                                                                                                                                                                                                                                                                                                                                                                                                                                                                                                                                               | 1.775344                                                                                                                                                                                                                                                                                                                                                                                                                                                                                                                                                                                                                               | 1.2638624                                                                                                                                                                                                                                                                                                                                                                                                                                                                                                                                                                                                                              | 0.024217585                                                                                                                                                                                                                                                                                                                                                                                                                                                                                                                                                                                                                            | \n",
       "\n",
       "\n"
      ],
      "text/plain": [
       "     gwas_array                                            \n",
       "841  UK BiLEVE Axiom Array by Affymetrix1, UK Biobank Axiom\n",
       "1149 UK BiLEVE Axiom Array by Affymetrix1, UK Biobank Axiom\n",
       "1849 Affymetrix Axiom Array                                \n",
       "2127 Affymetrix Axiom Array                                \n",
       "3275 UK BiLEVE Axiom Array by Affymetrix1, UK Biobank Axiom\n",
       "3305 UK BiLEVE Axiom Array by Affymetrix1, UK Biobank Axiom\n",
       "3324 UK BiLEVE Axiom Array by Affymetrix1, UK Biobank Axiom\n",
       "3373 UK BiLEVE Axiom Array by Affymetrix1, UK Biobank Axiom\n",
       "3416 UK BiLEVE Axiom Array by Affymetrix1, UK Biobank Axiom\n",
       "3514 UK BiLEVE Axiom Array by Affymetrix1, UK Biobank Axiom\n",
       "3539 UK BiLEVE Axiom Array by Affymetrix1, UK Biobank Axiom\n",
       "3540 UK BiLEVE Axiom Array by Affymetrix1, UK Biobank Axiom\n",
       "3542 UK BiLEVE Axiom Array by Affymetrix1, UK Biobank Axiom\n",
       "3547 UK BiLEVE Axiom Array by Affymetrix1, UK Biobank Axiom\n",
       "3548 UK BiLEVE Axiom Array by Affymetrix1, UK Biobank Axiom\n",
       "3725 UK BiLEVE Axiom Array by Affymetrix1, UK Biobank Axiom\n",
       "3762 UK BiLEVE Axiom Array by Affymetrix1, UK Biobank Axiom\n",
       "3763 UK BiLEVE Axiom Array by Affymetrix1, UK Biobank Axiom\n",
       "3781 UK BiLEVE Axiom Array by Affymetrix1, UK Biobank Axiom\n",
       "3782 UK BiLEVE Axiom Array by Affymetrix1, UK Biobank Axiom\n",
       "3784 UK BiLEVE Axiom Array by Affymetrix1, UK Biobank Axiom\n",
       "     trait_transformations                                                                                                                                                                                                                                                                                                                                                                                                                                                                                                                                                                                                                 \n",
       "841  Phenotypes were converted into normally-distributed quantitative or a collection of binary (TRUE/FALSE) categorical variables using Hail. Categorizations of phenotype by PHESANT algorithm:Self-reported:0 || CAT-MUL-BINARY-VAR 1465 || Indicator name x135_0_0 || Remove indicator var NAs: 862 || Remove indicator var <0: 0 || Removed 0 examples != 1465 but with missing value (<0) || sample 461062/40718(501780) ||                                                                                                                                                                                                          \n",
       "1149 Phenotypes were converted into normally-distributed quantitative or a collection of binary (TRUE/FALSE) categorical variables using Hail. Categorizations of phenotype by PHESANT algorithm:6138_0 || CAT-MUL-BINARY-VAR 1 || NO_NAN Remove NA participants 4647 || Removed 5495 examples != 1 but with missing value (<0) || sample 331289/161211(492500) ||                                                                                                                                                                                                                                                                         \n",
       "1849 inverse-normalisation                                                                                                                                                                                                                                                                                                                                                                                                                                                                                                                                                                                                                 \n",
       "2127 inverse-normalisation                                                                                                                                                                                                                                                                                                                                                                                                                                                                                                                                                                                                                 \n",
       "3275 Phenotypes were converted into normally-distributed quantitative or a collection of binary (TRUE/FALSE) categorical variables using Hail. Categorizations of phenotype by PHESANT algorithm:1070_0|| INTEGER || reassignments: -1=NA|-3=NA|-10=NA || CONTINUOUS || >20% IN ONE CATEGORY || Split into three bins: 0: <2, 1: [2,3), 2: >=3 ||cat N: 78577, 132779, 262480 || CAT-ORD || order: 0|1|2 || num categories: 3 ||                                                                                                                                                                                                           \n",
       "3305 Phenotypes were converted into normally-distributed quantitative or a collection of binary (TRUE/FALSE) categorical variables using Hail. Categorizations of phenotype by PHESANT algorithm:20016_0|| INTEGER || Inc(>=10): 5(27849) || Inc(>=10): 2(5781) || Inc(>=10): 3(12996) || Inc(>=10): 4(22453) || Inc(>=10): 9(8780) || Inc(>=10): 6(27395) || Inc(>=10): 10(5908) || Inc(>=10): 7(26815) || Inc(>=10): 8(21940) || Inc(>=10): 1(1602) || Inc(>=10): 11(2582) || Inc(>=10): 12(1009) || Inc(>=10): 13(160) || Inc(>=10): 0(221) || 3-20 values || CAT-ORD || order: 0|1|2|3|4|5|6|7|8|9|10|11|12|13 || num categories: 14 ||\n",
       "3324 Phenotypes were converted into normally-distributed quantitative or a collection of binary (TRUE/FALSE) categorical variables using Hail. Categorizations of phenotype by PHESANT algorithm:4079_0|| INTEGER || CONTINUOUS || IRNT ||                                                                                                                                                                                                                                                                                                                                                                                                 \n",
       "3373 Phenotypes were converted into normally-distributed quantitative or a collection of binary (TRUE/FALSE) categorical variables using Hail. Categorizations of phenotype by PHESANT algorithm:23105_0|| CONTINUOUS MAIN || CONTINUOUS || IRNT ||                                                                                                                                                                                                                                                                                                                                                                                        \n",
       "3416 Phenotypes were converted into normally-distributed quantitative or a collection of binary (TRUE/FALSE) categorical variables using Hail. Categorizations of phenotype by PHESANT algorithm:924_0|| CAT-SINGLE || Inc(>=10): 3(194144) || Inc(>=10): 2(262887) || Inc(>=10): 1(40922) || ordered || CAT-ORD || order: 1|2|3 || num categories: 3 ||                                                                                                                                                                                                                                                                                   \n",
       "3514 Phenotypes were converted into normally-distributed quantitative or a collection of binary (TRUE/FALSE) categorical variables using Hail. Categorizations of phenotype by PHESANT algorithm:3062_0|| CONTINUOUS MAIN || CONTINUOUS || IRNT ||                                                                                                                                                                                                                                                                                                                                                                                         \n",
       "3539 Phenotypes were converted into normally-distributed quantitative or a collection of binary (TRUE/FALSE) categorical variables using Hail. Categorizations of phenotype by PHESANT algorithm:21001_0|| CONTINUOUS MAIN || CONTINUOUS || IRNT ||                                                                                                                                                                                                                                                                                                                                                                                        \n",
       "3540 Phenotypes were converted into normally-distributed quantitative or a collection of binary (TRUE/FALSE) categorical variables using Hail. Categorizations of phenotype by PHESANT algorithm:21002_0|| CONTINUOUS MAIN || CONTINUOUS || IRNT ||                                                                                                                                                                                                                                                                                                                                                                                        \n",
       "3542 Phenotypes were converted into normally-distributed quantitative or a collection of binary (TRUE/FALSE) categorical variables using Hail. Categorizations of phenotype by PHESANT algorithm:23099_0|| CONTINUOUS MAIN || CONTINUOUS || IRNT ||                                                                                                                                                                                                                                                                                                                                                                                        \n",
       "3547 Phenotypes were converted into normally-distributed quantitative or a collection of binary (TRUE/FALSE) categorical variables using Hail. Categorizations of phenotype by PHESANT algorithm:49_0|| CONTINUOUS MAIN || CONTINUOUS || IRNT ||                                                                                                                                                                                                                                                                                                                                                                                           \n",
       "3548 Phenotypes were converted into normally-distributed quantitative or a collection of binary (TRUE/FALSE) categorical variables using Hail. Categorizations of phenotype by PHESANT algorithm:50_0|| CONTINUOUS MAIN || CONTINUOUS || IRNT ||                                                                                                                                                                                                                                                                                                                                                                                           \n",
       "3725 Phenotypes were converted into normally-distributed quantitative or a collection of binary (TRUE/FALSE) categorical variables using Hail. Categorizations of phenotype by PHESANT algorithm:1558_0|| CAT-SINGLE || Inc(>=10): 1(101791) || Inc(>=10): 5(58029) || Inc(>=10): 3(129322) || Inc(>=10): 6(40661) || Inc(>=10): 2(115462) || Inc(>=10): 4(55874) || ordered || CAT-ORD || order: 1|2|3|4|5|6 || num categories: 6 ||                                                                                                                                                                                                      \n",
       "3762 Not transformed                                                                                                                                                                                                                                                                                                                                                                                                                                                                                                                                                                                                                       \n",
       "3763 Not transformed                                                                                                                                                                                                                                                                                                                                                                                                                                                                                                                                                                                                                       \n",
       "3781 Not transformed                                                                                                                                                                                                                                                                                                                                                                                                                                                                                                                                                                                                                       \n",
       "3782 Not transformed                                                                                                                                                                                                                                                                                                                                                                                                                                                                                                                                                                                                                       \n",
       "3784 Not transformed                                                                                                                                                                                                                                                                                                                                                                                                                                                                                                                                                                                                                       \n",
       "     collection    \n",
       "841  UKB_NealeLab  \n",
       "1149 UKB_NealeLab  \n",
       "1849 SomaLogic_2017\n",
       "2127 SomaLogic_2017\n",
       "3275 UKB_NealeLab  \n",
       "3305 UKB_NealeLab  \n",
       "3324 UKB_NealeLab  \n",
       "3373 UKB_NealeLab  \n",
       "3416 UKB_NealeLab  \n",
       "3514 UKB_NealeLab  \n",
       "3539 UKB_NealeLab  \n",
       "3540 UKB_NealeLab  \n",
       "3542 UKB_NealeLab  \n",
       "3547 UKB_NealeLab  \n",
       "3548 UKB_NealeLab  \n",
       "3725 UKB_NealeLab  \n",
       "3762 UKB_GenAtlas  \n",
       "3763 UKB_GenAtlas  \n",
       "3781 UKB_GenAtlas  \n",
       "3782 UKB_GenAtlas  \n",
       "3784 UKB_GenAtlas  \n",
       "     use_terms                                                                                                                                                                                                                                                                                                                                                                                                                                                                                \n",
       "841  Our goal here is to make these results available as quickly as possible, for any geneticist, biologist or curious citizen to explore. In sharing these results as soon as they are produced, we hope to dramatically cut down the time researchers spend in obtaining GWAS results so that they may focus on all the other components that are less standardized across studies.                                                                                                         \n",
       "1149 Our goal here is to make these results available as quickly as possible, for any geneticist, biologist or curious citizen to explore. In sharing these results as soon as they are produced, we hope to dramatically cut down the time researchers spend in obtaining GWAS results so that they may focus on all the other components that are less standardized across studies.                                                                                                         \n",
       "1849 All summary statistics and association data are freely available, accessible online on an integrated web-server at http://proteomics.gwas.eu. The informed consent given by the study participants does not cover posting of participant level phenotype and genotype data in public databases. However, data for KORA are available upon request from KORA-gen (http://epi.helmholtz-muenchen.de/kora-gen). Requests are submitted online and are subject to approval by the KORA board.\n",
       "2127 All summary statistics and association data are freely available, accessible online on an integrated web-server at http://proteomics.gwas.eu. The informed consent given by the study participants does not cover posting of participant level phenotype and genotype data in public databases. However, data for KORA are available upon request from KORA-gen (http://epi.helmholtz-muenchen.de/kora-gen). Requests are submitted online and are subject to approval by the KORA board.\n",
       "3275 Our goal here is to make these results available as quickly as possible, for any geneticist, biologist or curious citizen to explore. In sharing these results as soon as they are produced, we hope to dramatically cut down the time researchers spend in obtaining GWAS results so that they may focus on all the other components that are less standardized across studies.                                                                                                         \n",
       "3305 Our goal here is to make these results available as quickly as possible, for any geneticist, biologist or curious citizen to explore. In sharing these results as soon as they are produced, we hope to dramatically cut down the time researchers spend in obtaining GWAS results so that they may focus on all the other components that are less standardized across studies.                                                                                                         \n",
       "3324 Our goal here is to make these results available as quickly as possible, for any geneticist, biologist or curious citizen to explore. In sharing these results as soon as they are produced, we hope to dramatically cut down the time researchers spend in obtaining GWAS results so that they may focus on all the other components that are less standardized across studies.                                                                                                         \n",
       "3373 Our goal here is to make these results available as quickly as possible, for any geneticist, biologist or curious citizen to explore. In sharing these results as soon as they are produced, we hope to dramatically cut down the time researchers spend in obtaining GWAS results so that they may focus on all the other components that are less standardized across studies.                                                                                                         \n",
       "3416 Our goal here is to make these results available as quickly as possible, for any geneticist, biologist or curious citizen to explore. In sharing these results as soon as they are produced, we hope to dramatically cut down the time researchers spend in obtaining GWAS results so that they may focus on all the other components that are less standardized across studies.                                                                                                         \n",
       "3514 Our goal here is to make these results available as quickly as possible, for any geneticist, biologist or curious citizen to explore. In sharing these results as soon as they are produced, we hope to dramatically cut down the time researchers spend in obtaining GWAS results so that they may focus on all the other components that are less standardized across studies.                                                                                                         \n",
       "3539 Our goal here is to make these results available as quickly as possible, for any geneticist, biologist or curious citizen to explore. In sharing these results as soon as they are produced, we hope to dramatically cut down the time researchers spend in obtaining GWAS results so that they may focus on all the other components that are less standardized across studies.                                                                                                         \n",
       "3540 Our goal here is to make these results available as quickly as possible, for any geneticist, biologist or curious citizen to explore. In sharing these results as soon as they are produced, we hope to dramatically cut down the time researchers spend in obtaining GWAS results so that they may focus on all the other components that are less standardized across studies.                                                                                                         \n",
       "3542 Our goal here is to make these results available as quickly as possible, for any geneticist, biologist or curious citizen to explore. In sharing these results as soon as they are produced, we hope to dramatically cut down the time researchers spend in obtaining GWAS results so that they may focus on all the other components that are less standardized across studies.                                                                                                         \n",
       "3547 Our goal here is to make these results available as quickly as possible, for any geneticist, biologist or curious citizen to explore. In sharing these results as soon as they are produced, we hope to dramatically cut down the time researchers spend in obtaining GWAS results so that they may focus on all the other components that are less standardized across studies.                                                                                                         \n",
       "3548 Our goal here is to make these results available as quickly as possible, for any geneticist, biologist or curious citizen to explore. In sharing these results as soon as they are produced, we hope to dramatically cut down the time researchers spend in obtaining GWAS results so that they may focus on all the other components that are less standardized across studies.                                                                                                         \n",
       "3725 Our goal here is to make these results available as quickly as possible, for any geneticist, biologist or curious citizen to explore. In sharing these results as soon as they are produced, we hope to dramatically cut down the time researchers spend in obtaining GWAS results so that they may focus on all the other components that are less standardized across studies.                                                                                                         \n",
       "3762 Open                                                                                                                                                                                                                                                                                                                                                                                                                                                                                     \n",
       "3763 Open                                                                                                                                                                                                                                                                                                                                                                                                                                                                                     \n",
       "3781 Open                                                                                                                                                                                                                                                                                                                                                                                                                                                                                     \n",
       "3782 Open                                                                                                                                                                                                                                                                                                                                                                                                                                                                                     \n",
       "3784 Open                                                                                                                                                                                                                                                                                                                                                                                                                                                                                     \n",
       "     trait_variance n_of_significant_p_value date       unified_snps_count\n",
       "841  0.077452716        47                              10355842          \n",
       "1149 0.219221563     15015                              10355842          \n",
       "1849 1.000000000        22                                499698          \n",
       "2127 1.000000000        29                                499698          \n",
       "3275 0.565118485      2972                              10355842          \n",
       "3305 4.459098149      2776                              10355842          \n",
       "3324 0.973953058     16683                              10355842          \n",
       "3373 0.434901270     56618                              10355842          \n",
       "3416 0.373687306      1199                              10355842          \n",
       "3514 0.605075888     26538                              10355842          \n",
       "3539 0.981796567     35085                              10355842          \n",
       "3540 0.766318866     44159                              10355842          \n",
       "3542 0.580877146     24636                              10355842          \n",
       "3547 0.985040281     30388                              10355842          \n",
       "3548 0.507243713    144714                              10355842          \n",
       "3725 2.151962725      5608                              10355842          \n",
       "3762 0.804416448     55599                   2018-03-01 10331889          \n",
       "3763 6.961698593     49762                   2018-03-01 10331903          \n",
       "3781 0.001691163     71888                   2018-03-01 10331830          \n",
       "3782 0.208704182     76593                   2018-03-01 10331426          \n",
       "3784 0.098145053     67878                   2018-03-01 10331815          \n",
       "     ldsc_lambda_gc ldsc_intercept ldsc_intercept_se\n",
       "841  1.140029       1.0274368      0.007393273      \n",
       "1149 1.907786       1.1458310      0.012001969      \n",
       "1849 1.007097       1.0068542      0.007677050      \n",
       "2127 1.001014       0.9984518      0.008536100      \n",
       "3275 1.546602       1.0636748      0.009980583      \n",
       "3305 1.446840       1.0505091      0.009589388      \n",
       "3324 1.622957       1.0821774      0.013092372      \n",
       "3373 2.157771       1.2114763      0.020156039      \n",
       "3416 1.427343       1.0343743      0.009405985      \n",
       "3514 1.737251       1.1321025      0.013659372      \n",
       "3539 2.123481       1.1304307      0.015958974      \n",
       "3540 2.146361       1.1616314      0.017654066      \n",
       "3542 2.009034       1.1332900      0.015804733      \n",
       "3547 1.979331       1.1382925      0.015608311      \n",
       "3548 2.393754       1.4276371      0.034569865      \n",
       "3725 1.467859       1.0555425      0.010358157      \n",
       "3762 1.635842       1.2099757      0.019928234      \n",
       "3763 1.615280       1.2054739      0.019168538      \n",
       "3781 1.718165       1.2627203      0.022159941      \n",
       "3782 1.504444       1.2121527      0.020639522      \n",
       "3784 1.775344       1.2638624      0.024217585      "
      ]
     },
     "metadata": {},
     "output_type": "display_data"
    }
   ],
   "source": [
    "desc[ind,30:40]"
   ]
  },
  {
   "cell_type": "code",
   "execution_count": null,
   "metadata": {
    "collapsed": true
   },
   "outputs": [],
   "source": []
  }
 ],
 "metadata": {
  "anaconda-cloud": {},
  "kernelspec": {
   "display_name": "R",
   "language": "R",
   "name": "ir"
  },
  "language_info": {
   "codemirror_mode": "r",
   "file_extension": ".r",
   "mimetype": "text/x-r-source",
   "name": "R",
   "pygments_lexer": "r",
   "version": "3.6.1"
  }
 },
 "nbformat": 4,
 "nbformat_minor": 2
}
