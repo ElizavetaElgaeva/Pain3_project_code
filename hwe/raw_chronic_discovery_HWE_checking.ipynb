{
 "cells": [
  {
   "cell_type": "code",
   "execution_count": 1,
   "metadata": {
    "collapsed": false
   },
   "outputs": [
    {
     "data": {
      "text/html": [
       "<ol class=list-inline>\n",
       "\t<li>'all_hwe.txt'</li>\n",
       "\t<li>'HWE_checking.ipynb'</li>\n",
       "\t<li>'HWE_disc.o4277843'</li>\n",
       "\t<li>'mv_disc.chron_chr1.hardy'</li>\n",
       "\t<li>'mv_disc.chron_chr1.log'</li>\n",
       "\t<li>'mv_disc.chron_chr10.hardy'</li>\n",
       "\t<li>'mv_disc.chron_chr10.log'</li>\n",
       "\t<li>'mv_disc.chron_chr11.hardy'</li>\n",
       "\t<li>'mv_disc.chron_chr11.log'</li>\n",
       "\t<li>'mv_disc.chron_chr12.hardy'</li>\n",
       "\t<li>'mv_disc.chron_chr12.log'</li>\n",
       "\t<li>'mv_disc.chron_chr13.hardy'</li>\n",
       "\t<li>'mv_disc.chron_chr13.log'</li>\n",
       "\t<li>'mv_disc.chron_chr14.hardy'</li>\n",
       "\t<li>'mv_disc.chron_chr14.log'</li>\n",
       "\t<li>'mv_disc.chron_chr15.hardy'</li>\n",
       "\t<li>'mv_disc.chron_chr15.log'</li>\n",
       "\t<li>'mv_disc.chron_chr16.hardy'</li>\n",
       "\t<li>'mv_disc.chron_chr16.log'</li>\n",
       "\t<li>'mv_disc.chron_chr17.hardy'</li>\n",
       "\t<li>'mv_disc.chron_chr17.log'</li>\n",
       "\t<li>'mv_disc.chron_chr18.hardy'</li>\n",
       "\t<li>'mv_disc.chron_chr18.log'</li>\n",
       "\t<li>'mv_disc.chron_chr19.hardy'</li>\n",
       "\t<li>'mv_disc.chron_chr19.log'</li>\n",
       "\t<li>'mv_disc.chron_chr2.hardy'</li>\n",
       "\t<li>'mv_disc.chron_chr2.log'</li>\n",
       "\t<li>'mv_disc.chron_chr20.hardy'</li>\n",
       "\t<li>'mv_disc.chron_chr20.log'</li>\n",
       "\t<li>'mv_disc.chron_chr21.hardy'</li>\n",
       "\t<li>'mv_disc.chron_chr21.log'</li>\n",
       "\t<li>'mv_disc.chron_chr22.hardy'</li>\n",
       "\t<li>'mv_disc.chron_chr22.log'</li>\n",
       "\t<li>'mv_disc.chron_chr3.hardy'</li>\n",
       "\t<li>'mv_disc.chron_chr3.log'</li>\n",
       "\t<li>'mv_disc.chron_chr4.hardy'</li>\n",
       "\t<li>'mv_disc.chron_chr4.log'</li>\n",
       "\t<li>'mv_disc.chron_chr5.hardy'</li>\n",
       "\t<li>'mv_disc.chron_chr5.log'</li>\n",
       "\t<li>'mv_disc.chron_chr6.hardy'</li>\n",
       "\t<li>'mv_disc.chron_chr6.log'</li>\n",
       "\t<li>'mv_disc.chron_chr7.hardy'</li>\n",
       "\t<li>'mv_disc.chron_chr7.log'</li>\n",
       "\t<li>'mv_disc.chron_chr8.hardy'</li>\n",
       "\t<li>'mv_disc.chron_chr8.log'</li>\n",
       "\t<li>'mv_disc.chron_chr9.hardy'</li>\n",
       "\t<li>'mv_disc.chron_chr9.log'</li>\n",
       "</ol>\n"
      ],
      "text/latex": [
       "\\begin{enumerate*}\n",
       "\\item 'all\\_hwe.txt'\n",
       "\\item 'HWE\\_checking.ipynb'\n",
       "\\item 'HWE\\_disc.o4277843'\n",
       "\\item 'mv\\_disc.chron\\_chr1.hardy'\n",
       "\\item 'mv\\_disc.chron\\_chr1.log'\n",
       "\\item 'mv\\_disc.chron\\_chr10.hardy'\n",
       "\\item 'mv\\_disc.chron\\_chr10.log'\n",
       "\\item 'mv\\_disc.chron\\_chr11.hardy'\n",
       "\\item 'mv\\_disc.chron\\_chr11.log'\n",
       "\\item 'mv\\_disc.chron\\_chr12.hardy'\n",
       "\\item 'mv\\_disc.chron\\_chr12.log'\n",
       "\\item 'mv\\_disc.chron\\_chr13.hardy'\n",
       "\\item 'mv\\_disc.chron\\_chr13.log'\n",
       "\\item 'mv\\_disc.chron\\_chr14.hardy'\n",
       "\\item 'mv\\_disc.chron\\_chr14.log'\n",
       "\\item 'mv\\_disc.chron\\_chr15.hardy'\n",
       "\\item 'mv\\_disc.chron\\_chr15.log'\n",
       "\\item 'mv\\_disc.chron\\_chr16.hardy'\n",
       "\\item 'mv\\_disc.chron\\_chr16.log'\n",
       "\\item 'mv\\_disc.chron\\_chr17.hardy'\n",
       "\\item 'mv\\_disc.chron\\_chr17.log'\n",
       "\\item 'mv\\_disc.chron\\_chr18.hardy'\n",
       "\\item 'mv\\_disc.chron\\_chr18.log'\n",
       "\\item 'mv\\_disc.chron\\_chr19.hardy'\n",
       "\\item 'mv\\_disc.chron\\_chr19.log'\n",
       "\\item 'mv\\_disc.chron\\_chr2.hardy'\n",
       "\\item 'mv\\_disc.chron\\_chr2.log'\n",
       "\\item 'mv\\_disc.chron\\_chr20.hardy'\n",
       "\\item 'mv\\_disc.chron\\_chr20.log'\n",
       "\\item 'mv\\_disc.chron\\_chr21.hardy'\n",
       "\\item 'mv\\_disc.chron\\_chr21.log'\n",
       "\\item 'mv\\_disc.chron\\_chr22.hardy'\n",
       "\\item 'mv\\_disc.chron\\_chr22.log'\n",
       "\\item 'mv\\_disc.chron\\_chr3.hardy'\n",
       "\\item 'mv\\_disc.chron\\_chr3.log'\n",
       "\\item 'mv\\_disc.chron\\_chr4.hardy'\n",
       "\\item 'mv\\_disc.chron\\_chr4.log'\n",
       "\\item 'mv\\_disc.chron\\_chr5.hardy'\n",
       "\\item 'mv\\_disc.chron\\_chr5.log'\n",
       "\\item 'mv\\_disc.chron\\_chr6.hardy'\n",
       "\\item 'mv\\_disc.chron\\_chr6.log'\n",
       "\\item 'mv\\_disc.chron\\_chr7.hardy'\n",
       "\\item 'mv\\_disc.chron\\_chr7.log'\n",
       "\\item 'mv\\_disc.chron\\_chr8.hardy'\n",
       "\\item 'mv\\_disc.chron\\_chr8.log'\n",
       "\\item 'mv\\_disc.chron\\_chr9.hardy'\n",
       "\\item 'mv\\_disc.chron\\_chr9.log'\n",
       "\\end{enumerate*}\n"
      ],
      "text/markdown": [
       "1. 'all_hwe.txt'\n",
       "2. 'HWE_checking.ipynb'\n",
       "3. 'HWE_disc.o4277843'\n",
       "4. 'mv_disc.chron_chr1.hardy'\n",
       "5. 'mv_disc.chron_chr1.log'\n",
       "6. 'mv_disc.chron_chr10.hardy'\n",
       "7. 'mv_disc.chron_chr10.log'\n",
       "8. 'mv_disc.chron_chr11.hardy'\n",
       "9. 'mv_disc.chron_chr11.log'\n",
       "10. 'mv_disc.chron_chr12.hardy'\n",
       "11. 'mv_disc.chron_chr12.log'\n",
       "12. 'mv_disc.chron_chr13.hardy'\n",
       "13. 'mv_disc.chron_chr13.log'\n",
       "14. 'mv_disc.chron_chr14.hardy'\n",
       "15. 'mv_disc.chron_chr14.log'\n",
       "16. 'mv_disc.chron_chr15.hardy'\n",
       "17. 'mv_disc.chron_chr15.log'\n",
       "18. 'mv_disc.chron_chr16.hardy'\n",
       "19. 'mv_disc.chron_chr16.log'\n",
       "20. 'mv_disc.chron_chr17.hardy'\n",
       "21. 'mv_disc.chron_chr17.log'\n",
       "22. 'mv_disc.chron_chr18.hardy'\n",
       "23. 'mv_disc.chron_chr18.log'\n",
       "24. 'mv_disc.chron_chr19.hardy'\n",
       "25. 'mv_disc.chron_chr19.log'\n",
       "26. 'mv_disc.chron_chr2.hardy'\n",
       "27. 'mv_disc.chron_chr2.log'\n",
       "28. 'mv_disc.chron_chr20.hardy'\n",
       "29. 'mv_disc.chron_chr20.log'\n",
       "30. 'mv_disc.chron_chr21.hardy'\n",
       "31. 'mv_disc.chron_chr21.log'\n",
       "32. 'mv_disc.chron_chr22.hardy'\n",
       "33. 'mv_disc.chron_chr22.log'\n",
       "34. 'mv_disc.chron_chr3.hardy'\n",
       "35. 'mv_disc.chron_chr3.log'\n",
       "36. 'mv_disc.chron_chr4.hardy'\n",
       "37. 'mv_disc.chron_chr4.log'\n",
       "38. 'mv_disc.chron_chr5.hardy'\n",
       "39. 'mv_disc.chron_chr5.log'\n",
       "40. 'mv_disc.chron_chr6.hardy'\n",
       "41. 'mv_disc.chron_chr6.log'\n",
       "42. 'mv_disc.chron_chr7.hardy'\n",
       "43. 'mv_disc.chron_chr7.log'\n",
       "44. 'mv_disc.chron_chr8.hardy'\n",
       "45. 'mv_disc.chron_chr8.log'\n",
       "46. 'mv_disc.chron_chr9.hardy'\n",
       "47. 'mv_disc.chron_chr9.log'\n",
       "\n",
       "\n"
      ],
      "text/plain": [
       " [1] \"all_hwe.txt\"               \"HWE_checking.ipynb\"       \n",
       " [3] \"HWE_disc.o4277843\"         \"mv_disc.chron_chr1.hardy\" \n",
       " [5] \"mv_disc.chron_chr1.log\"    \"mv_disc.chron_chr10.hardy\"\n",
       " [7] \"mv_disc.chron_chr10.log\"   \"mv_disc.chron_chr11.hardy\"\n",
       " [9] \"mv_disc.chron_chr11.log\"   \"mv_disc.chron_chr12.hardy\"\n",
       "[11] \"mv_disc.chron_chr12.log\"   \"mv_disc.chron_chr13.hardy\"\n",
       "[13] \"mv_disc.chron_chr13.log\"   \"mv_disc.chron_chr14.hardy\"\n",
       "[15] \"mv_disc.chron_chr14.log\"   \"mv_disc.chron_chr15.hardy\"\n",
       "[17] \"mv_disc.chron_chr15.log\"   \"mv_disc.chron_chr16.hardy\"\n",
       "[19] \"mv_disc.chron_chr16.log\"   \"mv_disc.chron_chr17.hardy\"\n",
       "[21] \"mv_disc.chron_chr17.log\"   \"mv_disc.chron_chr18.hardy\"\n",
       "[23] \"mv_disc.chron_chr18.log\"   \"mv_disc.chron_chr19.hardy\"\n",
       "[25] \"mv_disc.chron_chr19.log\"   \"mv_disc.chron_chr2.hardy\" \n",
       "[27] \"mv_disc.chron_chr2.log\"    \"mv_disc.chron_chr20.hardy\"\n",
       "[29] \"mv_disc.chron_chr20.log\"   \"mv_disc.chron_chr21.hardy\"\n",
       "[31] \"mv_disc.chron_chr21.log\"   \"mv_disc.chron_chr22.hardy\"\n",
       "[33] \"mv_disc.chron_chr22.log\"   \"mv_disc.chron_chr3.hardy\" \n",
       "[35] \"mv_disc.chron_chr3.log\"    \"mv_disc.chron_chr4.hardy\" \n",
       "[37] \"mv_disc.chron_chr4.log\"    \"mv_disc.chron_chr5.hardy\" \n",
       "[39] \"mv_disc.chron_chr5.log\"    \"mv_disc.chron_chr6.hardy\" \n",
       "[41] \"mv_disc.chron_chr6.log\"    \"mv_disc.chron_chr7.hardy\" \n",
       "[43] \"mv_disc.chron_chr7.log\"    \"mv_disc.chron_chr8.hardy\" \n",
       "[45] \"mv_disc.chron_chr8.log\"    \"mv_disc.chron_chr9.hardy\" \n",
       "[47] \"mv_disc.chron_chr9.log\"   "
      ]
     },
     "metadata": {},
     "output_type": "display_data"
    }
   ],
   "source": [
    "list.files()"
   ]
  },
  {
   "cell_type": "code",
   "execution_count": 2,
   "metadata": {
    "collapsed": false
   },
   "outputs": [
    {
     "name": "stderr",
     "output_type": "stream",
     "text": [
      "\n",
      "Attaching package: ‘dplyr’\n",
      "\n",
      "The following objects are masked from ‘package:data.table’:\n",
      "\n",
      "    between, first, last\n",
      "\n",
      "The following objects are masked from ‘package:stats’:\n",
      "\n",
      "    filter, lag\n",
      "\n",
      "The following objects are masked from ‘package:base’:\n",
      "\n",
      "    intersect, setdiff, setequal, union\n",
      "\n"
     ]
    }
   ],
   "source": [
    "library(data.table)\n",
    "library(dplyr)"
   ]
  },
  {
   "cell_type": "code",
   "execution_count": 3,
   "metadata": {
    "collapsed": true
   },
   "outputs": [],
   "source": [
    "chr=21\n",
    "x=fread(paste0(\"mv_disc.chron_chr\",chr,\".hardy\"),header=T,data.table=F)"
   ]
  },
  {
   "cell_type": "code",
   "execution_count": 4,
   "metadata": {
    "collapsed": false
   },
   "outputs": [
    {
     "data": {
      "text/html": [
       "<ol class=list-inline>\n",
       "\t<li>21747</li>\n",
       "\t<li>36645</li>\n",
       "\t<li>36677</li>\n",
       "</ol>\n"
      ],
      "text/latex": [
       "\\begin{enumerate*}\n",
       "\\item 21747\n",
       "\\item 36645\n",
       "\\item 36677\n",
       "\\end{enumerate*}\n"
      ],
      "text/markdown": [
       "1. 21747\n",
       "2. 36645\n",
       "3. 36677\n",
       "\n",
       "\n"
      ],
      "text/plain": [
       "[1] 21747 36645 36677"
      ]
     },
     "metadata": {},
     "output_type": "display_data"
    }
   ],
   "source": [
    "which(x$MIDP<=1e-4)[1:3]"
   ]
  },
  {
   "cell_type": "code",
   "execution_count": 4,
   "metadata": {
    "collapsed": true
   },
   "outputs": [],
   "source": [
    "x=fread(\"all_hwe.txt\",header=T,data.table=F)"
   ]
  },
  {
   "cell_type": "code",
   "execution_count": 5,
   "metadata": {
    "collapsed": false
   },
   "outputs": [
    {
     "data": {
      "text/html": [
       "<table>\n",
       "<thead><tr><th scope=col>#CHROM</th><th scope=col>ID</th><th scope=col>REF</th><th scope=col>ALT</th><th scope=col>HOM_REF_CT</th><th scope=col>HET_REF_CT</th><th scope=col>NONREF_CT</th><th scope=col>O(HET_REF)</th><th scope=col>E(HET_REF)</th><th scope=col>MIDP</th></tr></thead>\n",
       "<tbody>\n",
       "\t<tr><td>10         </td><td>rs568182971</td><td>G          </td><td>A          </td><td>0          </td><td>81         </td><td>264764     </td><td>3.05839e-04</td><td>3.05792e-04</td><td>0.503050   </td></tr>\n",
       "\t<tr><td>10         </td><td>rs566854205</td><td>T          </td><td>C          </td><td>0          </td><td>12         </td><td>263991     </td><td>4.54540e-05</td><td>4.54530e-05</td><td>0.500062   </td></tr>\n",
       "\t<tr><td>10         </td><td>rs112920234</td><td>G          </td><td>T          </td><td>0          </td><td> 9         </td><td>264886     </td><td>3.39757e-05</td><td>3.39751e-05</td><td>0.500034   </td></tr>\n",
       "\t<tr><td>10         </td><td>rs552582111</td><td>A          </td><td>G          </td><td>0          </td><td> 0         </td><td>264794     </td><td>0.00000e+00</td><td>0.00000e+00</td><td>0.500000   </td></tr>\n",
       "\t<tr><td>10         </td><td>rs538292749</td><td>C          </td><td>T          </td><td>0          </td><td> 1         </td><td>264989     </td><td>3.77373e-06</td><td>3.77372e-06</td><td>0.500000   </td></tr>\n",
       "\t<tr><td>10         </td><td>rs554788161</td><td>T          </td><td>C          </td><td>0          </td><td> 0         </td><td>264995     </td><td>0.00000e+00</td><td>0.00000e+00</td><td>0.500000   </td></tr>\n",
       "</tbody>\n",
       "</table>\n"
      ],
      "text/latex": [
       "\\begin{tabular}{r|llllllllll}\n",
       " \\#CHROM & ID & REF & ALT & HOM\\_REF\\_CT & HET\\_REF\\_CT & NONREF\\_CT & O(HET\\_REF) & E(HET\\_REF) & MIDP\\\\\n",
       "\\hline\n",
       "\t 10          & rs568182971 & G           & A           & 0           & 81          & 264764      & 3.05839e-04 & 3.05792e-04 & 0.503050   \\\\\n",
       "\t 10          & rs566854205 & T           & C           & 0           & 12          & 263991      & 4.54540e-05 & 4.54530e-05 & 0.500062   \\\\\n",
       "\t 10          & rs112920234 & G           & T           & 0           &  9          & 264886      & 3.39757e-05 & 3.39751e-05 & 0.500034   \\\\\n",
       "\t 10          & rs552582111 & A           & G           & 0           &  0          & 264794      & 0.00000e+00 & 0.00000e+00 & 0.500000   \\\\\n",
       "\t 10          & rs538292749 & C           & T           & 0           &  1          & 264989      & 3.77373e-06 & 3.77372e-06 & 0.500000   \\\\\n",
       "\t 10          & rs554788161 & T           & C           & 0           &  0          & 264995      & 0.00000e+00 & 0.00000e+00 & 0.500000   \\\\\n",
       "\\end{tabular}\n"
      ],
      "text/markdown": [
       "\n",
       "#CHROM | ID | REF | ALT | HOM_REF_CT | HET_REF_CT | NONREF_CT | O(HET_REF) | E(HET_REF) | MIDP | \n",
       "|---|---|---|---|---|---|\n",
       "| 10          | rs568182971 | G           | A           | 0           | 81          | 264764      | 3.05839e-04 | 3.05792e-04 | 0.503050    | \n",
       "| 10          | rs566854205 | T           | C           | 0           | 12          | 263991      | 4.54540e-05 | 4.54530e-05 | 0.500062    | \n",
       "| 10          | rs112920234 | G           | T           | 0           |  9          | 264886      | 3.39757e-05 | 3.39751e-05 | 0.500034    | \n",
       "| 10          | rs552582111 | A           | G           | 0           |  0          | 264794      | 0.00000e+00 | 0.00000e+00 | 0.500000    | \n",
       "| 10          | rs538292749 | C           | T           | 0           |  1          | 264989      | 3.77373e-06 | 3.77372e-06 | 0.500000    | \n",
       "| 10          | rs554788161 | T           | C           | 0           |  0          | 264995      | 0.00000e+00 | 0.00000e+00 | 0.500000    | \n",
       "\n",
       "\n"
      ],
      "text/plain": [
       "  #CHROM ID          REF ALT HOM_REF_CT HET_REF_CT NONREF_CT O(HET_REF) \n",
       "1 10     rs568182971 G   A   0          81         264764    3.05839e-04\n",
       "2 10     rs566854205 T   C   0          12         263991    4.54540e-05\n",
       "3 10     rs112920234 G   T   0           9         264886    3.39757e-05\n",
       "4 10     rs552582111 A   G   0           0         264794    0.00000e+00\n",
       "5 10     rs538292749 C   T   0           1         264989    3.77373e-06\n",
       "6 10     rs554788161 T   C   0           0         264995    0.00000e+00\n",
       "  E(HET_REF)  MIDP    \n",
       "1 3.05792e-04 0.503050\n",
       "2 4.54530e-05 0.500062\n",
       "3 3.39751e-05 0.500034\n",
       "4 0.00000e+00 0.500000\n",
       "5 3.77372e-06 0.500000\n",
       "6 0.00000e+00 0.500000"
      ]
     },
     "metadata": {},
     "output_type": "display_data"
    }
   ],
   "source": [
    "head(x)"
   ]
  },
  {
   "cell_type": "code",
   "execution_count": 6,
   "metadata": {
    "collapsed": true
   },
   "outputs": [],
   "source": [
    "colnames(x)[1]=\"CHR\""
   ]
  },
  {
   "cell_type": "code",
   "execution_count": 7,
   "metadata": {
    "collapsed": false
   },
   "outputs": [
    {
     "data": {
      "text/plain": [
       "\n",
       "      1       2       3       4       5       6       7       8       9      10 \n",
       "7247102 7978502 6573122 6428255 5959080 5632746 5288275 5186539 3977198 4469448 \n",
       "     11      12      13      14      15      16      17      18      19      20 \n",
       "4541369 4339479 3205056 2972365 2703435 3015875 2594279 2544957 2022956 2038270 \n",
       "     21      22 \n",
       "1228175 1217510 "
      ]
     },
     "metadata": {},
     "output_type": "display_data"
    }
   ],
   "source": [
    "table(x[,1])"
   ]
  },
  {
   "cell_type": "code",
   "execution_count": 8,
   "metadata": {
    "collapsed": false
   },
   "outputs": [
    {
     "data": {
      "text/plain": [
       "\n",
       "   FALSE     TRUE \n",
       "91073182    90811 "
      ]
     },
     "metadata": {},
     "output_type": "display_data"
    }
   ],
   "source": [
    "table(x$MIDP<=1e-4)"
   ]
  },
  {
   "cell_type": "code",
   "execution_count": 9,
   "metadata": {
    "collapsed": true
   },
   "outputs": [],
   "source": [
    "y=fread(\"../MV_Back_Disc_gwas.BGEN.stats.txt\",header=T,data.table = F)"
   ]
  },
  {
   "cell_type": "code",
   "execution_count": 10,
   "metadata": {
    "collapsed": false
   },
   "outputs": [
    {
     "data": {
      "text/html": [
       "<table>\n",
       "<thead><tr><th scope=col>SNP</th><th scope=col>CHR</th><th scope=col>BP</th><th scope=col>GENPOS</th><th scope=col>ALLELE1</th><th scope=col>ALLELE0</th><th scope=col>A1FREQ</th><th scope=col>INFO</th><th scope=col>CHISQ_LINREG</th><th scope=col>P_LINREG</th><th scope=col>BETA</th><th scope=col>SE</th><th scope=col>CHISQ_BOLT_LMM_INF</th><th scope=col>P_BOLT_LMM_INF</th></tr></thead>\n",
       "<tbody>\n",
       "\t<tr><td>rs561109771</td><td>1          </td><td>11063      </td><td>0          </td><td>T          </td><td>G          </td><td>0.999954   </td><td>0.815568   </td><td>0.964743   </td><td>0.33       </td><td> 0.3515530 </td><td>0.3646810  </td><td>0.929296   </td><td>0.34       </td></tr>\n",
       "\t<tr><td>rs562993331</td><td>1          </td><td>13259      </td><td>0          </td><td>G          </td><td>A          </td><td>0.999727   </td><td>0.809836   </td><td>0.618911   </td><td>0.43       </td><td>-0.0297162 </td><td>0.0345345  </td><td>0.740422   </td><td>0.39       </td></tr>\n",
       "</tbody>\n",
       "</table>\n"
      ],
      "text/latex": [
       "\\begin{tabular}{r|llllllllllllll}\n",
       " SNP & CHR & BP & GENPOS & ALLELE1 & ALLELE0 & A1FREQ & INFO & CHISQ\\_LINREG & P\\_LINREG & BETA & SE & CHISQ\\_BOLT\\_LMM\\_INF & P\\_BOLT\\_LMM\\_INF\\\\\n",
       "\\hline\n",
       "\t rs561109771 & 1           & 11063       & 0           & T           & G           & 0.999954    & 0.815568    & 0.964743    & 0.33        &  0.3515530  & 0.3646810   & 0.929296    & 0.34       \\\\\n",
       "\t rs562993331 & 1           & 13259       & 0           & G           & A           & 0.999727    & 0.809836    & 0.618911    & 0.43        & -0.0297162  & 0.0345345   & 0.740422    & 0.39       \\\\\n",
       "\\end{tabular}\n"
      ],
      "text/markdown": [
       "\n",
       "SNP | CHR | BP | GENPOS | ALLELE1 | ALLELE0 | A1FREQ | INFO | CHISQ_LINREG | P_LINREG | BETA | SE | CHISQ_BOLT_LMM_INF | P_BOLT_LMM_INF | \n",
       "|---|---|\n",
       "| rs561109771 | 1           | 11063       | 0           | T           | G           | 0.999954    | 0.815568    | 0.964743    | 0.33        |  0.3515530  | 0.3646810   | 0.929296    | 0.34        | \n",
       "| rs562993331 | 1           | 13259       | 0           | G           | A           | 0.999727    | 0.809836    | 0.618911    | 0.43        | -0.0297162  | 0.0345345   | 0.740422    | 0.39        | \n",
       "\n",
       "\n"
      ],
      "text/plain": [
       "  SNP         CHR BP    GENPOS ALLELE1 ALLELE0 A1FREQ   INFO     CHISQ_LINREG\n",
       "1 rs561109771 1   11063 0      T       G       0.999954 0.815568 0.964743    \n",
       "2 rs562993331 1   13259 0      G       A       0.999727 0.809836 0.618911    \n",
       "  P_LINREG BETA       SE        CHISQ_BOLT_LMM_INF P_BOLT_LMM_INF\n",
       "1 0.33      0.3515530 0.3646810 0.929296           0.34          \n",
       "2 0.43     -0.0297162 0.0345345 0.740422           0.39          "
      ]
     },
     "metadata": {},
     "output_type": "display_data"
    }
   ],
   "source": [
    "head(y,n=2)"
   ]
  },
  {
   "cell_type": "code",
   "execution_count": null,
   "metadata": {
    "collapsed": true
   },
   "outputs": [],
   "source": []
  },
  {
   "cell_type": "code",
   "execution_count": 11,
   "metadata": {
    "collapsed": true
   },
   "outputs": [],
   "source": [
    "ind=which(x[,\"ID\"]%in%y[,\"SNP\"])"
   ]
  },
  {
   "cell_type": "code",
   "execution_count": 12,
   "metadata": {
    "collapsed": false
   },
   "outputs": [
    {
     "data": {
      "text/html": [
       "26218577"
      ],
      "text/latex": [
       "26218577"
      ],
      "text/markdown": [
       "26218577"
      ],
      "text/plain": [
       "[1] 26218577"
      ]
     },
     "metadata": {},
     "output_type": "display_data"
    }
   ],
   "source": [
    "length(ind)"
   ]
  },
  {
   "cell_type": "code",
   "execution_count": 13,
   "metadata": {
    "collapsed": true
   },
   "outputs": [],
   "source": [
    "towrite=x[ind,]"
   ]
  },
  {
   "cell_type": "code",
   "execution_count": 14,
   "metadata": {
    "collapsed": true
   },
   "outputs": [],
   "source": [
    "fwrite(x=towrite,file=\"all_hwe_croped.txt\",sep=\"\\t\")"
   ]
  },
  {
   "cell_type": "code",
   "execution_count": null,
   "metadata": {
    "collapsed": false
   },
   "outputs": [],
   "source": [
    "table(towrite$MIDP<=1e-6)"
   ]
  },
  {
   "cell_type": "code",
   "execution_count": null,
   "metadata": {
    "collapsed": true
   },
   "outputs": [],
   "source": []
  },
  {
   "cell_type": "code",
   "execution_count": null,
   "metadata": {
    "collapsed": true
   },
   "outputs": [],
   "source": []
  },
  {
   "cell_type": "code",
   "execution_count": 5,
   "metadata": {
    "collapsed": false
   },
   "outputs": [
    {
     "data": {
      "text/html": [
       "<table>\n",
       "<thead><tr><th></th><th scope=col>#CHROM</th><th scope=col>ID</th><th scope=col>REF</th><th scope=col>ALT</th><th scope=col>HOM_REF_CT</th><th scope=col>HET_REF_CT</th><th scope=col>NONREF_CT</th><th scope=col>O(HET_REF)</th><th scope=col>E(HET_REF)</th><th scope=col>MIDP</th></tr></thead>\n",
       "<tbody>\n",
       "\t<tr><th scope=row>21747</th><td>21        </td><td>rs1395681 </td><td>A         </td><td>G         </td><td>253548    </td><td>11452     </td><td>0         </td><td>0.0432151 </td><td>0.0422813 </td><td>1.7779e-55</td></tr>\n",
       "</tbody>\n",
       "</table>\n"
      ],
      "text/latex": [
       "\\begin{tabular}{r|llllllllll}\n",
       "  & \\#CHROM & ID & REF & ALT & HOM\\_REF\\_CT & HET\\_REF\\_CT & NONREF\\_CT & O(HET\\_REF) & E(HET\\_REF) & MIDP\\\\\n",
       "\\hline\n",
       "\t21747 & 21         & rs1395681  & A          & G          & 253548     & 11452      & 0          & 0.0432151  & 0.0422813  & 1.7779e-55\\\\\n",
       "\\end{tabular}\n"
      ],
      "text/markdown": [
       "\n",
       "| <!--/--> | #CHROM | ID | REF | ALT | HOM_REF_CT | HET_REF_CT | NONREF_CT | O(HET_REF) | E(HET_REF) | MIDP | \n",
       "|---|\n",
       "| 21747 | 21         | rs1395681  | A          | G          | 253548     | 11452      | 0          | 0.0432151  | 0.0422813  | 1.7779e-55 | \n",
       "\n",
       "\n"
      ],
      "text/plain": [
       "      #CHROM ID        REF ALT HOM_REF_CT HET_REF_CT NONREF_CT O(HET_REF)\n",
       "21747 21     rs1395681 A   G   253548     11452      0         0.0432151 \n",
       "      E(HET_REF) MIDP      \n",
       "21747 0.0422813  1.7779e-55"
      ]
     },
     "metadata": {},
     "output_type": "display_data"
    }
   ],
   "source": [
    "x[21747,]"
   ]
  },
  {
   "cell_type": "code",
   "execution_count": 20,
   "metadata": {
    "collapsed": true
   },
   "outputs": [],
   "source": [
    "out=x[0,]"
   ]
  },
  {
   "cell_type": "code",
   "execution_count": 21,
   "metadata": {
    "collapsed": false
   },
   "outputs": [
    {
     "data": {
      "text/html": [
       "<table>\n",
       "<thead><tr><th scope=col>#CHROM</th><th scope=col>ID</th><th scope=col>REF</th><th scope=col>ALT</th><th scope=col>HOM_REF_CT</th><th scope=col>HET_REF_CT</th><th scope=col>NONREF_CT</th><th scope=col>O(HET_REF)</th><th scope=col>E(HET_REF)</th><th scope=col>MIDP</th></tr></thead>\n",
       "<tbody>\n",
       "</tbody>\n",
       "</table>\n"
      ],
      "text/latex": [
       "\\begin{tabular}{r|llllllllll}\n",
       " \\#CHROM & ID & REF & ALT & HOM\\_REF\\_CT & HET\\_REF\\_CT & NONREF\\_CT & O(HET\\_REF) & E(HET\\_REF) & MIDP\\\\\n",
       "\\hline\n",
       "\\end{tabular}\n"
      ],
      "text/markdown": [
       "\n",
       "#CHROM | ID | REF | ALT | HOM_REF_CT | HET_REF_CT | NONREF_CT | O(HET_REF) | E(HET_REF) | MIDP | \n",
       "||\n",
       "\n",
       "\n"
      ],
      "text/plain": [
       "     #CHROM ID REF ALT HOM_REF_CT HET_REF_CT NONREF_CT O(HET_REF) E(HET_REF)\n",
       "     MIDP"
      ]
     },
     "metadata": {},
     "output_type": "display_data"
    }
   ],
   "source": [
    "out"
   ]
  },
  {
   "cell_type": "code",
   "execution_count": null,
   "metadata": {
    "collapsed": true
   },
   "outputs": [],
   "source": [
    "for (chr in 1:22){\n",
    "    print(chr)\n",
    "    x=fread(paste0(\"mv_disc.chron_chr\",chr,\".hardy\"),header=T,data.table=F)\n",
    "    out=bind_rows(out,x)\n",
    "}"
   ]
  },
  {
   "cell_type": "code",
   "execution_count": 16,
   "metadata": {
    "collapsed": false
   },
   "outputs": [
    {
     "ename": "ERROR",
     "evalue": "Error in eval(expr, envir, enclos): object 'out' not found\n",
     "output_type": "error",
     "traceback": [
      "Error in eval(expr, envir, enclos): object 'out' not found\nTraceback:\n"
     ]
    }
   ],
   "source": [
    "dim(out)"
   ]
  },
  {
   "cell_type": "code",
   "execution_count": null,
   "metadata": {
    "collapsed": true
   },
   "outputs": [],
   "source": [
    "head(out)"
   ]
  },
  {
   "cell_type": "code",
   "execution_count": null,
   "metadata": {
    "collapsed": true
   },
   "outputs": [],
   "source": []
  }
 ],
 "metadata": {
  "anaconda-cloud": {},
  "kernelspec": {
   "display_name": "R",
   "language": "R",
   "name": "ir"
  },
  "language_info": {
   "codemirror_mode": "r",
   "file_extension": ".r",
   "mimetype": "text/x-r-source",
   "name": "R",
   "pygments_lexer": "r",
   "version": "3.5.1"
  }
 },
 "nbformat": 4,
 "nbformat_minor": 2
}
